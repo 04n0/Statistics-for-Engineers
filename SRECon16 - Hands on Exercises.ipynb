{
 "cells": [
  {
   "cell_type": "markdown",
   "metadata": {},
   "source": [
    "# #StatsForEngineers - Hands On Exercises"
   ]
  },
  {
   "cell_type": "markdown",
   "metadata": {},
   "source": [
    "## Getting Started\n",
    "\n",
    "1. Get a free account: http://www.circonus.com/free-account/\n",
    "\n",
    "2. Create a new Graph and add a shared demo metric\n",
    "\n",
    "3. Add an overlay to the graph\n",
    "\n",
    "4. Add the same metric as CAQL datapoint\n",
    "\n",
    "5. Apply some arithmetic: Divide the metric by two."
   ]
  },
  {
   "cell_type": "markdown",
   "metadata": {},
   "source": [
    "## Metric Reference\n",
    "We will use the following metrics:\n",
    "\n",
    "* `XKCD`: circonis-demo xkcd.com -- `duration`\n",
    "* `Visitors`: circonis-demo db1 -- `visitors`\n",
    "* `Latencies1`: circonus-demo json -- `api GET /getAchievements` \n",
    "* `Latencies2`: circonus-demo json -- `api`GET`/getState`"
   ]
  },
  {
   "cell_type": "markdown",
   "metadata": {},
   "source": [
    "## E1: Alert Previews\n",
    "\n",
    "* Use the comparison operators: <,> to preview threshold based alerts."
   ]
  },
  {
   "cell_type": "markdown",
   "metadata": {},
   "source": [
    "## E2: Downtime\n",
    "\n",
    "* Calculate the downtime (missing data) of the XKCD metric over:\n",
    "  - January 2016\n",
    "  - Week 2 in 2016\n",
    "  - 13 February\n",
    "\n",
    "* Change the definition of downtime, to \"request latency > 200ms\". Calculate downtime for this definition."
   ]
  },
  {
   "cell_type": "markdown",
   "metadata": {},
   "source": [
    "## E3: Analyzing Request Rates\n",
    "\n",
    "* Calculate rolling means and windowed means over the visitors metric.\n",
    "\n",
    "* Make a graph that shows how many visitors did you have over the last day / month.\n",
    "\n",
    "* Compare this value to the historic values from 1d-5d ago (Hint: `delay()`)\n",
    "\n",
    "* Calculate the mean value of historic metric context (Hint: `op:sum()`)\n",
    "\n",
    "* Calculate the absolute deviation from the mean value computed above"
   ]
  },
  {
   "cell_type": "markdown",
   "metadata": {},
   "source": [
    "## E4: Analyzing Request Latencies\n",
    "\n",
    "* Plot Latencies1 as a heat map\n",
    "* Calculate the mean and median latency over the `Latencies1` metric, over the last minute,hour,day,week (`histogram:window()`, `histogram:rolling()`)\n",
    "* Calculate the stddev and IQR of Latencies1 over the last minute,hour,day,week\n",
    "* Calculate the 90 percentile of Latencies1 over the last minute,hour,day,week\n",
    "\n",
    "* Aggregate the Latencies1 and Latencies2, and compute the 90,99,99.9 percentile over the last 1h."
   ]
  },
  {
   "cell_type": "markdown",
   "metadata": {},
   "source": [
    "# Appendix: Basic CAQL Commands\n",
    "\n",
    "* `metric:average(uuid, name)`, `metric:histogram(uuid, name)` -- add metric\n",
    "* `is_missing()`\n",
    "* `(X < 20)` -- returns 1 if condition is fulfilled\n",
    "* `rolling:mean(1h)`, `rolling:stddev(1h)`, `rolling:max(1h)` -- rolling ? over 1h\n",
    "* `window:mean(1h)`, `window:stddev(1h)`, `window:max(1h)` -- window ? over 1h\n",
    "* `delay(1M)` delay stream by 1 minute\n",
    "* `histogram()` convert input metric to a histogram\n",
    "\n",
    "For more information see the Reference Manual:\n",
    "https://login.circonus.com/user/docs/caql_reference\n",
    "\n",
    "\n"
   ]
  }
 ],
 "metadata": {
  "anaconda-cloud": {},
  "kernelspec": {
   "display_name": "Python [Root]",
   "language": "python",
   "name": "Python [Root]"
  },
  "language_info": {
   "codemirror_mode": {
    "name": "ipython",
    "version": 2
   },
   "file_extension": ".py",
   "mimetype": "text/x-python",
   "name": "python",
   "nbconvert_exporter": "python",
   "pygments_lexer": "ipython2",
   "version": "2.7.11"
  }
 },
 "nbformat": 4,
 "nbformat_minor": 0
}
