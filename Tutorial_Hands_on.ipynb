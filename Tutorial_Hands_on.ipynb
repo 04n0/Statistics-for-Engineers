{
 "cells": [
  {
   "cell_type": "code",
   "execution_count": null,
   "metadata": {
    "collapsed": true
   },
   "outputs": [],
   "source": [
    "# Hands On Session / Exercises\n",
    "\n",
    "- Parse Log file to csv\n",
    "\n",
    "- Parse output of `prstat` to csv live plot\n",
    "\n",
    "- Convert Histogram Json to csv with jq\n",
    "\n",
    "- Make a peek time regression"
   ]
  }
 ],
 "metadata": {
  "kernelspec": {
   "display_name": "Python 2",
   "language": "python",
   "name": "python2"
  },
  "language_info": {
   "codemirror_mode": {
    "name": "ipython",
    "version": 2
   },
   "file_extension": ".py",
   "mimetype": "text/x-python",
   "name": "python",
   "nbconvert_exporter": "python",
   "pygments_lexer": "ipython2",
   "version": "2.7.9"
  }
 },
 "nbformat": 4,
 "nbformat_minor": 0
}
