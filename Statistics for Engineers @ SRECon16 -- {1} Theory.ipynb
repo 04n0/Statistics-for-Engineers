{
 "cells": [
  {
   "cell_type": "markdown",
   "metadata": {
    "nbpresent": {
     "id": "769dee7d-5d46-414a-8713-fae761d2cd10"
    },
    "slideshow": {
     "slide_type": "slide"
    }
   },
   "source": [
    "# Part 1: Theory\n",
    "\n",
    "Covers the statistical basics, that are needed for the applications in part 2."
   ]
  },
  {
   "cell_type": "markdown",
   "metadata": {
    "nbpresent": {
     "id": "6d170ee1-0905-48d6-9874-c80e01fe9254"
    },
    "slideshow": {
     "slide_type": "slide"
    }
   },
   "source": [
    "# 1.1) Classical Summary Statistics\n",
    "\n",
    "Problem: Given a bunch of datapoints:\n",
    "\n",
    "* Characterize the distribution in one or two values\n",
    "* Characterization should be robust to outliers\n",
    "\n",
    "Equivalent of an elevator pitch for a data sets.\n",
    "\n",
    "Problem: This is impossible. But let's see how far we get!"
   ]
  },
  {
   "cell_type": "markdown",
   "metadata": {
    "nbpresent": {
     "id": "e45021d3-f422-4831-9e82-69a390cdfe53"
    },
    "slideshow": {
     "slide_type": "slide"
    }
   },
   "source": [
    "## The Mean Value\n",
    "\n",
    "The _mean value_ of $X=[x_1, \\dots, x_n]$ is defined as\n",
    "\n",
    "$$ \\mu = mean(X) = \\frac{1}{n} \\sum_{i=1}^n x_i. $$\n",
    "\n",
    "- Represnets center of mass\n",
    "- If the values are close together this is a good representative"
   ]
  },
  {
   "cell_type": "markdown",
   "metadata": {
    "nbpresent": {
     "id": "39e4e070-f2d7-46e3-9119-390081a4aad8"
    },
    "slideshow": {
     "slide_type": "slide"
    }
   },
   "source": [
    "## Calculating Mean Values\n"
   ]
  },
  {
   "cell_type": "code",
   "execution_count": 2,
   "metadata": {
    "collapsed": false,
    "nbpresent": {
     "id": "62191415-9ed5-4a04-a185-7aa74608dd3c"
    }
   },
   "outputs": [],
   "source": [
    "def mean(X):\n",
    "    return float(sum(X)) / len(X)"
   ]
  },
  {
   "cell_type": "code",
   "execution_count": 3,
   "metadata": {
    "collapsed": false,
    "nbpresent": {
     "id": "150f1522-96cb-4ea6-ba08-e9a4acb9554c"
    },
    "slideshow": {
     "slide_type": "skip"
    }
   },
   "outputs": [],
   "source": [
    "import math\n",
    "import numpy as np\n",
    "from matplotlib import pyplot as plt\n",
    "import seaborn as sns\n",
    "%matplotlib inline\n",
    "\n",
    "# Plot\n",
    "def mark(m,height=1,style='r'):\n",
    "    plt.plot([m,m],[0,height],style)\n",
    "\n",
    "def plot_mean(X):\n",
    "    plt.figure(figsize=(14,1))\n",
    "    sns.rugplot(X, color='grey', height=1)\n",
    "    mark(mean(X))"
   ]
  },
  {
   "cell_type": "code",
   "execution_count": 290,
   "metadata": {
    "collapsed": false,
    "nbpresent": {
     "id": "b2380c3b-5081-48f6-99ac-559a95c5f788"
    },
    "slideshow": {
     "slide_type": "slide"
    }
   },
   "outputs": [
    {
     "data": {
      "image/png": "[encoded data removed]",
      "text/plain": [
       "<matplotlib.figure.Figure at 0x120bd9890>"
      ]
     },
     "metadata": {},
     "output_type": "display_data"
    }
   ],
   "source": [
    "# Mean value of some request rates\n",
    "X = np.loadtxt(\"DataSets/RequestRates.csv\", delimiter=\",\")[:,1]\n",
    "plot_mean(X)"
   ]
  },
  {
   "cell_type": "code",
   "execution_count": 5,
   "metadata": {
    "collapsed": false,
    "nbpresent": {
     "id": "5cf4d9c3-24be-4413-b5b0-49d707812f9b"
    },
    "slideshow": {
     "slide_type": "slide"
    }
   },
   "outputs": [
    {
     "data": {
      "image/png": "[encoded data removed]",
      "text/plain": [
       "<matplotlib.figure.Figure at 0x11b7dcc50>"
      ]
     },
     "metadata": {},
     "output_type": "display_data"
    }
   ],
   "source": [
    "# Mean values can be atypical\n",
    "plot_mean([1,2,0.4,1.2,100,110,112])"
   ]
  },
  {
   "cell_type": "code",
   "execution_count": 6,
   "metadata": {
    "collapsed": false,
    "nbpresent": {
     "id": "65e09989-9612-481f-8650-825d5477de01"
    },
    "slideshow": {
     "slide_type": "slide"
    }
   },
   "outputs": [
    {
     "data": {
      "text/plain": [
       "(500, 2200)"
      ]
     },
     "execution_count": 6,
     "metadata": {},
     "output_type": "execute_result"
    },
    {
     "data": {
      "image/png": "[encoded data removed]",
      "text/plain": [
       "<matplotlib.figure.Figure at 0x11e440710>"
      ]
     },
     "metadata": {},
     "output_type": "display_data"
    }
   ],
   "source": [
    "# Mean values are easily affected by outliers\n",
    "plot_mean(np.append(X,[50000]))\n",
    "plt.xlim([500,2200])"
   ]
  },
  {
   "cell_type": "markdown",
   "metadata": {
    "collapsed": true,
    "slideshow": {
     "slide_type": "slide"
    }
   },
   "source": [
    "# Mean values are mergable\n",
    "\n",
    "Mean values can be aggregated, as follows:\n",
    "\n",
    "Let $X$ and $Y$ be two datasets of size $len(X)=n$ and $len(Y)=m$.\n",
    "Denote the merged dataset by \n",
    "\n",
    "$$merge(X, Y) = [X[1],...,X[n], Y[1],...,Y[m]].$$\n",
    "\n",
    "Then the mean value of the merged dataset can be expressed as:\n",
    "\n",
    "$$mean(merge(X,Y)) = \\frac{n}{n+m} \\cdot mean(X) + \\frac{m}{n+m} \\cdot mean(Y)$$\n",
    "\n",
    "Remarks:\n",
    "\n",
    "* Expressions of the form $\\sum w_i X[i]$, with $\\sum w_i = 1$ are called _weighted means_.\n",
    "\n",
    "* We have just seen that the means of merged datasets can be recoverd as weighted mean over their mean value.\n",
    "\n",
    "* Exercise: How do you aggregate a greater number of sample sets: $X_1, ..., X_k$ ?"
   ]
  },
  {
   "cell_type": "code",
   "execution_count": 45,
   "metadata": {
    "collapsed": false,
    "slideshow": {
     "slide_type": "slide"
    }
   },
   "outputs": [
    {
     "name": "stdout",
     "output_type": "stream",
     "text": [
      "RHS 5.4\n",
      "LHS 5.4\n"
     ]
    }
   ],
   "source": [
    "# Test\n",
    "\n",
    "print \"RHS\", mean([1,2,3,10,11])\n",
    "print \"LHS\", (3*mean([1,2,3]) + 2*mean([10,11]))/5"
   ]
  },
  {
   "cell_type": "markdown",
   "metadata": {
    "slideshow": {
     "slide_type": "slide"
    }
   },
   "source": [
    "## Take Aways\n",
    "\n",
    "* Mean values are an important technique for summarizing data\n",
    "\n",
    "* Mean values can be easily disturbed by outliers.  \n",
    "  We will meet robust alternatives (e.g. median) later.\n",
    "\n",
    "* Mean values are _mergable_"
   ]
  },
  {
   "cell_type": "markdown",
   "metadata": {
    "slideshow": {
     "slide_type": "slide"
    }
   },
   "source": [
    "# Deviation Measures\n",
    "\n",
    "1. The _maximal deviation_ is defined as\n",
    "\n",
    "$$ maxdev(x_1,\\dots,x_n) = max \\{ |x_i - \\mu| \\,|\\, i=1,\\dots,n\\}.$$\n",
    "\n",
    "2. The _mean absolute deviation_ is defined as\n",
    "\n",
    "$$ mad(x_1,\\dots,x_n) = \\frac{1}{n} \\sum_{i=1}^n |x_i - \\mu|.$$\n",
    "\n",
    "3. The _standard deviation_ is defined as\n",
    "\n",
    "$$ \\sigma = stddev(x_1,\\dots,x_n) =  \\sqrt{\\frac{1}{n} \\sum_{i=1}^n (x_i - \\mu)^2}.$$\n",
    "\n",
    "\n",
    "* Measure the 'typical' displacement from the mean value.\n",
    "* Standard deviation is popular because it has extremely nice mathematical properties."
   ]
  },
  {
   "cell_type": "code",
   "execution_count": 46,
   "metadata": {
    "collapsed": true,
    "slideshow": {
     "slide_type": "slide"
    }
   },
   "outputs": [],
   "source": [
    "def max_dev(X):\n",
    "    m = mean(X)\n",
    "    return max(abs(x - m) for x in X)\n",
    "\n",
    "def mad(X):\n",
    "    m = mean(X)\n",
    "    return sum(abs(x - m) for x in X) / float(len(X))\n",
    "\n",
    "def stddev(X):\n",
    "    m = mean(X)\n",
    "    return math.pow(sum((x - m)**2 for x in X) / len(X), 0.5)"
   ]
  },
  {
   "cell_type": "code",
   "execution_count": 47,
   "metadata": {
    "collapsed": true,
    "slideshow": {
     "slide_type": "skip"
    }
   },
   "outputs": [],
   "source": [
    "# Plotting helper function\n",
    "def plot_mean_dev(X, m, s, new_canvas=True):\n",
    "    print \"mean = \", m\n",
    "    print \"dev  = \", s\n",
    "    if new_canvas: plt.figure(figsize=(14,1))\n",
    "    sns.rugplot(X, color='grey', height=0.5)\n",
    "    plt.plot([m,m],[0,1],'r-' )\n",
    "    plt.plot([m-s,m-s],[0,1],'b-')\n",
    "    plt.plot([m+s,m+s],[0,1],'b-')\n",
    "    plt.plot([m-s,m+s],[0.5,0.5],'b--')\n",
    "    if new_canvas: plt.show()"
   ]
  },
  {
   "cell_type": "code",
   "execution_count": 48,
   "metadata": {
    "collapsed": false,
    "slideshow": {
     "slide_type": "slide"
    }
   },
   "outputs": [
    {
     "name": "stdout",
     "output_type": "stream",
     "text": [
      "Maximal deviation\n",
      "mean =  1316.30863471\n",
      "dev  =  738.072957089\n"
     ]
    },
    {
     "data": {
      "image/png": "[encoded data removed]",
      "text/plain": [
       "<matplotlib.figure.Figure at 0x12384e1d0>"
      ]
     },
     "metadata": {},
     "output_type": "display_data"
    },
    {
     "name": "stdout",
     "output_type": "stream",
     "text": [
      "Standard Deviation\n",
      "mean =  1316.30863471\n",
      "dev  =  374.572363954\n"
     ]
    },
    {
     "data": {
      "image/png": "[encoded data removed]",
      "text/plain": [
       "<matplotlib.figure.Figure at 0x11e940e90>"
      ]
     },
     "metadata": {},
     "output_type": "display_data"
    },
    {
     "name": "stdout",
     "output_type": "stream",
     "text": [
      "Mean Absolute Deviation\n",
      "mean =  1316.30863471\n",
      "dev  =  327.4656915\n"
     ]
    },
    {
     "data": {
      "image/png": "[encoded data removed]",
      "text/plain": [
       "<matplotlib.figure.Figure at 0x11e90bf50>"
      ]
     },
     "metadata": {},
     "output_type": "display_data"
    }
   ],
   "source": [
    "X = np.loadtxt(\"DataSets/RequestRates.csv\", delimiter=\",\")[:,1]\n",
    "    \n",
    "print \"Maximal deviation\"\n",
    "plot_mean_dev(X,mean(X),max_dev(X))\n",
    "\n",
    "print \"Standard Deviation\"\n",
    "plot_mean_dev(X,mean(X),stddev(X))\n",
    "\n",
    "print \"Mean Absolute Deviation\"\n",
    "plot_mean_dev(X,mean(X),mad(X))"
   ]
  },
  {
   "cell_type": "code",
   "execution_count": 49,
   "metadata": {
    "collapsed": false,
    "slideshow": {
     "slide_type": "slide"
    }
   },
   "outputs": [
    {
     "name": "stdout",
     "output_type": "stream",
     "text": [
      "mean =  0.0434588558476\n",
      "dev  =  1.00890270084\n"
     ]
    },
    {
     "data": {
      "image/png": "[encoded data removed]",
      "text/plain": [
       "<matplotlib.figure.Figure at 0x11e440850>"
      ]
     },
     "metadata": {},
     "output_type": "display_data"
    }
   ],
   "source": [
    "# Standard deviation is a good deviation for normal distributed data\n",
    "X = [ np.random.normal() for x in range(500) ]\n",
    "plot_mean_dev(X,mean(X),stddev(X))"
   ]
  },
  {
   "cell_type": "code",
   "execution_count": 50,
   "metadata": {
    "collapsed": false,
    "slideshow": {
     "slide_type": "slide"
    }
   },
   "outputs": [
    {
     "name": "stdout",
     "output_type": "stream",
     "text": [
      "Maximal deviation\n",
      "mean =  0.442573708431\n",
      "dev  =  199.557426292\n"
     ]
    },
    {
     "data": {
      "image/png": "[encoded data removed]",
      "text/plain": [
       "<matplotlib.figure.Figure at 0x123a9c4d0>"
      ]
     },
     "metadata": {},
     "output_type": "display_data"
    },
    {
     "name": "stdout",
     "output_type": "stream",
     "text": [
      "Standard Deviation\n",
      "mean =  0.442573708431\n",
      "dev  =  8.98121293201\n"
     ]
    },
    {
     "data": {
      "image/png": "[encoded data removed]",
      "text/plain": [
       "<matplotlib.figure.Figure at 0x123a9cdd0>"
      ]
     },
     "metadata": {},
     "output_type": "display_data"
    },
    {
     "name": "stdout",
     "output_type": "stream",
     "text": [
      "Mean Absolute Deviation\n",
      "mean =  0.442573708431\n",
      "dev  =  1.25622026616\n"
     ]
    },
    {
     "data": {
      "image/png": "[encoded data removed]",
      "text/plain": [
       "<matplotlib.figure.Figure at 0x11f6f2350>"
      ]
     },
     "metadata": {},
     "output_type": "display_data"
    }
   ],
   "source": [
    "# Large effect on Outliers\n",
    "X = X + [200]\n",
    "\n",
    "print \"Maximal deviation\"\n",
    "plot_mean_dev(X,mean(X),max_dev(X))\n",
    "\n",
    "print \"Standard Deviation\"\n",
    "plot_mean_dev(X,mean(X),stddev(X))\n",
    "\n",
    "print \"Mean Absolute Deviation\"\n",
    "plot_mean_dev(X,mean(X),mad(X))"
   ]
  },
  {
   "cell_type": "markdown",
   "metadata": {
    "collapsed": true,
    "slideshow": {
     "slide_type": "slide"
    }
   },
   "source": [
    "## Caution with Standard Deviation\n",
    "\n",
    "- Everybody Learns about standard deviation in school\n",
    "- Beautiful mathematical properties!\n",
    "- Everybody knows \n",
    "  - \"68% of data falls within 1 std-dev of the mean\"\n",
    "  - \"95% falls within 2 std-dev of the mean\"\n",
    "  - \"99.7\" falls within 3 std-dev of the mean\"\n",
    "* \"Problem is: this is utter nonsense\". Only true for normally distributed data.\n",
    "\n",
    "* Not good for measuring outliers!\n",
    "\n",
    "\n",
    "_Source:_ Janert - Data Analysis with Open Source Tools"
   ]
  },
  {
   "cell_type": "markdown",
   "metadata": {
    "slideshow": {
     "slide_type": "slide"
    }
   },
   "source": [
    "## War Story:\n",
    "\n",
    "- Looking at SLA for DB response times\n",
    "- Outlier defined as value larger than $\\mu + 3\\sigma$\n",
    "- Look at code: Takes '0.3' percentile!\n",
    "- So always have outliers.\n",
    "- And 0.3-percentile was way too large (hours of latency).\n",
    "- Programmer changed code for 1%, 5%, 10% quantiles.\n",
    "- Finally handcoded a threshold\n",
    "- The SLA was never changed\n",
    "\n",
    "Source: Janert - Data Analysis with Open Source Tools"
   ]
  },
  {
   "cell_type": "markdown",
   "metadata": {
    "slideshow": {
     "slide_type": "slide"
    }
   },
   "source": [
    "## Takeaway\n",
    "\n",
    "* Don't use the standard-deviation if you can avoid it\n",
    "* If you need a deviation measure use MAD or IQR (cf. later):\n",
    "  - Simple to calculate\n",
    "  - Simple to interpret\n",
    "  - Not mergable"
   ]
  },
  {
   "cell_type": "markdown",
   "metadata": {
    "slideshow": {
     "slide_type": "slide"
    }
   },
   "source": [
    "# 1.2) Percentiles"
   ]
  },
  {
   "cell_type": "markdown",
   "metadata": {},
   "source": [
    "* Classical summary statistics good for describing the body of the distribution\n",
    "* Need information about the tail of the distributions, e.g. for writing good SLAs\n",
    "* Determine outliers in a dataset"
   ]
  },
  {
   "cell_type": "markdown",
   "metadata": {
    "slideshow": {
     "slide_type": "slide"
    }
   },
   "source": [
    "## Inverse Percentiles\n",
    "\n",
    "The inverse percentile y of a dataset $X$, is defined as:\n",
    "\n",
    "$$ IP(y, X) = \\# \\{ i \\, | \\, x_i \\leq y \\} / \\# X * 100 $$\n",
    "\n",
    "So IP(y, X) = the percentage of samples that are lower than $y$.\n",
    "\n",
    "**Properties**\n",
    "\n",
    "* $0 \\leq IP(y, X) \\leq 100$, dimensionless percentage value\n",
    "* $IP$ is monotonically increasing in $y$"
   ]
  },
  {
   "cell_type": "code",
   "execution_count": 338,
   "metadata": {
    "collapsed": true
   },
   "outputs": [],
   "source": [
    "def IP(y,X):\n",
    "    lower_count = 0\n",
    "    for x in X:\n",
    "        if x <= y: lower_count += 1\n",
    "    return float(lower_count) / len(X)"
   ]
  },
  {
   "cell_type": "code",
   "execution_count": 226,
   "metadata": {
    "collapsed": false,
    "slideshow": {
     "slide_type": "slide"
    }
   },
   "outputs": [
    {
     "data": {
      "text/plain": [
       "<matplotlib.axes._subplots.AxesSubplot at 0x124609210>"
      ]
     },
     "execution_count": 226,
     "metadata": {},
     "output_type": "execute_result"
    },
    {
     "data": {
      "image/png": "[encoded data removed]",
      "text/plain": [
       "<matplotlib.figure.Figure at 0x121aae7d0>"
      ]
     },
     "metadata": {},
     "output_type": "display_data"
    }
   ],
   "source": [
    "# Example\n",
    "import matplotlib as mpl\n",
    "mpl.rcParams['figure.figsize'] = (15,5)\n",
    "X = np.loadtxt(\"DataSets/RequestRates.csv\", delimiter=\",\")[:,1]\n",
    "\n",
    "grid = np.linspace(0,3000,100)\n",
    "plt.figure(figsize=(20,5))\n",
    "plt.plot(grid, [IP(y,X) for y in grid])\n",
    "plt.title(\"Inverse Percentiles\")\n",
    "sns.rugplot(X)"
   ]
  },
  {
   "cell_type": "markdown",
   "metadata": {
    "slideshow": {
     "slide_type": "slide"
    }
   },
   "source": [
    "## Percentiles\n",
    "\n",
    "* Complement or Inverse to Inverse Percentiles:\n",
    "  - IP: The ratio of samples was below a value $y$ was $?\\%$\n",
    "  - Percentile: 90% of all queries where faster than $?$\n",
    "\n",
    "* The definition is a little involved so cover examples first\n",
    "\n",
    "Examples:\n",
    "\n",
    "* The minimum is a 0%-percentile\n",
    "* A median is a 50%-percentile\n",
    "* The maximum is a 100%-percentile\n",
    "\n",
    "Special names:\n",
    "\n",
    "* Quartiles: $0,25,50,75,100$%-percentiles\n",
    "* Quantiles: The $r$-quantile is the $r*100$-percentile $0<r<1$."
   ]
  },
  {
   "cell_type": "markdown",
   "metadata": {
    "slideshow": {
     "slide_type": "slide"
    }
   },
   "source": [
    "## Medians\n",
    "\n",
    "A _median value_ for $x_1, \\dots, x_n$ is number $m$ such that\n",
    "  \n",
    " $$ \\# \\{ i \\,|\\, x_i \\lt m \\} = \\# \\{ i \\,|\\, x_i \\gt m \\}. $$\n",
    "\n",
    "So the number of samples smaller than $m$ is equal to the number of samples larger than $m$.\n",
    "(Both should be roughly $n/2$).\n",
    "  \n",
    "Remark:\n",
    "\n",
    "* A Median always exists\n",
    "* Median is not always unique (When is it?)\n",
    "* Can be computed in linear time (using quickselect) like the mean"
   ]
  },
  {
   "cell_type": "code",
   "execution_count": 339,
   "metadata": {
    "collapsed": true
   },
   "outputs": [],
   "source": [
    "# Computation of the median\n",
    "\n",
    "#TODO? Implement Check median?\n",
    "\n",
    "def median_range(X):\n",
    "    S = sorted(X)\n",
    "    n = len(X) # S[0] < ... < S[n-1]\n",
    "    lower_mid = int(math.floor((n-1)/2.))\n",
    "    upper_mid = int(math.ceil((n-1)/2.))\n",
    "    return (S[lower_mid], S[upper_mid])"
   ]
  },
  {
   "cell_type": "code",
   "execution_count": 340,
   "metadata": {
    "collapsed": true,
    "slideshow": {
     "slide_type": "skip"
    }
   },
   "outputs": [],
   "source": [
    "def plot_median_range(X):\n",
    "    plt.figure(figsize=(14,1))\n",
    "    a, b = median_range(X)\n",
    "    sns.rugplot(X, color=\"green\", height=0.5)\n",
    "    plt.plot([a,a],[0.5,1],'r-')\n",
    "    plt.plot([b,b],[0.5,1],'r-')\n",
    "    plt.plot([a,b],[0.5,0.5],'r--')\n",
    "    plt.title(\"Median Range: {:.3f} .. {:,.3f}\".format(p, a,b))\n",
    "    plt.ylim([0,1])"
   ]
  },
  {
   "cell_type": "code",
   "execution_count": 225,
   "metadata": {
    "collapsed": false,
    "slideshow": {
     "slide_type": "slide"
    }
   },
   "outputs": [
    {
     "data": {
      "image/png": "[encoded data removed]",
      "text/plain": [
       "<matplotlib.figure.Figure at 0x1215fbe50>"
      ]
     },
     "metadata": {},
     "output_type": "display_data"
    }
   ],
   "source": [
    "plot_median_range([1,2,3])"
   ]
  },
  {
   "cell_type": "code",
   "execution_count": 172,
   "metadata": {
    "collapsed": false,
    "slideshow": {
     "slide_type": "slide"
    }
   },
   "outputs": [
    {
     "data": {
      "image/png": "[encoded data removed]",
      "text/plain": [
       "<matplotlib.figure.Figure at 0x121664410>"
      ]
     },
     "metadata": {},
     "output_type": "display_data"
    }
   ],
   "source": [
    "plot_median_range([1,2,3,4])"
   ]
  },
  {
   "cell_type": "code",
   "execution_count": 142,
   "metadata": {
    "collapsed": false,
    "slideshow": {
     "slide_type": "slide"
    }
   },
   "outputs": [
    {
     "name": "stdout",
     "output_type": "stream",
     "text": [
      "Median range (1398.07824707031, 1401.24816894531)\n"
     ]
    },
    {
     "data": {
      "image/png": "[encoded data removed]",
      "text/plain": [
       "<matplotlib.figure.Figure at 0x121cb47d0>"
      ]
     },
     "metadata": {},
     "output_type": "display_data"
    }
   ],
   "source": [
    "print \"Median range\", median_range(X)\n",
    "plot_median_range(X)"
   ]
  },
  {
   "cell_type": "code",
   "execution_count": 143,
   "metadata": {
    "collapsed": false,
    "slideshow": {
     "slide_type": "slide"
    }
   },
   "outputs": [
    {
     "name": "stdout",
     "output_type": "stream",
     "text": [
      "Median range (1401.24816894531, 1401.24816894531)\n"
     ]
    },
    {
     "data": {
      "image/png": "[encoded data removed]",
      "text/plain": [
       "<matplotlib.figure.Figure at 0x11e705310>"
      ]
     },
     "metadata": {},
     "output_type": "display_data"
    }
   ],
   "source": [
    "XO=np.append(X,[10000])\n",
    "print \"Median range\", median_range(XO)\n",
    "plot_median_range(XO)\n",
    "plt.xlim(800,2200)\n",
    "plt.show()"
   ]
  },
  {
   "cell_type": "markdown",
   "metadata": {
    "slideshow": {
     "slide_type": "slide"
    }
   },
   "source": [
    "# Truncated Means"
   ]
  },
  {
   "cell_type": "markdown",
   "metadata": {
    "slideshow": {
     "slide_type": "slide"
    }
   },
   "source": [
    "# General Definition of Percentiles\n",
    "\n",
    "Pick a number $0\\leq p \\leq 100$. A $p$%-percentile for $X$ is a value $y$ such that,\n",
    "\n",
    "$$ \\#\\{i \\,|\\, X[i] \\lt y \\} \\leq \\frac{p}{100} \\cdot n $$\n",
    "\n",
    "and\n",
    "\n",
    "$$ \\#\\{i \\,|\\, X[i] \\gt y \\} \\leq \\frac{100-p}{100} \\cdot n $$\n",
    "\n",
    "Roughly speaking, $y$ divides $X$ in $p\\%$ samples that are lower than $y$ and $(100-p)\\%$ samples that are larger than $y$.\n",
    "\n",
    "Remarks:\n",
    "\n",
    "* Quantiles always exists\n",
    "* Non unique (like median)\n",
    "* Lot's of ways to choose a quantile function, i.e. interpolate between $s_a$ and $s_b$ cf.  \n",
    "  http://en.wikipedia.org/wiki/Quantile#Estimating_the_quantiles_of_a_population"
   ]
  },
  {
   "cell_type": "code",
   "execution_count": 341,
   "metadata": {
    "collapsed": false,
    "slideshow": {
     "slide_type": "slide"
    }
   },
   "outputs": [],
   "source": [
    "# Computation of Quantiles\n",
    "\n",
    "def percentile_range(p,X):\n",
    "    q = p/100.0\n",
    "    S = sorted(X)\n",
    "    n = len(X)\n",
    "    upper_d = int(math.ceil(q * (n + 1)))\n",
    "    lower_d = int(math.floor(q * (n + 1)))\n",
    "    # edge cases\n",
    "    if upper_d == 0:   upper_d = 1\n",
    "    if upper_d == n+1: upper_d = n\n",
    "    if lower_d == 0:   lower_d = 1\n",
    "    if lower_d == n+1: lower_d = n\n",
    "    return (S[lower_d-1], S[upper_d-1])\n",
    "\n",
    "def percentile(p,X):\n",
    "    a,b = percentile_range(p,X)\n",
    "    return (a+b)/2 # mid point percentile. One choice!\n"
   ]
  },
  {
   "cell_type": "code",
   "execution_count": 342,
   "metadata": {
    "collapsed": true,
    "slideshow": {
     "slide_type": "skip"
    }
   },
   "outputs": [],
   "source": [
    "def mark_range(a,b):\n",
    "    plt.plot([a,a],[0.5,1],'r-')\n",
    "    plt.plot([b,b],[0.5,1],'r-')\n",
    "    plt.plot([a,b],[0.75,0.75],'r--')\n",
    "\n",
    "def plot_percentile_range(p,X):\n",
    "    plt.figure(figsize=(14,2))\n",
    "    sns.rugplot(X, color=\"green\", height=0.5)\n",
    "    a,b = percentile_range(p,X)\n",
    "    mark_range(a,b)\n",
    "    plt.title(\"{:n}%-Percentile Range: {:.3f} .. {:,.3f}\".format(p, a,b))\n",
    "    plt.ylim([0,1])"
   ]
  },
  {
   "cell_type": "code",
   "execution_count": 343,
   "metadata": {
    "collapsed": false,
    "slideshow": {
     "slide_type": "slide"
    }
   },
   "outputs": [
    {
     "data": {
      "image/png": "[encoded data removed]",
      "text/plain": [
       "<matplotlib.figure.Figure at 0x120b99e10>"
      ]
     },
     "metadata": {},
     "output_type": "display_data"
    }
   ],
   "source": [
    "plot_percentile_range(50,[1,2,3,4])"
   ]
  },
  {
   "cell_type": "code",
   "execution_count": 344,
   "metadata": {
    "collapsed": false,
    "slideshow": {
     "slide_type": "slide"
    }
   },
   "outputs": [
    {
     "data": {
      "image/png": "[encoded data removed]",
      "text/plain": [
       "<matplotlib.figure.Figure at 0x120bd4950>"
      ]
     },
     "metadata": {},
     "output_type": "display_data"
    }
   ],
   "source": [
    "plot_percentile_range(40,[1,2,3,4])"
   ]
  },
  {
   "cell_type": "code",
   "execution_count": 345,
   "metadata": {
    "collapsed": false,
    "slideshow": {
     "slide_type": "slide"
    }
   },
   "outputs": [
    {
     "data": {
      "image/png": "[encoded data removed]",
      "text/plain": [
       "<matplotlib.figure.Figure at 0x121fa3950>"
      ]
     },
     "metadata": {},
     "output_type": "display_data"
    }
   ],
   "source": [
    "plot_percentile_range(90,X)"
   ]
  },
  {
   "cell_type": "markdown",
   "metadata": {
    "slideshow": {
     "slide_type": "slide"
    }
   },
   "source": [
    "# IQR and Outliers\n",
    "\n",
    "The interquartile range of a sample X is defined as:\n",
    "\n",
    "`IQR(X) = P(75,X) - P(25,X)`\n",
    "\n",
    "It is a robust measure for variance of the data. Good alternative to standard / mean deviation.\n",
    "\n",
    "**Def.** (Tukey, 1969) a k-outlier is a data point X which is either\n",
    "\n",
    "* larger than `P(75) + k * IQR(X)` or\n",
    "* smaller than `P(25) - k * IQR(X)`.\n",
    "\n",
    "An outlier (without k) is an 1.5-outlier."
   ]
  },
  {
   "cell_type": "code",
   "execution_count": 291,
   "metadata": {
    "collapsed": true,
    "slideshow": {
     "slide_type": "slide"
    }
   },
   "outputs": [],
   "source": [
    "def IQR(X): return percentile(75,X) - percentile(0.25,X)\n",
    "\n",
    "def outliers(X, k=1.5):\n",
    "    iqr = IQR(X)\n",
    "    lower_bound = percentile(25,X) - k * iqr\n",
    "    upper_bound = percentile(75,X) + k * iqr\n",
    "    out = []\n",
    "    for x in X:\n",
    "        if x < lower_bound: out.append(x)\n",
    "        if x > upper_bound: out.append(x)\n",
    "    return out"
   ]
  },
  {
   "cell_type": "code",
   "execution_count": 297,
   "metadata": {
    "collapsed": false,
    "slideshow": {
     "slide_type": "skip"
    }
   },
   "outputs": [],
   "source": [
    "def outlier_plot(X):\n",
    "    plt.figure(figsize=(14,2))\n",
    "    sns.rugplot(X, color=\"green\", height=0.5)\n",
    "    a,b = percentile(25,X), percentile(75,X)\n",
    "    O = outliers(X)\n",
    "    print \"IQR:\", b-a\n",
    "    print \"Outlier count:\", len(O)\n",
    "    mark_range(a,b)\n",
    "    for o in O:\n",
    "        plt.plot([o,o],[0.7,0.8],'b--')\n",
    "    plt.ylim([0,1])"
   ]
  },
  {
   "cell_type": "code",
   "execution_count": 298,
   "metadata": {
    "collapsed": false,
    "slideshow": {
     "slide_type": "slide"
    }
   },
   "outputs": [
    {
     "name": "stdout",
     "output_type": "stream",
     "text": [
      "IQR: 725.891693115\n",
      "Outlier count: 0\n"
     ]
    },
    {
     "data": {
      "image/png": "[encoded data removed]",
      "text/plain": [
       "<matplotlib.figure.Figure at 0x121cb4cd0>"
      ]
     },
     "metadata": {},
     "output_type": "display_data"
    }
   ],
   "source": [
    "outlier_plot(X)"
   ]
  },
  {
   "cell_type": "code",
   "execution_count": 299,
   "metadata": {
    "collapsed": false,
    "slideshow": {
     "slide_type": "slide"
    }
   },
   "outputs": [
    {
     "name": "stdout",
     "output_type": "stream",
     "text": [
      "IQR: 11.6\n",
      "Outlier count: 9\n"
     ]
    },
    {
     "data": {
      "image/png": "[encoded data removed]",
      "text/plain": [
       "<matplotlib.figure.Figure at 0x121d98050>"
      ]
     },
     "metadata": {},
     "output_type": "display_data"
    }
   ],
   "source": [
    "Y = np.genfromtxt(\"DataSets/WebLatency.csv\", delimiter=\",\")[:,2][:100]\n",
    "outlier_plot(Y)"
   ]
  },
  {
   "cell_type": "markdown",
   "metadata": {
    "slideshow": {
     "slide_type": "slide"
    }
   },
   "source": [
    "# Tukey's Boxplots\n",
    "\n",
    "Show:\n",
    "\n",
    "* Median\n",
    "* Box around 0.25 and 0.75 Quantiles\n",
    "* \"whiskers\" from min to max\n",
    "* points for outliers\n",
    "\n",
    "Allows visual clues:\n",
    "\n",
    "* Where is the data concentracted?\n",
    "* How far is it spread?\n",
    "* How skew is the data?"
   ]
  },
  {
   "cell_type": "code",
   "execution_count": 310,
   "metadata": {
    "collapsed": false,
    "slideshow": {
     "slide_type": "slide"
    }
   },
   "outputs": [
    {
     "data": {
      "image/png": "[encoded data removed]",
      "text/plain": [
       "<matplotlib.figure.Figure at 0x121a5b590>"
      ]
     },
     "metadata": {},
     "output_type": "display_data"
    }
   ],
   "source": [
    "# Tukey Boxplots show outliers as 'points' outside the whiskers\n",
    "\n",
    "# Web-request dataset\n",
    "plt.figure(figsize=(15,1))\n",
    "sns.boxplot(x=X, vert=False)\n",
    "sns.rugplot(X)\n",
    "plt.show()"
   ]
  },
  {
   "cell_type": "code",
   "execution_count": 311,
   "metadata": {
    "collapsed": false,
    "slideshow": {
     "slide_type": "slide"
    }
   },
   "outputs": [
    {
     "data": {
      "image/png": "[encoded data removed]",
      "text/plain": [
       "<matplotlib.figure.Figure at 0x11f5e1fd0>"
      ]
     },
     "metadata": {},
     "output_type": "display_data"
    }
   ],
   "source": [
    "# Latency Dataset\n",
    "\n",
    "plt.figure(figsize=(15,1))\n",
    "sns.boxplot(x=Y, vert=False)\n",
    "sns.rugplot(Y)\n",
    "plt.show()"
   ]
  },
  {
   "cell_type": "code",
   "execution_count": 312,
   "metadata": {
    "collapsed": false,
    "slideshow": {
     "slide_type": "slide"
    }
   },
   "outputs": [
    {
     "data": {
      "image/png": "[encoded data removed]",
      "text/plain": [
       "<matplotlib.figure.Figure at 0x120b303d0>"
      ]
     },
     "metadata": {},
     "output_type": "display_data"
    }
   ],
   "source": [
    "# Normal data\n",
    "N = [np.random.normal() for x in xrange(100)]\n",
    "\n",
    "# Add outlier\n",
    "NO = N + [7]\n",
    "\n",
    "plt.figure(figsize=(15,1))\n",
    "sns.rugplot(NO)\n",
    "sns.boxplot(x=NO, vert=False).set_xlim(-10,10)\n",
    "plt.show()\n",
    "\n",
    "# Note, that IQR and Median are not affected by the outlier!"
   ]
  },
  {
   "cell_type": "markdown",
   "metadata": {
    "slideshow": {
     "slide_type": "slide"
    }
   },
   "source": [
    "# 1.3) Histograms\n",
    "\n",
    "* Basic Idea: Use area to compare sample ratios, instead of point counts\n",
    "* Easier to answer questios like: \"How many voters are older than 30, when presented with a histogram, than a table or a rugplot.\"\n",
    "* Both a visualization method and a data-storage format"
   ]
  },
  {
   "cell_type": "markdown",
   "metadata": {
    "slideshow": {
     "slide_type": "slide"
    }
   },
   "source": [
    "# Building your own Histogram\n",
    "\n",
    "1. Define value range of histogram `bin_min`, `bin_max`\n",
    "2. Divide range into bins `bin[k], ..., bin[k]`\n",
    "3. The bins may have variying width \n",
    "4. Count the number of samples in each bin `sample_count[k]`\n",
    "5. Draw a rectangle for each bin with height:\n",
    "   - `h[k] = sample_count[k]` -- non normalized \n",
    "   - `h[k] = sample_count[k] / bin_width[k]` -- normalized case"
   ]
  },
  {
   "cell_type": "code",
   "execution_count": 316,
   "metadata": {
    "collapsed": false,
    "slideshow": {
     "slide_type": "slide"
    }
   },
   "outputs": [
    {
     "name": "stdout",
     "output_type": "stream",
     "text": [
      "Bins:  [[500, 700], [700, 800], [800, 900], [900, 1000], [1000, 1500], [1500, 1800], [1800, 2000], [2000, 2200]]\n"
     ]
    }
   ],
   "source": [
    "import numpy as np\n",
    "X = np.loadtxt(\"DataSets/RequestRates.csv\", delimiter=\",\")[:,1]\n",
    "\n",
    "# Step 1: Represent bins via list of left-edges\n",
    "bin_left = [\n",
    "    500, 700, 800, 900, 1000, 1500, 1800, 2000, 2200\n",
    "]\n",
    "\n",
    "bin_min = bin_left[0]\n",
    "bin_max = bin_left[-1]\n",
    "bins = [ [bin_left[i-1],bin_left[i]] for i in xrange(1, len(bin_left)) ]\n",
    "\n",
    "print \"Bins: \", bins"
   ]
  },
  {
   "cell_type": "code",
   "execution_count": 317,
   "metadata": {
    "collapsed": false,
    "slideshow": {
     "slide_type": "slide"
    }
   },
   "outputs": [
    {
     "name": "stdout",
     "output_type": "stream",
     "text": [
      "Counts: [0, 10, 8, 4, 25, 23, 4, 2]\n"
     ]
    }
   ],
   "source": [
    "# Step2: Count number of samples in bins\n",
    "def count(X, bins):\n",
    "    def findBin(x, bins):\n",
    "        for i, bin in enumerate(bins):\n",
    "            left, right = bin\n",
    "            if left <= x and x < right:\n",
    "                return i\n",
    "        return None\n",
    "    \n",
    "    count = [0] * len(bins)\n",
    "    for x in X:\n",
    "        i = findBin(x, bins)\n",
    "        if i != None:\n",
    "            count[i] += 1\n",
    "\n",
    "    return count\n",
    "\n",
    "sample_count = count(X, bins)\n",
    "\n",
    "print \"Counts:\", sample_count"
   ]
  },
  {
   "cell_type": "code",
   "execution_count": 318,
   "metadata": {
    "collapsed": false,
    "slideshow": {
     "slide_type": "slide"
    }
   },
   "outputs": [
    {
     "data": {
      "image/png": "[encoded data removed]",
      "text/plain": [
       "<matplotlib.figure.Figure at 0x121a5b410>"
      ]
     },
     "metadata": {},
     "output_type": "display_data"
    }
   ],
   "source": [
    "from matplotlib import pyplot as plt\n",
    "import seaborn as sns\n",
    "\n",
    "%matplotlib inline\n",
    "\n",
    "# Step3: Plot bar chart\n",
    "def my_hist(X, bins, normed=True, **kwargs):\n",
    "    bin_left = [ l for l, r in bins ]\n",
    "    bin_width = [ r-l  for l,r in bins ]\n",
    "    bin_height = [ \n",
    "        float(c) / w if normed else c \n",
    "        for c,w in zip(count(X, bins), bin_width)\n",
    "    ]\n",
    "    plt.bar(bin_left,width=bin_width,height=bin_height, **kwargs)\n",
    "\n",
    "plt.figure(figsize=(15,5))\n",
    "my_hist(X,bins)"
   ]
  },
  {
   "cell_type": "code",
   "execution_count": 319,
   "metadata": {
    "collapsed": true,
    "slideshow": {
     "slide_type": "slide"
    }
   },
   "outputs": [],
   "source": [
    "def plot_hist(X,  bin_min, bin_max, bin_width):\n",
    "    plt.figure(figsize=(15,5))\n",
    "    bins =[ [i, i+bin_width] for i in np.arange(bin_min, bin_max, bin_width) ]\n",
    "    my_hist(X,bins)\n",
    "    print \"Histogram with bin_width \", bin_width\n",
    "    plt.show()"
   ]
  },
  {
   "cell_type": "markdown",
   "metadata": {
    "slideshow": {
     "slide_type": "slide"
    }
   },
   "source": [
    "## How bin choices affect the apperance"
   ]
  },
  {
   "cell_type": "code",
   "execution_count": 321,
   "metadata": {
    "collapsed": false,
    "slideshow": {
     "slide_type": "slide"
    }
   },
   "outputs": [
    {
     "name": "stdout",
     "output_type": "stream",
     "text": [
      "Histogram with bin_width  5\n"
     ]
    },
    {
     "data": {
      "image/png": "[encoded data removed]",
      "text/plain": [
       "<matplotlib.figure.Figure at 0x121c23910>"
      ]
     },
     "metadata": {},
     "output_type": "display_data"
    }
   ],
   "source": [
    "bin_min = 600\n",
    "bin_max = 2200\n",
    "plot_hist(X, bin_min, bin_max, 5)"
   ]
  },
  {
   "cell_type": "code",
   "execution_count": 323,
   "metadata": {
    "collapsed": false,
    "slideshow": {
     "slide_type": "slide"
    }
   },
   "outputs": [
    {
     "name": "stdout",
     "output_type": "stream",
     "text": [
      "Histogram with bin_width  50\n"
     ]
    },
    {
     "data": {
      "image/png": "[encoded data removed]",
      "text/plain": [
       "<matplotlib.figure.Figure at 0x120bea910>"
      ]
     },
     "metadata": {},
     "output_type": "display_data"
    }
   ],
   "source": [
    "plot_hist(X, bin_min, bin_max, 50)"
   ]
  },
  {
   "cell_type": "code",
   "execution_count": 324,
   "metadata": {
    "collapsed": false,
    "slideshow": {
     "slide_type": "slide"
    }
   },
   "outputs": [
    {
     "name": "stdout",
     "output_type": "stream",
     "text": [
      "Histogram with bin_width  2000\n"
     ]
    },
    {
     "data": {
      "image/png": "[encoded data removed]",
      "text/plain": [
       "<matplotlib.figure.Figure at 0x121fc64d0>"
      ]
     },
     "metadata": {},
     "output_type": "display_data"
    }
   ],
   "source": [
    "plot_hist(X, bin_min, bin_max, 2000)\n",
    "# -> Only the total count is displayed"
   ]
  },
  {
   "cell_type": "markdown",
   "metadata": {
    "slideshow": {
     "slide_type": "slide"
    }
   },
   "source": [
    "## Common bin-width choices\n",
    "\n",
    "Remarks:\n",
    "* Can convert `bin_count` and `bin_width` using relation $$ bin\\_max - bin\\_min = bin\\_count \\cdot bin\\_width.$$\n",
    "\n",
    "* Choices `bin_min=min(X)` and `bin_max=max(X)` are common. But: dependence on input data.\n",
    "\n",
    "Choices for bin-width:\n",
    "\n",
    "* Excel: Let $n$ be the number of samples, then:\n",
    "\n",
    "  $$ bin\\_count = \\sqrt{n} $$\n",
    "\n",
    "* Scott's normal reference rule\n",
    "\n",
    "  $$ bin\\_width = \\frac{3.5 \\sigma}{n^{1/3}} $$\n",
    "\n",
    "  where $\\sigma$ is the standard deviation (cf. later).\n",
    "  This is optimal for random samples of normally distributed data, in a certain sense.\n",
    "\n",
    "* Freedman–Diaconis rule\n",
    "\n",
    "  $$ bin\\_width = \\frac{2 IQR}{n^{1/3}} $$\n",
    "  \n",
    "  where IQR is the inter-quartile range (cf. later). Like Scott's rule but more robust agains outliers.\n",
    "\n"
   ]
  },
  {
   "cell_type": "markdown",
   "metadata": {
    "slideshow": {
     "slide_type": "slide"
    }
   },
   "source": [
    "# A pragmatic choice: HDR Histograms\n",
    "\n",
    "Example: A decimal HDR Histogram with precision=2 has bin boundaries:\n",
    "  \n",
    "    .... 1.0,  1.1,  1.2, ... 1.9,  2.0,  2.1, ...., 9.9; --- bin width = 0.1\n",
    "         10.0, 11.0, 12.0 ... 19.0, 20.0, 21.0 ...., 99 ; --- bin width = 1\n",
    "         ...\n",
    "\n",
    "** Properties: **\n",
    "* Captures large part of float range\n",
    "* Bin boundaries do not depend on data! -> Can aggregate counts!\n",
    "* Bin width increase with growing values\n",
    "* Allows compact memory representation\n",
    "* Implementation available at http://hdrhistogram.org/"
   ]
  },
  {
   "cell_type": "code",
   "execution_count": 330,
   "metadata": {
    "collapsed": true,
    "slideshow": {
     "slide_type": "slide"
    }
   },
   "outputs": [],
   "source": [
    "import math\n",
    "def HDR_bin_width(x):\n",
    "    if x == 0: return 0\n",
    "    sign = x / abs(x)\n",
    "    return sign * 10 ** ( math.floor(math.log10(abs(x)) - 1 ) )\n",
    "\n",
    "def HDR_bin_left(x):\n",
    "    w = HDR_bin_width(x)\n",
    "    if w == 0: return 0\n",
    "    return math.floor(x / w) * w\n",
    "\n",
    "def HRD_bin_right(x):\n",
    "    return bin_left(x) + bin_width(x)"
   ]
  },
  {
   "cell_type": "code",
   "execution_count": 331,
   "metadata": {
    "collapsed": true,
    "slideshow": {
     "slide_type": "slide"
    }
   },
   "outputs": [],
   "source": [
    "def HDR_hist(X):\n",
    "    count = {}\n",
    "    for x in X:\n",
    "        l = HDR_bin_left(x)\n",
    "        count[l] = count.get(l,0) + 1\n",
    "    bin_left = sorted(count.keys())\n",
    "    bin_width = [ HDR_bin_width(l) for l in bin_left ]\n",
    "    bin_height = [ count[l] / HDR_bin_width(l)\n",
    "        for l in bin_left\n",
    "    ]\n",
    "    plt.figure(figsize=(15,5))\n",
    "    plt.bar(bin_left,width=bin_width,height=bin_height)"
   ]
  },
  {
   "cell_type": "code",
   "execution_count": 337,
   "metadata": {
    "collapsed": false,
    "slideshow": {
     "slide_type": "slide"
    }
   },
   "outputs": [
    {
     "data": {
      "text/plain": [
       "<matplotlib.axes._subplots.AxesSubplot at 0x120b964d0>"
      ]
     },
     "execution_count": 337,
     "metadata": {},
     "output_type": "execute_result"
    },
    {
     "data": {
      "image/png": "[encoded data removed]",
      "text/plain": [
       "<matplotlib.figure.Figure at 0x120b99910>"
      ]
     },
     "metadata": {},
     "output_type": "display_data"
    }
   ],
   "source": [
    "HDR_hist(X)\n",
    "sns.rugplot(X, color=\"red\")"
   ]
  }
 ],
 "metadata": {
  "celltoolbar": "Slideshow",
  "kernelspec": {
   "display_name": "Python [Root]",
   "language": "python",
   "name": "Python [Root]"
  },
  "language_info": {
   "codemirror_mode": {
    "name": "ipython",
    "version": 2
   },
   "file_extension": ".py",
   "mimetype": "text/x-python",
   "name": "python",
   "nbconvert_exporter": "python",
   "pygments_lexer": "ipython2",
   "version": "2.7.11"
  },
  "nbpresent": {
   "slides": {
    "0b94c017-b788-4858-ad04-4ff72722987d": {
     "id": "0b94c017-b788-4858-ad04-4ff72722987d",
     "layout": "grid",
     "prev": null,
     "regions": {},
     "theme": null
    }
   },
   "themes": {}
  }
 },
 "nbformat": 4,
 "nbformat_minor": 0
}
