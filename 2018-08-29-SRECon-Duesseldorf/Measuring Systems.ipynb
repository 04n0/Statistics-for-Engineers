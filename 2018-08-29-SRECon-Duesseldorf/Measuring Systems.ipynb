{
 "cells": [
  {
   "cell_type": "markdown",
   "metadata": {
    "slideshow": {
     "slide_type": "slide"
    }
   },
   "source": [
    "# Measuring Systems\n",
    "\n",
    "Many terms floating around:\n",
    "\n",
    "- Monitoring\n",
    "- Observability\n",
    "- Instrumentation\n",
    "- Log analysis\n",
    "- High Cardinality\n",
    "- Tracing\n",
    "\n",
    "What does it mean? And why would I care?\n",
    "\n",
    "Inspired by: Baron Schwarz (2018) https://www.xaprb.com/slides/devopsdc-what-is-observability"
   ]
  },
  {
   "cell_type": "markdown",
   "metadata": {
    "slideshow": {
     "slide_type": "slide"
    }
   },
   "source": [
    "## Observability is Property of a System\n",
    "\n",
    "... just like:\n",
    "\n",
    "* Usability -- The user can find his/her way around the front end\n",
    "* Efficiency -- The application does not waste system resources\n",
    "* Maintainability -- A Software Engineer can find his/her way around the source code\n",
    "* Testability -- A Software Engineer could write effective tests for the system (if he wanted)\n",
    "* Debugability -- An SRE/SE can understand pathological behavior (Related: [Cantrill (2018)](https://www.slideshare.net/bcantrill/debugging-under-fire-keeping-your-head-when-systems-have-lost-their-mind))\n",
    "\n",
    "* Observability -- The operator can inspect the application behavior while it's running.\n",
    "\n",
    "We all want Observability. Otherwise we would not be here."
   ]
  },
  {
   "cell_type": "markdown",
   "metadata": {
    "slideshow": {
     "slide_type": "slide"
    }
   },
   "source": [
    "## Data Sources for Observability\n",
    "\n",
    "Provided by the Application:\n",
    "* Logs\n",
    "* Status endpoints (`/stats.json`, `/proc`)\n",
    "* Instrumentation (`StatsD.gauge('Base.queued', 12)`, Zipkin)\n",
    "\n",
    "Provided by the Runtime:\n",
    "* JMX, PyMX\n",
    "* Debuggers (gdb, jdb, pdb)\n",
    "* Profilers\n",
    "\n",
    "Provided by the Kernel:\n",
    "* Dynamic tracing (DTrace, eBPF) \n",
    "* System profilers (perf)\n",
    "* Network sniffing (pcap)\n",
    "\n",
    "Provided by Hardware:\n",
    "* PCM/MSR registers (Intel)\n",
    "* SMART disk interface"
   ]
  },
  {
   "cell_type": "markdown",
   "metadata": {
    "slideshow": {
     "slide_type": "slide"
    }
   },
   "source": [
    "# Common Denominator: Events\n",
    "\n",
    "All the above data sources can be regarded as emitting events:\n",
    "\n",
    "```\n",
    "{ event=\"HTTP_START\", reqid=2398721, endpoint=\"/\", srcip=\"10.8.20.132\", t=1535120313.123 }\n",
    "{ event=\"HTTP_END\", reqid=2398721, status=\"OK\", bytes=125232, t=1535120313.123  }\n",
    "{ event=\"HTTP\", endpoint=\"/\", duration[ms]=1.23, status=\"200\", srcip=\"10.8.20.132\", t=1535120313.123 }\n",
    "{ event=\"funccall\", name=\"Customer.payment\", args=[120, \"USD\"], t=1535120313.123 }\n",
    "{ event=\"cpu_idle\", value=1231522, unit=jiffy, t=1535120313 }\n",
    "{ event=\"syscall\", name=\"read\", pid=1231, duration[us]=18.1, t=1535120313.123123152 }\n",
    "{ event=\"shedule_on_cpu\", pid=1231 , t=1535120313.123123152 }\n",
    "{ event=\"shedule_off_cpu\", pid=1231, t=1535120313.123123152 }\n",
    "```\n",
    "\n",
    "<!--\n",
    "\n",
    "Remarks:\n",
    "- Events seem to be used as a term for state changes.\n",
    "- Some of the data sources are not attached to state changes, e.g. \"disk free %\", but more to the state the system is in. We can introduce measurement \"events\", to make that fit our description here.\n",
    "- Events as K-V pairs is relatively arbitrary.\n",
    "\n",
    "-->"
   ]
  },
  {
   "cell_type": "markdown",
   "metadata": {
    "slideshow": {
     "slide_type": "slide"
    }
   },
   "source": [
    "# Geometric View on Events\n",
    "\n",
    "Events are points in a high dimensional space:\n",
    "\n",
    "- Each attribute name gives an axes.\n",
    "- Each attribute value, determines the location on that axes.\n",
    "- Attribues that are not set are set to a special value `undef`.\n",
    "\n",
    "![](../img/events.png)"
   ]
  },
  {
   "cell_type": "markdown",
   "metadata": {
    "slideshow": {
     "slide_type": "slide"
    }
   },
   "source": [
    "# Challenges\n",
    "\n",
    "- High Dimensionality: Lots of Axes\n",
    "- High Cardinality: Lots of values on a single discrete axes (userid, pid)\n",
    "- High Volume: Lots of Events"
   ]
  },
  {
   "cell_type": "markdown",
   "metadata": {
    "slideshow": {
     "slide_type": "slide"
    }
   },
   "source": [
    "# Coping Strategies\n",
    "\n",
    "* Select event sources (reduce dimensionality, volume)  \n",
    "  E.g. only look at log data\n",
    "\n",
    "* Select attributes (reduce dimensionality)  \n",
    "  E.g. only look at (duration, url, host)\n",
    "\n",
    "* Filter attribute value (reduce dimensionality, volume)  \n",
    "  E.g. only record events with user_id=25\n",
    "\n",
    "* Sample Events (reduce volume)  \n",
    "  E.g. only record every 100s HTTP request.\n",
    "\n",
    "* Group values (reduce cardinality)  \n",
    "  E.g. ip => ip range (192.*)\n",
    "\n",
    "* Aggregate events (reduce volume)  \n",
    "  over time (within this minute) and across dimensions (e.g. users)"
   ]
  },
  {
   "cell_type": "markdown",
   "metadata": {
    "slideshow": {
     "slide_type": "slide"
    }
   },
   "source": [
    "# Data Models\n",
    "\n",
    "(1) Documents (e.g. JSON)\n",
    "- Events are naturally expressed as JSON documents\n",
    "- Used by Log aggregators, APM tools: ELK, Splunk, Honeycomb, Dynatrace\n",
    "\n",
    "(2) Tables (Relational Data)\n",
    "- Pre-selection of attributes allows to impose table structure\n",
    "- Used by some APM tools: New Relic, ...?\n",
    "\n",
    "(3) Metrics / Time Series (TSDB)\n",
    "- Focus a single attribute over time\n",
    "- Like two column table (TIME, ATTRIBUTE)\n",
    "- Discrete time axes (10s, 60s) typical\n",
    "- Continues value axes (float) typical\n",
    "- Used by Monitoring systems, APM tools: Graphite, Prometheues, Influx, Circonus/IRONdb, ..."
   ]
  },
  {
   "cell_type": "markdown",
   "metadata": {
    "slideshow": {
     "slide_type": "slide"
    }
   },
   "source": [
    "# Tradeoff\n",
    "\n",
    "* Documents/Tables: are full/high \"fidelity\" but relatively expensive at full capture.\n",
    "\n",
    "* Metrics are compact, aggregated, efficient, but can’t be disaggregated.\n",
    "\n",
    "Source: https://www.xaprb.com/slides/devopsdc-what-is-observability/#9"
   ]
  },
  {
   "cell_type": "code",
   "execution_count": 36,
   "metadata": {},
   "outputs": [
    {
     "name": "stdout",
     "output_type": "stream",
     "text": [
      "Log storage per day 432.0 MB\n"
     ]
    }
   ],
   "source": [
    "# Numeric Example: Storage Volume Logs vs. Metrics\n",
    "\n",
    "# Access logs\n",
    "req_per_second = 5\n",
    "log_lines_per_req = 1\n",
    "bytes_per_log_line = 1000\n",
    "seconds_per_day = 24*60*60\n",
    "bytes_per_kb = 1000\n",
    "bytes_per_mb = 1000 * bytes_per_kb\n",
    "log_mb_per_day = bytes_per_log_line * log_lines_per_req * req_per_second * seconds_per_day / bytes_per_mb\n",
    "print(\"Log storage per day {} MB\".format(log_mb_per_day))"
   ]
  },
  {
   "cell_type": "code",
   "execution_count": 37,
   "metadata": {},
   "outputs": [
    {
     "name": "stdout",
     "output_type": "stream",
     "text": [
      "Metric storage per day 46.08 kb\n"
     ]
    }
   ],
   "source": [
    "# Metric Storage: rate, p50, p95, p99\n",
    "number_of_metrics = 4\n",
    "bytes_per_value = 8 # with compression this goes down to 1-4 bytes\n",
    "aggregation_period_sec = 60\n",
    "values_per_day = number_of_metrics * seconds_per_day / aggregation_period_sec\n",
    "metric_kb_per_day = bytes_per_value * values_per_day / bytes_per_kb\n",
    "print(\"Metric storage per day {} kb\".format(metric_kb_per_day))"
   ]
  },
  {
   "cell_type": "markdown",
   "metadata": {
    "slideshow": {
     "slide_type": "slide"
    }
   },
   "source": [
    "# Metrics\n",
    "\n",
    "How can map events to metric data?\n",
    "\n",
    "### (1) Select Value Axes\n",
    "   \n",
    "* Select a single value axes for the metric (e.g. duration)\n",
    "\n",
    "* Filtering attributes (e.g. event=HTTP, host=www1-eu-fra)\n",
    "\n",
    "```\n",
    "SELECT (t, duration) FROM events WHERE event='HTTP', host='www1-eu-dus';\n",
    "```\n",
    "\n",
    "Remark: Filtering on \"High Cardinality\" leads to \"metric explosion\"."
   ]
  },
  {
   "cell_type": "markdown",
   "metadata": {
    "slideshow": {
     "slide_type": "slide"
    }
   },
   "source": [
    "### (2) Group by Time\n",
    "\n",
    "If you measure time precise enough all events will have different time stamps.\n",
    "\n",
    "Need to group time values into discrete windows. Typical \"periods\" 10s, 60s, 1h, 3h, 1d.\n",
    "\n",
    "```\n",
    "SELECT (floor(t/period) as T, duration) FROM events WHERE event='HTTP', host='www1-eu-dus';\n",
    "```"
   ]
  },
  {
   "cell_type": "markdown",
   "metadata": {
    "slideshow": {
     "slide_type": "slide"
    }
   },
   "source": [
    "### (3) Aggregate Events\n",
    "\n",
    "All durations in the given time window, need to be summarized to an aggregate.\n",
    "Typical aggregation functions are:\n",
    "\n",
    "* count\n",
    "* mean\n",
    "* sum\n",
    "* min/max\n",
    "* percentile\n",
    "* histogram\n",
    "\n",
    "... or multiple at the same time.\n",
    "\n",
    "This step is often called \"rollup\".\n",
    "\n",
    "```\n",
    "SELECT (floor(t/period) as T, aggregate(duration)) FROM events WHERE event='HTTP', host='www1-eu-dus' GROUP BY T;\n",
    "```"
   ]
  },
  {
   "cell_type": "markdown",
   "metadata": {
    "slideshow": {
     "slide_type": "slide"
    }
   },
   "source": [
    "## Summary: Creating Metrics from Events\n",
    "![](../img/metrics.png)"
   ]
  },
  {
   "cell_type": "markdown",
   "metadata": {
    "slideshow": {
     "slide_type": "slide"
    }
   },
   "source": [
    "## Higher Rollups\n",
    "\n",
    "\n",
    "![](../img/rollup.png)"
   ]
  },
  {
   "cell_type": "code",
   "execution_count": null,
   "metadata": {},
   "outputs": [],
   "source": []
  }
 ],
 "metadata": {
  "kernelspec": {
   "display_name": "Python 3",
   "language": "python",
   "name": "python3"
  },
  "language_info": {
   "codemirror_mode": {
    "name": "ipython",
    "version": 3
   },
   "file_extension": ".py",
   "mimetype": "text/x-python",
   "name": "python",
   "nbconvert_exporter": "python",
   "pygments_lexer": "ipython3",
   "version": "3.6.4"
  }
 },
 "nbformat": 4,
 "nbformat_minor": 2
}
