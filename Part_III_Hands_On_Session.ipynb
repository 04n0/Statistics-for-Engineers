{
 "cells": [
  {
   "cell_type": "markdown",
   "metadata": {
    "collapsed": true
   },
   "source": [
    "# Part III: Hands On Session / Exercises\n",
    "\n",
    "## 1. Data Wranginling\n",
    "\n",
    "* Count number of `POST` requests logged in `DBLog.out`\n",
    "\n",
    "* Convert `DBLog.out` to csv with fileds \"Method,Path,RepsoneCode,Latency\"\n",
    "\n",
    "* Make a bash script `log2csv` that can be used as follows:  \n",
    "  `cat DBLog.out | ./log2csv > DBLog.csv`\n",
    "\n",
    "## 2. IPython toolchain\n",
    "\n",
    "* Start IPython notebook\n",
    "* Import dataset \"LogDB.csv\"\n",
    "* Make a bar chart with \"HTTP Method | Count\" like so:\n",
    "\n",
    "```\n",
    "GET  | ################\n",
    "POST | ######\n",
    "PUT  | ##\n",
    "```\n",
    "\n",
    "* Make a histogram of response times\n",
    "* Make a boxplot of the response times\n",
    "* Compute the 0.95-quantile\n",
    "\n",
    "## 3. Quantile Checking\n",
    "\n",
    "* Load the file `WebLatency.csv` containing request latencies for 6 servers in 5 minute intervals into a np.array\n",
    "\n",
    "* Plot the repsonse times of server 1 against time in a scatter plot\n",
    "\n",
    "* Calculate the averages over 15m intervals as follows:\n",
    "  1. generate a sequence of timestamps 15 minutes distance\n",
    "  2. generate a sequence of sample windows of length 15 minutes\n",
    "  3. count the number of samples in each window\n",
    "  4. sum of all samples in each window\n",
    "\n",
    "* Calculate the `[.95,.99,1]` quantile for each day\n",
    "\n",
    "\n",
    "## 4. Peek time regression\n",
    "\n",
    "* Load the file `ReqRateTrend.csv` containg request rates over time.\n",
    "\n",
    "* Group the data into bins of one hour (in 3)\n",
    "\n",
    "* Calculate the maximum value for each day.\n",
    "\n",
    "* Make a regression over daily .95 quantiles instead."
   ]
  },
  {
   "cell_type": "code",
   "execution_count": null,
   "metadata": {
    "collapsed": true
   },
   "outputs": [],
   "source": []
  }
 ],
 "metadata": {
  "kernelspec": {
   "display_name": "Python 2",
   "language": "python",
   "name": "python2"
  },
  "language_info": {
   "codemirror_mode": {
    "name": "ipython",
    "version": 2
   },
   "file_extension": ".py",
   "mimetype": "text/x-python",
   "name": "python",
   "nbconvert_exporter": "python",
   "pygments_lexer": "ipython2",
   "version": "2.7.9"
  }
 },
 "nbformat": 4,
 "nbformat_minor": 0
}
