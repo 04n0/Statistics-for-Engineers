{
 "cells": [
  {
   "cell_type": "markdown",
   "metadata": {
    "slideshow": {
     "slide_type": "slide"
    }
   },
   "source": [
    "# JQ by Example\n",
    "\n",
    "* http://stedolan.github.io/jq/\n",
    "\n",
    "* Equivalent for `sed`, `akw`, `csvkit` for JSON data.\n",
    "* Analogue to xpath query language for xml\n",
    "* Have a look at `xidel` for scaping HTML/XML http://videlibri.sourceforge.net/xidel.html"
   ]
  },
  {
   "cell_type": "code",
   "execution_count": 1,
   "metadata": {
    "collapsed": false,
    "slideshow": {
     "slide_type": "slide"
    }
   },
   "outputs": [
    {
     "name": "stdout",
     "output_type": "stream",
     "text": [
      "[\r\n",
      "[1358024400,1800,{\r\n",
      "\t\"0.5\": 1,\r\n",
      "\t\"0.59\": 2,\r\n",
      "\t\"1.7\": 1,\r\n",
      "\t\"2.5\": 1,\r\n",
      "\t\"3.4\": 1,\r\n",
      "\t\"3.5\": 1,\r\n",
      "\t\"3.6\": 4,\r\n",
      "\t\"3.7\": 5,\r\n"
     ]
    }
   ],
   "source": [
    "# Have some data stored as json\n",
    "!cat DataSets/HistogramAPI.json | head"
   ]
  },
  {
   "cell_type": "code",
   "execution_count": 20,
   "metadata": {
    "collapsed": false,
    "slideshow": {
     "slide_type": "slide"
    }
   },
   "outputs": [
    {
     "name": "stdout",
     "output_type": "stream",
     "text": [
      "[\r\n",
      "  [\r\n",
      "    1358024400,\r\n",
      "    1800,\r\n",
      "    {\r\n",
      "      \"0.5\": 1,\r\n",
      "      \"0.59\": 2,\r\n",
      "      \"1.7\": 1,\r\n",
      "      \"2.5\": 1,\r\n",
      "      \"3.4\": 1,\r\n"
     ]
    }
   ],
   "source": [
    "# Pretty print\n",
    "!cat DataSets/HistogramAPI.json | jq '.' | head"
   ]
  },
  {
   "cell_type": "code",
   "execution_count": 3,
   "metadata": {
    "collapsed": false,
    "slideshow": {
     "slide_type": "slide"
    }
   },
   "outputs": [
    {
     "name": "stdout",
     "output_type": "stream",
     "text": [
      "\u001b[0m1358024400\u001b[0m\r\n",
      "\u001b[0m1358026200\u001b[0m\r\n",
      "\u001b[0m1358028000\u001b[0m\r\n",
      "\u001b[0m1358029800\u001b[0m\r\n",
      "\u001b[0m1358031600\u001b[0m\r\n",
      "\u001b[0m1358033400\u001b[0m\r\n",
      "\u001b[0m1358035200\u001b[0m\r\n",
      "\u001b[0m1358037000\u001b[0m\r\n",
      "\u001b[0m1358038800\u001b[0m\r\n",
      "\u001b[0m1358040600\u001b[0m\r\n",
      "\u001b[0m1358042400\u001b[0m\r\n",
      "\u001b[0m1358044200\u001b[0m\r\n",
      "\u001b[0m1358046000\u001b[0m\r\n",
      "\u001b[0m1358047800\u001b[0m\r\n",
      "\u001b[0m1358049600\u001b[0m\r\n",
      "\u001b[0m1358051400\u001b[0m\r\n"
     ]
    }
   ],
   "source": [
    "# Look at first elements: timestamps\n",
    "!cat DataSets/HistogramAPI.json | jq '.[][0]'"
   ]
  },
  {
   "cell_type": "code",
   "execution_count": 4,
   "metadata": {
    "collapsed": false,
    "slideshow": {
     "slide_type": "slide"
    }
   },
   "outputs": [
    {
     "name": "stdout",
     "output_type": "stream",
     "text": [
      "16\r\n"
     ]
    }
   ],
   "source": [
    "# Count number of elements\n",
    "!cat DataSets/HistogramAPI.json | jq '.[][0]' | wc -l"
   ]
  },
  {
   "cell_type": "code",
   "execution_count": 25,
   "metadata": {
    "collapsed": false,
    "slideshow": {
     "slide_type": "slide"
    }
   },
   "outputs": [
    {
     "name": "stdout",
     "output_type": "stream",
     "text": [
      "{\r\n",
      "  \"0.5\": 1,\r\n",
      "  \"0.59\": 2,\r\n",
      "  \"1.7\": 1,\r\n",
      "  \"2.5\": 1,\r\n",
      "  \"3.4\": 1,\r\n",
      "  \"3.5\": 1,\r\n",
      "  \"3.6\": 4,\r\n",
      "  \"3.7\": 5,\r\n",
      "  \"3.8\": 6,\r\n"
     ]
    }
   ],
   "source": [
    "# Focus on first entry:extract histogram\n",
    "!cat DataSets/HistogramAPI.json | jq '.[0][2]' | head"
   ]
  },
  {
   "cell_type": "code",
   "execution_count": 26,
   "metadata": {
    "collapsed": false,
    "slideshow": {
     "slide_type": "slide"
    }
   },
   "outputs": [
    {
     "name": "stdout",
     "output_type": "stream",
     "text": [
      "[\r\n",
      "  {\r\n",
      "    \"key\": \"0.5\",\r\n",
      "    \"value\": 1\r\n",
      "  },\r\n",
      "  {\r\n",
      "    \"key\": \"0.59\",\r\n",
      "    \"value\": 2\r\n",
      "  },\r\n",
      "  {\r\n"
     ]
    }
   ],
   "source": [
    "# Convert to array of 'entries' = item pairs\n",
    "!cat DataSets/HistogramAPI.json | jq '.[0][2] | to_entries' | head"
   ]
  },
  {
   "cell_type": "code",
   "execution_count": 27,
   "metadata": {
    "collapsed": false,
    "slideshow": {
     "slide_type": "slide"
    }
   },
   "outputs": [
    {
     "name": "stdout",
     "output_type": "stream",
     "text": [
      "[\r\n",
      "  \"0.5\",\r\n",
      "  1\r\n",
      "]\r\n",
      "[\r\n",
      "  \"0.59\",\r\n",
      "  2\r\n",
      "]\r\n",
      "[\r\n",
      "  \"1.7\",\r\n"
     ]
    }
   ],
   "source": [
    "# Convert to sequence of arrays\n",
    "!cat DataSets/HistogramAPI.json | jq '.[0][2] | to_entries | .[] | [.key, .value]' | head"
   ]
  },
  {
   "cell_type": "code",
   "execution_count": 28,
   "metadata": {
    "collapsed": false,
    "slideshow": {
     "slide_type": "slide"
    }
   },
   "outputs": [
    {
     "name": "stdout",
     "output_type": "stream",
     "text": [
      "\"0.5\",1\r\n",
      "\"0.59\",2\r\n",
      "\"1.7\",1\r\n",
      "\"10\",193\r\n",
      "\"100\",1\r\n",
      "\"11\",209\r\n",
      "\"12\",223\r\n",
      "\"120\",1\r\n",
      "\"13\",176\r\n",
      "\"14\",163\r\n"
     ]
    }
   ],
   "source": [
    "# Output as csv\n",
    "!cat DataSets/HistogramAPI.json | jq '.[0][2] | to_entries | .[] | [.key, .value] | @csv' --raw-output | head"
   ]
  },
  {
   "cell_type": "code",
   "execution_count": 30,
   "metadata": {
    "collapsed": false,
    "slideshow": {
     "slide_type": "slide"
    }
   },
   "outputs": [
    {
     "name": "stdout",
     "output_type": "stream",
     "text": [
      "0.5,1\r\n",
      "0.59,2\r\n",
      "1.7,1\r\n",
      "10,193\r\n",
      "100,1\r\n",
      "11,209\r\n",
      "12,223\r\n",
      "120,1\r\n",
      "13,176\r\n",
      "14,163\r\n"
     ]
    }
   ],
   "source": [
    "# Clean out quotes (... the dirty way)\n",
    "!cat DataSets/HistogramAPI.json |\\\n",
    " jq '.[0][2] | to_entries | .[] | [.key, .value] | @csv' --raw-output |\\\n",
    " perl -pe 's/\"//g' |\\\n",
    " head"
   ]
  },
  {
   "cell_type": "code",
   "execution_count": 31,
   "metadata": {
    "collapsed": false,
    "slideshow": {
     "slide_type": "slide"
    }
   },
   "outputs": [],
   "source": [
    "# Sotre\n",
    "!cat DataSets/HistogramAPI.json |\\\n",
    " jq '.[0][2] | to_entries | .[] | [.key, .value] | @csv' --raw-output |\\\n",
    " perl -pe 's/\"//g' \\\n",
    " > DataSets/HistogramAPI.csv"
   ]
  },
  {
   "cell_type": "markdown",
   "metadata": {
    "slideshow": {
     "slide_type": "slide"
    }
   },
   "source": [
    "# Store Logic in Bash Script\n",
    "\n",
    "* Name: `hist2csv`\n",
    "* Use `cat` to print `stdin`\n",
    "* Use `$1`,`$2`, ... for command line arguments. (Does not work in single quotes!)"
   ]
  },
  {
   "cell_type": "markdown",
   "metadata": {
    "slideshow": {
     "slide_type": "-"
    }
   },
   "source": [
    "<pre>\n",
    "#!/bin/bash\n",
    "cat |\\\n",
    "jq \".[$1][2] | to_entries | .[] | [.key, .value] | @csv\" --raw-output |\\\n",
    "perl -pe 's/\"//g'\n",
    "</pre>"
   ]
  },
  {
   "cell_type": "code",
   "execution_count": 33,
   "metadata": {
    "collapsed": false
   },
   "outputs": [
    {
     "name": "stdout",
     "output_type": "stream",
     "text": [
      "0.4,1\r\n",
      "0.5,1\r\n",
      "0.59,1\r\n",
      "0.69,1\r\n",
      "10,162\r\n",
      "100,63\r\n",
      "1000,4\r\n",
      "11,52\r\n",
      "110,56\r\n",
      "1100,7\r\n"
     ]
    }
   ],
   "source": [
    "!cat DataSets/HistogramAPI.json | ./hist2csv 10 | head"
   ]
  },
  {
   "cell_type": "markdown",
   "metadata": {
    "slideshow": {
     "slide_type": "slide"
    }
   },
   "source": [
    "# All done"
   ]
  },
  {
   "cell_type": "code",
   "execution_count": 13,
   "metadata": {
    "collapsed": false
   },
   "outputs": [
    {
     "name": "stdout",
     "output_type": "stream",
     "text": [
      "0.5,1\r\n",
      "0.59,2\r\n",
      "1.7,1\r\n",
      "10,193\r\n",
      "100,1\r\n",
      "11,209\r\n",
      "12,223\r\n",
      "120,1\r\n",
      "13,176\r\n",
      "14,163\r\n"
     ]
    }
   ],
   "source": [
    "!head DataSets/HistogramAPI.csv"
   ]
  }
 ],
 "metadata": {
  "celltoolbar": "Slideshow",
  "kernelspec": {
   "display_name": "Python 2",
   "language": "python",
   "name": "python2"
  },
  "language_info": {
   "codemirror_mode": {
    "name": "ipython",
    "version": 2
   },
   "file_extension": ".py",
   "mimetype": "text/x-python",
   "name": "python",
   "nbconvert_exporter": "python",
   "pygments_lexer": "ipython2",
   "version": "2.7.9"
  }
 },
 "nbformat": 4,
 "nbformat_minor": 0
}
