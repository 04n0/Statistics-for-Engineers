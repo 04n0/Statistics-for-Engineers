{
 "cells": [
  {
   "cell_type": "markdown",
   "metadata": {},
   "source": [
    "# #StatsForEngineers - Pen and Paper Exercises\n",
    "\n",
    "**First task:** Get a pen and paper. \n",
    "\n",
    "You may use your mobile phone for help with arithmetic. Don't open your laptop. Exercises marked with an asterisk (\\*) are optional."
   ]
  },
  {
   "cell_type": "markdown",
   "metadata": {},
   "source": [
    "## Data-Sets\n",
    "\n",
    "In the exercises we will use the following data-sets:\n",
    "\n",
    "* $A=[1]$ -- a single value\n",
    "* $B=[-1,1]$ -- two values\n",
    "* $C=[1,0,2]$ -- thre values\n",
    "* $D=[1,2,3,100]$ -- a cluster and one outlier\n",
    "* $E=[1,2,3,4,101,102,103]$ -- two cluster\n",
    "* $F=[-102,-101,-100,0,100,101,102]$\n",
    "\n",
    "Additional:\n",
    "* $N=[ ]$ -- the empty set\n",
    "* $L=[0,1,...,100]$ -- a linear range"
   ]
  },
  {
   "cell_type": "markdown",
   "metadata": {
    "collapsed": true
   },
   "source": [
    "## P1: Classical Statistics\n",
    "\n",
    "Calculate the following statistics for the given datasets $A-E$:\n",
    "\n",
    "1. The mean value\n",
    "\n",
    "2. The standard deviation\n",
    "\n",
    "3. The mean absolute deviation\n",
    "\n",
    "Futhermore:\n",
    "\n",
    "- \\* How would you define the mean value of the empty set $N$?\n",
    "- \\* Can you calculate the mean value of $L$ without summing all the value manually?"
   ]
  },
  {
   "cell_type": "markdown",
   "metadata": {},
   "source": [
    "## P2: Percentiles\n",
    "\n",
    "Calculate the following statistics for datasets $A-E$:\n",
    "\n",
    "1. A 50%-percentile (median)\n",
    "2. A 25%- and %75-percentile (quartiles)\n",
    "3. A 99%-percentile\n",
    "4. An inter-quartile range (IQR)\n",
    "5. The inverse percentile of the value 5\n",
    "\n",
    "Furthermore:\n",
    "\n",
    "6. \\* Are the above percentiles unique? If not, what are all possible values for the percentiles?\n",
    "7. What is the 99% percentile of $N$?\n"
   ]
  },
  {
   "cell_type": "markdown",
   "metadata": {},
   "source": [
    "## P3: Percentiles vs Classical Statistics\n",
    "\n",
    "1. Compare the mean values and median value you computed above. \n",
    "   - Are they close to each other?\n",
    "   - If not, come up with an intuitive explanation, for the difference.\n",
    "\n",
    "2. Which of the following statments is correct? If not give a counter example.\n",
    "   - The median value lies always between the 25%- and 75%-percentile\n",
    "   - The mean value lies always between the 25%- and 75%-percentile\n",
    "   - The 75%-percentile is always smaller than the mean + 3*stddev\n",
    "   \n",
    "3. Compare Standard Deviation, MAD and IQRs for each dataset.\n",
    "  - Are they close to each other?\n",
    "  - Which one is larger?\n",
    "  - If there are large differences, is there an intuitive explanation, for the difference?"
   ]
  },
  {
   "cell_type": "markdown",
   "metadata": {},
   "source": [
    "## P4: Percentiles and Aggregation\n",
    "\n",
    "3. Now look at concatenation of $F$ and $G=[9,10,11]$:  \n",
    "   $F + G = [-102,...,102,9,10,11]$. What are the 50%-percentiles?\n",
    "2. Not take $F$ and $H=[-1,10,11]$: What is the 50% percentile for this one?\n",
    "3. \\* Given two arbitrary datasets X and Y, is there a way to calculate the p-th percentile of $X+Y$ from the p-th percentile of $X$ and $Y$? Why?"
   ]
  },
  {
   "cell_type": "markdown",
   "metadata": {},
   "source": [
    "## P5: Histograms\n",
    "\n",
    "Construct a histogram for the dataset $E$, with the following binning:\n",
    "1. Linear bins for each natural number\n",
    "2. Log-linear bins with one decimal digit of accuracy\n",
    "\n",
    "Calculate an approximation of the following values from the histogram:\n",
    "\n",
    "1. Mean value\n",
    "2. Median\n",
    "\n",
    "Compare these values to the ones computed directly from $E$. How large is the difference?"
   ]
  }
 ],
 "metadata": {
  "anaconda-cloud": {},
  "kernelspec": {
   "display_name": "Python [Root]",
   "language": "python",
   "name": "Python [Root]"
  },
  "language_info": {
   "codemirror_mode": {
    "name": "ipython",
    "version": 2
   },
   "file_extension": ".py",
   "mimetype": "text/x-python",
   "name": "python",
   "nbconvert_exporter": "python",
   "pygments_lexer": "ipython2",
   "version": "2.7.11"
  }
 },
 "nbformat": 4,
 "nbformat_minor": 0
}
