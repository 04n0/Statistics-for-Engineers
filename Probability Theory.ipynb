{
 "cells": [
  {
   "cell_type": "code",
   "execution_count": 1,
   "metadata": {
    "collapsed": false,
    "scrolled": false,
    "slideshow": {
     "slide_type": "skip"
    }
   },
   "outputs": [],
   "source": [
    "import numpy as np\n",
    "import matplotlib as mpl\n",
    "from matplotlib import pyplot as plt\n",
    "%matplotlib inline\n",
    "mpl.rcParams['figure.figsize'] = (12,4)\n",
    "import math\n",
    "import seaborn as sns\n",
    "\n",
    "#!~/Programs/anaconda/bin/ipython nbconvert --to python Tutorial.ipynb\n",
    "#from Tutorial import *"
   ]
  },
  {
   "cell_type": "markdown",
   "metadata": {
    "slideshow": {
     "slide_type": "slide"
    }
   },
   "source": [
    "# Part III: Probability Theory and Statistics\n",
    "\n",
    "We have not talked about probability, yet!\n",
    "\n",
    "**Def.**\n",
    "A _discrete probability space_ is a discrete set $E$ together with a function $P(e) \\in [0,1]$,\n",
    "so that $$ \\sum_{e \\in E} P(e) = 1. $$\n",
    "\n",
    "* $E$ can be possibly infinity, but at most countable (e.g. $E=\\mathbb{N}$).\n",
    "* We call $A \\subset E$ events.\n",
    "* Extend $P$ to sets $A \\subset E$ by setting $P[A] = \\sum_{e \\in A} P(e)$.\n",
    "* The condition can be restated as $P[E] = 1.$\n",
    "\n",
    "Example:\n",
    "* Even dice `E = [1,2,3,4,5,6]`, with $P(e) = 1/6$ for all $e \\in E$."
   ]
  },
  {
   "cell_type": "markdown",
   "metadata": {
    "slideshow": {
     "slide_type": "slide"
    }
   },
   "source": [
    "## Sampling from a distribution\n",
    "\n",
    "Given a probability space $E,P$ we can produce random samples, such that $e$ occures with probability $P(e)$.\n",
    "\n",
    "* Hard to give precise meaning: independence\n",
    "* Can construct random samples for every probability space from uniform samples in [0,1]\n",
    "* Relative frequencies approach probabilities"
   ]
  },
  {
   "cell_type": "code",
   "execution_count": 16,
   "metadata": {
    "collapsed": false,
    "slideshow": {
     "slide_type": "slide"
    }
   },
   "outputs": [
    {
     "name": "stdout",
     "output_type": "stream",
     "text": [
      "FairDice:  [6, 1, 5, 6, 2, 3, 4, 6, 4, 3, 4, 1, 2, 5, 1, 5, 3, 5, 5, 6]\n"
     ]
    },
    {
     "data": {
      "image/png": "[encoded data removed]",
      "text/plain": [
       "<matplotlib.figure.Figure at 0x7f3ac03feed0>"
      ]
     },
     "metadata": {},
     "output_type": "display_data"
    },
    {
     "name": "stdout",
     "output_type": "stream",
     "text": [
      "UnfairDice:  [6, 6, 1, 6, 4, 6, 6, 6, 2, 2, 5, 6, 6, 6, 3, 2, 6, 1, 5, 1]\n"
     ]
    },
    {
     "data": {
      "image/png": "[encoded data removed]",
      "text/plain": [
       "<matplotlib.figure.Figure at 0x7f3ac0ba2dd0>"
      ]
     },
     "metadata": {},
     "output_type": "display_data"
    }
   ],
   "source": [
    "# Sampler in python:\n",
    "\n",
    "def sampler(E,P):\n",
    "    return lambda: np.random.choice(E,p=P)\n",
    "\n",
    "# Examples\n",
    "\n",
    "FairDice = sampler([1,2,3,4,5,6], [1./6]*6)\n",
    "\n",
    "print \"FairDice: \", [ FairDice() for x in range(20) ]\n",
    "\n",
    "plt.hist([ FairDice() for x in range(200) ], bins=[0,1,2,3,4,5,6,7], align='left')\n",
    "plt.show()\n",
    "\n",
    "UnfairDice = sampler([1,2,3,4,5,6], [0.1,0.1,0.1,0.1,0.1,0.5])\n",
    "\n",
    "print \"UnfairDice: \", [ UnfairDice() for x in range(20) ]\n",
    "\n",
    "plt.hist([ UnfairDice() for x in range(200) ], bins=[1,2,3,4,5,6,7], align='left')\n",
    "plt.show()"
   ]
  },
  {
   "cell_type": "markdown",
   "metadata": {
    "slideshow": {
     "slide_type": "slide"
    }
   },
   "source": [
    "# Frequentist Interpretation of Probability\n",
    "\n",
    "The relative frequency approaches probability."
   ]
  },
  {
   "cell_type": "markdown",
   "metadata": {},
   "source": [
    "## Example Distributions\n",
    "\n",
    "* Bernoulli distribution\n",
    "* Binomial distribution\n",
    "* Poisson distribution\n",
    "\n",
    "## Random Variables\n",
    "\n",
    "* Image distribution\n",
    "\n",
    "## Continues Probability Spaces\n",
    "\n",
    "* Single events have probability 0\n",
    "* Function only defined on sets / intervals as integral\n",
    "* Probability density function\n",
    "* Comulative densitiy function\n",
    "\n",
    "Examples:\n",
    "\n",
    "- Uniform distribution\n",
    "- Normal distribution (Digression Gauß Integral Trick?)\n",
    "\n",
    "## Parametric Models\n",
    "\n",
    "* Families of distributions\n",
    "* Likelihood of a parameter\n",
    "\n",
    "* Example:\n",
    "  - Bernoulli distribution -> Relative frequency\n",
    "  - Normal Distribution -> Mean, Standard deviation"
   ]
  }
 ],
 "metadata": {
  "celltoolbar": "Slideshow",
  "kernelspec": {
   "display_name": "Python 2",
   "language": "python",
   "name": "python2"
  },
  "language_info": {
   "codemirror_mode": {
    "name": "ipython",
    "version": 2
   },
   "file_extension": ".py",
   "mimetype": "text/x-python",
   "name": "python",
   "nbconvert_exporter": "python",
   "pygments_lexer": "ipython2",
   "version": "2.7.9"
  }
 },
 "nbformat": 4,
 "nbformat_minor": 0
}
