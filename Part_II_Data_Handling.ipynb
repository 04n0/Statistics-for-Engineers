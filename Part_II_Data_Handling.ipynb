{
 "cells": [
  {
   "cell_type": "markdown",
   "metadata": {
    "slideshow": {
     "slide_type": "slide"
    }
   },
   "source": [
    "# PART II: Data Handling and Visualization"
   ]
  },
  {
   "cell_type": "markdown",
   "metadata": {
    "slideshow": {
     "slide_type": "slide"
    }
   },
   "source": [
    "\n",
    "## General Remarks\n",
    "- script data access for common tasks (bash, python)\n",
    "- frequent tasks should be a single command\n",
    "- learn a scripting language (C/C++/Java are too verbose)"
   ]
  },
  {
   "cell_type": "markdown",
   "metadata": {
    "slideshow": {
     "slide_type": "slide"
    }
   },
   "source": [
    "## Use UNIX\n",
    "- Rich set of data mangling tools available\n",
    "- Can work with streams (not only files)\n",
    "- Does not hide the details (lilke Windows UIs)\n",
    "- Was designed to do data handling jobs\n",
    "- Pipes to compose tools\n",
    "- E.g. can use ssh to connect to remote servers (get CPU stats from remote)"
   ]
  },
  {
   "cell_type": "markdown",
   "metadata": {
    "slideshow": {
     "slide_type": "slide"
    }
   },
   "source": [
    "## Use CSV files\n",
    "- Widely supported (Spreadsheets, Excel, Programming Languages, DBs, GitHub!)\n",
    "- Portable (if you stick to ASCII or utf-8)\n",
    "- Human readable\n",
    "- Good tooling (cat, grep, csvkit)\n",
    "- Can be used like SQL tables (e.g. Join tables for many-many relations)\n",
    "- XML/JSON are describing trees (not lists or tables)\n",
    "- Use compression (zcat or cat | gzip -d to read and | gzip > out.csv)\n",
    "\n",
    "- Use proper csv (not '\\t' separators and the like)"
   ]
  },
  {
   "cell_type": "markdown",
   "metadata": {
    "slideshow": {
     "slide_type": "slide"
    }
   },
   "source": [
    "# Tools"
   ]
  },
  {
   "cell_type": "markdown",
   "metadata": {
    "slideshow": {
     "slide_type": "slide"
    }
   },
   "source": [
    "## Handling text streams with UNIX tools"
   ]
  },
  {
   "cell_type": "code",
   "execution_count": 115,
   "metadata": {
    "collapsed": false,
    "slideshow": {
     "slide_type": "slide"
    }
   },
   "outputs": [],
   "source": [
    "# cat: print output to stdout\n",
    "# !cat DataSets/LogDB.csv # long output"
   ]
  },
  {
   "cell_type": "code",
   "execution_count": 116,
   "metadata": {
    "collapsed": false,
    "slideshow": {
     "slide_type": "slide"
    }
   },
   "outputs": [
    {
     "name": "stdout",
     "output_type": "stream",
     "text": [
      "192.168.13.72 - - [08/May/2015:12:00:00 -0000] \"POST /doc/0 HTTP/1.1\" 200 138 0.155\r\n",
      "192.168.13.85 - - [08/May/2015:12:00:00 -0000] \"PUT /doc/1 HTTP/1.1\" 200 265 11.933\r\n",
      "192.168.13.75 - - [08/May/2015:12:00:00 -0000] \"POST /doc/2 HTTP/1.1\" 200 138 1.190\r\n",
      "192.168.13.85 - - [08/May/2015:12:00:01 -0000] \"PUT /doc/1 HTTP/1.1\" 200 265 34.552\r\n",
      "192.168.13.13 - - [08/May/2015:12:00:01 -0000] \"GET /doc/3 HTTP/1.1\" 200 4047 0.394\r\n",
      "192.168.13.13 - - [08/May/2015:12:00:01 -0000] \"GET /doc/4 HTTP/1.1\" 200 795 0.080\r\n",
      "192.168.13.85 - - [08/May/2015:12:00:01 -0000] \"PUT /doc/1 HTTP/1.1\" 200 265 11.649\r\n",
      "192.168.13.66 - - [08/May/2015:12:00:01 -0000] \"GET /doc/3 HTTP/1.1\" 200 4047 0.351\r\n",
      "192.168.13.66 - - [08/May/2015:12:00:01 -0000] \"GET /doc/4 HTTP/1.1\" 200 795 0.068\r\n",
      "192.168.13.85 - - [08/May/2015:12:00:01 -0000] \"PUT /doc/1 HTTP/1.1\" 200 265 6.433\r\n",
      "cat: write error: Broken pipe\r\n"
     ]
    }
   ],
   "source": [
    "# Print only first 10 lines\n",
    "# Pipe: connect stdout to stdin stream of next command\n",
    "!cat DataSets/LogDB.out | head"
   ]
  },
  {
   "cell_type": "code",
   "execution_count": 117,
   "metadata": {
    "collapsed": false,
    "slideshow": {
     "slide_type": "slide"
    }
   },
   "outputs": [
    {
     "name": "stdout",
     "output_type": "stream",
     "text": [
      "1\r\n",
      "2\r\n",
      "3\r\n"
     ]
    }
   ],
   "source": [
    "# Print only first 3 lines\n",
    "!seq 10 | head -n 3"
   ]
  },
  {
   "cell_type": "code",
   "execution_count": 118,
   "metadata": {
    "collapsed": false,
    "slideshow": {
     "slide_type": "slide"
    }
   },
   "outputs": [
    {
     "name": "stdout",
     "output_type": "stream",
     "text": [
      "1\r\n",
      "2\r\n",
      "3\r\n",
      "4\r\n",
      "5\r\n",
      "6\r\n",
      "7\r\n"
     ]
    }
   ],
   "source": [
    "# Print the first n-3 lines\n",
    "!seq 10 | head -n-3"
   ]
  },
  {
   "cell_type": "code",
   "execution_count": 119,
   "metadata": {
    "collapsed": false,
    "slideshow": {
     "slide_type": "slide"
    }
   },
   "outputs": [
    {
     "name": "stdout",
     "output_type": "stream",
     "text": [
      "8\r\n",
      "9\r\n",
      "10\r\n"
     ]
    }
   ],
   "source": [
    "# Last 3 lines\n",
    "!seq 10 | tail -n 3"
   ]
  },
  {
   "cell_type": "code",
   "execution_count": 120,
   "metadata": {
    "collapsed": false,
    "slideshow": {
     "slide_type": "slide"
    }
   },
   "outputs": [
    {
     "name": "stdout",
     "output_type": "stream",
     "text": [
      "3\r\n",
      "4\r\n",
      "5\r\n",
      "6\r\n",
      "7\r\n",
      "8\r\n",
      "9\r\n",
      "10\r\n"
     ]
    }
   ],
   "source": [
    "# Last n-3 lines: skip first 2 lines\n",
    "!seq 10 | tail -n+3"
   ]
  },
  {
   "cell_type": "code",
   "execution_count": 126,
   "metadata": {
    "collapsed": false,
    "slideshow": {
     "slide_type": "slide"
    }
   },
   "outputs": [
    {
     "name": "stdout",
     "output_type": "stream",
     "text": [
      "3335\r\n"
     ]
    }
   ],
   "source": [
    "# Filter matching lines with grep\n",
    "# Count lines with wc -l\n",
    "!cat DataSets/LogDB.out | grep GET | wc -l"
   ]
  },
  {
   "cell_type": "markdown",
   "metadata": {
    "slideshow": {
     "slide_type": "slide"
    }
   },
   "source": [
    "## perl -pe\n",
    "\n",
    "```\n",
    "-e: Allows you to provide the program as an argument rather\n",
    "    than in a file. You don't want to have to create a script\n",
    "    file for every little Perl one-liner.\n",
    "\n",
    "-p: Places a printing loop around your command so that it acts on each\n",
    "    line of standard input. Used mostly so Perl can beat the\n",
    "    pants off awk in terms of power AND simplicity :-)\n",
    "        \n",
    "```\n",
    "\n",
    "* Very powerful regular expressions\n",
    "* Sane, widely known syntax"
   ]
  },
  {
   "cell_type": "code",
   "execution_count": 185,
   "metadata": {
    "collapsed": false,
    "slideshow": {
     "slide_type": "slide"
    }
   },
   "outputs": [
    {
     "name": "stdout",
     "output_type": "stream",
     "text": [
      "POST /doc/0 HTTP/1.1\r\n",
      "PUT /doc/1 HTTP/1.1\r\n",
      "POST /doc/2 HTTP/1.1\r\n",
      "PUT /doc/1 HTTP/1.1\r\n",
      "GET /doc/3 HTTP/1.1\r\n",
      "GET /doc/4 HTTP/1.1\r\n",
      "PUT /doc/1 HTTP/1.1\r\n",
      "GET /doc/3 HTTP/1.1\r\n",
      "GET /doc/4 HTTP/1.1\r\n",
      "PUT /doc/1 HTTP/1.1\r\n",
      "-p destination: Broken pipe\r\n",
      "cat: write error: Broken pipe\r\n"
     ]
    }
   ],
   "source": [
    "# Parse Log Files with perl -pe\n",
    "!cat DataSets/LogDB.out | perl -pe 's/.*\"(.*)\".*/\\1/' | head\n",
    "\n",
    "\n",
    "# Full csv conversion:\n",
    "# !cat DataSets/LogDB.out | perl -pe 's/^.*\"(.*?) (.*)? (.*)?\" (\\d+) (\\d+) (\\d+.\\d+)$/\\1,\\2,\\4,\\5,\\6/' |  head"
   ]
  },
  {
   "cell_type": "markdown",
   "metadata": {
    "slideshow": {
     "slide_type": "slide"
    }
   },
   "source": [
    "## csvkit (http://csvkit.readthedocs.org/en/0.9.1/)\n",
    "\n",
    "* Set of tools to handle csv files at the command line\n",
    "* Python based"
   ]
  },
  {
   "cell_type": "code",
   "execution_count": 191,
   "metadata": {
    "collapsed": false,
    "slideshow": {
     "slide_type": "slide"
    }
   },
   "outputs": [
    {
     "name": "stdout",
     "output_type": "stream",
     "text": [
      "|----------+---------+---------+---------+---------+----------|\r\n",
      "|  column1 | column2 | column3 | column4 | column5 | column6  |\r\n",
      "|----------+---------+---------+---------+---------+----------|\r\n",
      "|  16      | 6       | 78      | 0       | 0       | 0        |\r\n",
      "|  5       | 3       | 92      | 0       | 0       | 0        |\r\n",
      "|  6       | 3       | 91      | 0       | 0       | 0        |\r\n",
      "|  4       | 2       | 93      | 0       | 0       | 0        |\r\n",
      "|  4       | 3       | 93      | 0       | 0       | 0        |\r\n",
      "|  7       | 2       | 91      | 0       | 0       | 0        |\r\n",
      "|  4       | 2       | 94      | 0       | 0       | 0        |\r\n"
     ]
    }
   ],
   "source": [
    "# pretty print CSV files with csvlook\n",
    "#\n",
    "# -H no headder row provided\n",
    "!csvlook -H DataSets/cpu.out.csv | head"
   ]
  },
  {
   "cell_type": "code",
   "execution_count": 140,
   "metadata": {
    "collapsed": false,
    "slideshow": {
     "slide_type": "slide"
    }
   },
   "outputs": [
    {
     "name": "stdout",
     "output_type": "stream",
     "text": [
      "  1. column1\r\n",
      "\t<type 'int'>\r\n",
      "\tNulls: False\r\n",
      "\tMin: 4\r\n",
      "\tMax: 88\r\n",
      "\tSum: 3056\r\n",
      "\tMean: 30.2574257426\r\n",
      "\tMedian: 21\r\n",
      "\tStandard Deviation: 25.0495166908\r\n",
      "\tUnique values: 50\r\n",
      "\t5 most frequent values:\r\n",
      "\t\t5:\t8\r\n",
      "\t\t16:\t7\r\n",
      "\t\t27:\t4\r\n",
      "\t\t20:\t4\r\n",
      "\t\t7:\t4\r\n",
      "  2. column2\r\n",
      "\t<type 'int'>\r\n",
      "\tNulls: False\r\n",
      "\tMin: 2\r\n",
      "\tMax: 15\r\n",
      "\tSum: 634\r\n",
      "\tMean: 6.27722772277\r\n",
      "\tMedian: 6\r\n",
      "\tStandard Deviation: 3.17826408775\r\n",
      "\tUnique values: 13\r\n",
      "\t5 most frequent values:\r\n",
      "\t\t6:\t17\r\n",
      "\t\t3:\t14\r\n",
      "\t\t5:\t14\r\n",
      "\t\t4:\t10\r\n",
      "\t\t2:\t9\r\n",
      "  3. column3\r\n",
      "\t<type 'int'>\r\n",
      "\tNulls: False\r\n",
      "\tMin: 1\r\n",
      "\tMax: 94\r\n",
      "\tSum: 6364\r\n",
      "\tMean: 63.0099009901\r\n",
      "\tMedian: 72\r\n",
      "\tStandard Deviation: 27.9693945355\r\n",
      "\tUnique values: 53\r\n",
      "\t5 most frequent values:\r\n",
      "\t\t93:\t5\r\n",
      "\t\t92:\t5\r\n",
      "\t\t5:\t4\r\n",
      "\t\t6:\t4\r\n",
      "\t\t79:\t4\r\n",
      "  4. column4\r\n",
      "\t<type 'int'>\r\n",
      "\tNulls: False\r\n",
      "\tValues: 0, 1, 2\r\n",
      "  5. column5\r\n",
      "\t<type 'int'>\r\n",
      "\tNulls: False\r\n",
      "\tValues: 0\r\n",
      "  6. column6\r\n",
      "\t<type 'int'>\r\n",
      "\tNulls: False\r\n",
      "\tValues: 0, 1, 2\r\n",
      "\r\n",
      "Row count: 101\r\n"
     ]
    }
   ],
   "source": [
    "# Print summary statistics for each column\n",
    "!csvstat -H DataSets/cpu.out.csv"
   ]
  },
  {
   "cell_type": "code",
   "execution_count": 187,
   "metadata": {
    "collapsed": false,
    "slideshow": {
     "slide_type": "slide"
    }
   },
   "outputs": [
    {
     "name": "stdout",
     "output_type": "stream",
     "text": [
      "Convert csv to tsv with quoting\n",
      "\"16\"\t\"6\"\t\"78\"\t\"0\"\t\"0\"\t\"0\"\n",
      "\"5\"\t\"3\"\t\"92\"\t\"0\"\t\"0\"\t\"0\"\n",
      "\"6\"\t\"3\"\t\"91\"\t\"0\"\t\"0\"\t\"0\"\n",
      "\n",
      "\n",
      "Convert back to csv\n",
      "16,6,78,0,0,0\n",
      "5,3,92,0,0,0\n",
      "6,3,91,0,0,0\n"
     ]
    }
   ],
   "source": [
    "# convert between different formats\n",
    "\n",
    "#!csvformat -h\n",
    "\n",
    "# to \"-T\" tab separated output, \"-U 1\" quote all\n",
    "!echo \"Convert csv to tsv with quoting\"\n",
    "!cat DataSets/cpu.out.csv | head -n 3 | csvformat -T -U 1\n",
    "\n",
    "!echo \"\\n\\nConvert back to csv\"\n",
    "!cat DataSets/cpu.out.csv | head -n 3 | csvformat -T -U 1 | csvformat -t -u 1"
   ]
  },
  {
   "cell_type": "code",
   "execution_count": 163,
   "metadata": {
    "collapsed": false,
    "slideshow": {
     "slide_type": "slide"
    }
   },
   "outputs": [
    {
     "name": "stdout",
     "output_type": "stream",
     "text": [
      "16,6,78\r\n",
      "5,3,92\r\n",
      "6,3,91\r\n"
     ]
    }
   ],
   "source": [
    "# Select columns from dataset\n",
    "!cat DataSets/cpu.out.csv | head -n 3 | csvcut -c 1-3"
   ]
  },
  {
   "cell_type": "code",
   "execution_count": 192,
   "metadata": {
    "collapsed": true
   },
   "outputs": [],
   "source": [
    "# Need SQL features?\n",
    "\n",
    "# csfjoin - join two csv tables\n",
    "# csvsql  - import to database"
   ]
  },
  {
   "cell_type": "markdown",
   "metadata": {
    "slideshow": {
     "slide_type": "slide"
    }
   },
   "source": [
    "# JSON Handling\n",
    "\n",
    "* jq http://stedolan.github.io/jq/\n",
    "* like xpath, xidel for XML\n"
   ]
  },
  {
   "cell_type": "code",
   "execution_count": 175,
   "metadata": {
    "collapsed": false,
    "scrolled": false,
    "slideshow": {
     "slide_type": "slide"
    }
   },
   "outputs": [
    {
     "name": "stdout",
     "output_type": "stream",
     "text": [
      "[\r\n",
      "  [\r\n",
      "    1358024400,\r\n",
      "    1800,\r\n",
      "    {\r\n",
      "      \"0.5\": 1,\r\n",
      "      \"0.59\": 2,\r\n",
      "      \"1.7\": 1,\r\n",
      "      \"2.5\": 1,\r\n",
      "      \"3.4\": 1,\r\n"
     ]
    }
   ],
   "source": [
    "# pretty print\n",
    "!cat DataSets/HistogramAPI.json | jq '.' | head"
   ]
  },
  {
   "cell_type": "code",
   "execution_count": 188,
   "metadata": {
    "collapsed": false,
    "scrolled": true,
    "slideshow": {
     "slide_type": "slide"
    }
   },
   "outputs": [
    {
     "name": "stdout",
     "output_type": "stream",
     "text": [
      "0.5,1\r\n",
      "0.59,2\r\n",
      "1.7,1\r\n",
      "10,193\r\n",
      "100,1\r\n",
      "11,209\r\n",
      "12,223\r\n",
      "120,1\r\n",
      "13,176\r\n",
      "14,163\r\n"
     ]
    }
   ],
   "source": [
    "# Extract Histogram and convert to csv\n",
    "!cat DataSets/HistogramAPI.json | jq '.[0][2] | to_entries | .[] | [.key, .value] | @csv' --raw-output | csvformat -U 0 | head"
   ]
  },
  {
   "cell_type": "markdown",
   "metadata": {
    "slideshow": {
     "slide_type": "slide"
    }
   },
   "source": [
    "## Feedgnuplot - Quick plotting from the command line\n",
    "  \n",
    "* https://github.com/dkogan/feedgnuplot\n",
    "\n",
    "* Get plots and histograms on the command line\n",
    "\n",
    "* Real-time plotting od incoming data\n",
    "\n",
    "<img src=\"https://pbs.twimg.com/media/Bh6LHikCYAAcLbe.png\">\n",
    "\n",
    "<blockquote class=\"twitter-tweet\" data-cards=\"hidden\" lang=\"en\"><p lang=\"en\" dir=\"ltr\">feedgnuplot totally made my day! <a href=\"https://t.co/9ig6KZ3HQF\">https://t.co/9ig6KZ3HQF</a> Visualizing sensor data from mobile phone via <a href=\"https://twitter.com/hashtag/zeromq?src=hash\">#zeromq</a> done <a href=\"http://t.co/z9ipK3EQhA\">pic.twitter.com/z9ipK3EQhA</a></p>&mdash; Heinrich Hartmann (@HeinrichHartman) <a href=\"https://twitter.com/HeinrichHartman/status/440942775173799936\">March 4, 2014</a></blockquote>\n",
    "<script async src=\"//platform.twitter.com/widgets.js\" charset=\"utf-8\"></script>"
   ]
  },
  {
   "cell_type": "markdown",
   "metadata": {
    "slideshow": {
     "slide_type": "slide"
    }
   },
   "source": [
    "## IPython notebook\n",
    "\n",
    "* Start with `ipython notebook`\n",
    "\n",
    "* Offerst this browser based programming environment\n",
    "\n",
    "* Cells for Markup and Code\n",
    "\n",
    "* Can mix in shell comands with `!` syntax"
   ]
  },
  {
   "cell_type": "code",
   "execution_count": 3,
   "metadata": {
    "collapsed": false
   },
   "outputs": [
    {
     "name": "stdout",
     "output_type": "stream",
     "text": [
      "Hello World!\n"
     ]
    }
   ],
   "source": [
    "print \"Hello World!\""
   ]
  },
  {
   "cell_type": "code",
   "execution_count": 2,
   "metadata": {
    "collapsed": false,
    "slideshow": {
     "slide_type": "slide"
    }
   },
   "outputs": [
    {
     "name": "stdout",
     "output_type": "stream",
     "text": [
      "['Linux HHXPS 3.19.0-23-generic #24-Ubuntu SMP Tue Jul 7 18:52:55 UTC 2015 x86_64 x86_64 x86_64 GNU/Linux']\n"
     ]
    }
   ],
   "source": [
    "files = !uname -a\n",
    "print files"
   ]
  },
  {
   "cell_type": "markdown",
   "metadata": {
    "slideshow": {
     "slide_type": "slide"
    }
   },
   "source": [
    "## Numpy (http://www.numpy.org/)\n",
    "\n",
    "* Numerical Python\n",
    "* High performance array implementation\n",
    "* Vectorized operations\n",
    "* Rich math library\n",
    "* Tools to intergrate Fortran/C/C++ code"
   ]
  },
  {
   "cell_type": "code",
   "execution_count": 4,
   "metadata": {
    "collapsed": true,
    "slideshow": {
     "slide_type": "slide"
    }
   },
   "outputs": [],
   "source": [
    "import numpy as np\n",
    "\n",
    "# Online Help: np?"
   ]
  },
  {
   "cell_type": "code",
   "execution_count": 5,
   "metadata": {
    "collapsed": false,
    "slideshow": {
     "slide_type": "slide"
    }
   },
   "outputs": [
    {
     "data": {
      "text/plain": [
       "array([[1, 2, 3],\n",
       "       [4, 5, 6]])"
      ]
     },
     "execution_count": 5,
     "metadata": {},
     "output_type": "execute_result"
    }
   ],
   "source": [
    "## Creating an array\n",
    "A = np.array([[1,2,3],[4,5,6]])\n",
    "A"
   ]
  },
  {
   "cell_type": "code",
   "execution_count": 6,
   "metadata": {
    "collapsed": false,
    "slideshow": {
     "slide_type": "slide"
    }
   },
   "outputs": [
    {
     "data": {
      "text/plain": [
       "(2, 3)"
      ]
     },
     "execution_count": 6,
     "metadata": {},
     "output_type": "execute_result"
    }
   ],
   "source": [
    "A.shape"
   ]
  },
  {
   "cell_type": "code",
   "execution_count": 7,
   "metadata": {
    "collapsed": false,
    "slideshow": {
     "slide_type": "slide"
    }
   },
   "outputs": [
    {
     "data": {
      "text/plain": [
       "dtype('int64')"
      ]
     },
     "execution_count": 7,
     "metadata": {},
     "output_type": "execute_result"
    }
   ],
   "source": [
    "# homogenous type (automatically inferred)\n",
    "A.dtype"
   ]
  },
  {
   "cell_type": "code",
   "execution_count": 8,
   "metadata": {
    "collapsed": false,
    "slideshow": {
     "slide_type": "slide"
    }
   },
   "outputs": [
    {
     "data": {
      "text/plain": [
       "array([[ 6,  7,  8],\n",
       "       [ 9, 10, 11]])"
      ]
     },
     "execution_count": 8,
     "metadata": {},
     "output_type": "execute_result"
    }
   ],
   "source": [
    "# Scalar operations are applied element wise (Broadcasting)\n",
    "A + 5"
   ]
  },
  {
   "cell_type": "code",
   "execution_count": 9,
   "metadata": {
    "collapsed": false,
    "slideshow": {
     "slide_type": "-"
    }
   },
   "outputs": [
    {
     "data": {
      "text/plain": [
       "array([[0, 0, 1],\n",
       "       [1, 1, 2]])"
      ]
     },
     "execution_count": 9,
     "metadata": {},
     "output_type": "execute_result"
    }
   ],
   "source": [
    "A / 3"
   ]
  },
  {
   "cell_type": "code",
   "execution_count": 10,
   "metadata": {
    "collapsed": false,
    "slideshow": {
     "slide_type": "slide"
    }
   },
   "outputs": [
    {
     "data": {
      "text/plain": [
       "array([[ 2,  4,  6],\n",
       "       [ 8, 10, 12]])"
      ]
     },
     "execution_count": 10,
     "metadata": {},
     "output_type": "execute_result"
    }
   ],
   "source": [
    "# Array operations are applied elementwise\n",
    "A + A"
   ]
  },
  {
   "cell_type": "code",
   "execution_count": 11,
   "metadata": {
    "collapsed": false,
    "slideshow": {
     "slide_type": "-"
    }
   },
   "outputs": [
    {
     "data": {
      "text/plain": [
       "array([[ 1,  4,  9],\n",
       "       [16, 25, 36]])"
      ]
     },
     "execution_count": 11,
     "metadata": {},
     "output_type": "execute_result"
    }
   ],
   "source": [
    "A * A"
   ]
  },
  {
   "cell_type": "code",
   "execution_count": 12,
   "metadata": {
    "collapsed": false,
    "slideshow": {
     "slide_type": "-"
    }
   },
   "outputs": [
    {
     "data": {
      "text/plain": [
       "array([[1, 1, 1],\n",
       "       [1, 1, 1]])"
      ]
     },
     "execution_count": 12,
     "metadata": {},
     "output_type": "execute_result"
    }
   ],
   "source": [
    "A / A"
   ]
  },
  {
   "cell_type": "code",
   "execution_count": 15,
   "metadata": {
    "collapsed": false
   },
   "outputs": [
    {
     "data": {
      "text/plain": [
       "array([[1, 4],\n",
       "       [2, 5],\n",
       "       [3, 6]])"
      ]
     },
     "execution_count": 15,
     "metadata": {},
     "output_type": "execute_result"
    }
   ],
   "source": [
    "## transpose matrix\n",
    "A.T"
   ]
  },
  {
   "cell_type": "code",
   "execution_count": 13,
   "metadata": {
    "collapsed": false,
    "slideshow": {
     "slide_type": "-"
    }
   },
   "outputs": [
    {
     "data": {
      "text/plain": [
       "array([[ 0.        ,  0.69314718,  1.09861229],\n",
       "       [ 1.38629436,  1.60943791,  1.79175947]])"
      ]
     },
     "execution_count": 13,
     "metadata": {},
     "output_type": "execute_result"
    }
   ],
   "source": [
    "# Many functions operate elementwise\n",
    "np.log(A)"
   ]
  },
  {
   "cell_type": "code",
   "execution_count": 16,
   "metadata": {
    "collapsed": false,
    "slideshow": {
     "slide_type": "subslide"
    }
   },
   "outputs": [],
   "source": [
    "# Read data from file\n",
    "X = np.loadtxt(\"DataSets/ReqMultiNode.csv\", delimiter=\",\")\n",
    "\n",
    "# For handling missing data use\n",
    "# X = np.genfromtxt(\"DataSets/ReqMultiNode.csv\")"
   ]
  },
  {
   "cell_type": "code",
   "execution_count": 17,
   "metadata": {
    "collapsed": false
   },
   "outputs": [
    {
     "data": {
      "text/plain": [
       "(2000, 7)"
      ]
     },
     "execution_count": 17,
     "metadata": {},
     "output_type": "execute_result"
    }
   ],
   "source": [
    "X.shape"
   ]
  },
  {
   "cell_type": "code",
   "execution_count": 15,
   "metadata": {
    "collapsed": false,
    "slideshow": {
     "slide_type": "slide"
    }
   },
   "outputs": [
    {
     "data": {
      "text/plain": [
       "array([1, 2, 3])"
      ]
     },
     "execution_count": 15,
     "metadata": {},
     "output_type": "execute_result"
    }
   ],
   "source": [
    "# Slicing and Indexing\n",
    "\n",
    "# first row\n",
    "A[0] "
   ]
  },
  {
   "cell_type": "code",
   "execution_count": 16,
   "metadata": {
    "collapsed": false
   },
   "outputs": [
    {
     "data": {
      "text/plain": [
       "array([4, 5, 6])"
      ]
     },
     "execution_count": 16,
     "metadata": {},
     "output_type": "execute_result"
    }
   ],
   "source": [
    "# last row\n",
    "A[-1]"
   ]
  },
  {
   "cell_type": "code",
   "execution_count": 17,
   "metadata": {
    "collapsed": false
   },
   "outputs": [
    {
     "data": {
      "text/plain": [
       "array([[1, 2, 3]])"
      ]
     },
     "execution_count": 17,
     "metadata": {},
     "output_type": "execute_result"
    }
   ],
   "source": [
    "A[0:1] # rows [0 - 1)"
   ]
  },
  {
   "cell_type": "code",
   "execution_count": 18,
   "metadata": {
    "collapsed": false
   },
   "outputs": [
    {
     "data": {
      "text/plain": [
       "array([[  1.39875690e+09,   1.21666706e+00,   9.96667027e-01,\n",
       "          1.23333299e+00,   8.83333027e-01,   1.03666306e+00,\n",
       "          1.02333295e+00],\n",
       "       [  1.39875780e+09,   1.03333294e+00,   8.63332987e-01,\n",
       "          1.09333301e+00,   7.73333013e-01,   8.99999976e-01,\n",
       "          8.66666973e-01],\n",
       "       [  1.39875870e+09,   7.73330986e-01,   7.16666996e-01,\n",
       "          8.36667001e-01,   6.06666982e-01,   7.66667008e-01,\n",
       "          7.43332982e-01],\n",
       "       [  1.39875960e+09,   9.83332992e-01,   7.63333023e-01,\n",
       "          1.10999596e+00,   7.23333001e-01,   7.69999981e-01,\n",
       "          7.76666999e-01]])"
      ]
     },
     "execution_count": 18,
     "metadata": {},
     "output_type": "execute_result"
    }
   ],
   "source": [
    "X[0:10:3] # rows [0 - 10) in steps of 3"
   ]
  },
  {
   "cell_type": "code",
   "execution_count": 19,
   "metadata": {
    "collapsed": false,
    "slideshow": {
     "slide_type": "-"
    }
   },
   "outputs": [
    {
     "data": {
      "text/plain": [
       "array([ 1.23333299,  1.09333301,  0.836667  ,  1.10999596])"
      ]
     },
     "execution_count": 19,
     "metadata": {},
     "output_type": "execute_result"
    }
   ],
   "source": [
    "X[0:10:3,3] # only third column"
   ]
  },
  {
   "cell_type": "code",
   "execution_count": 194,
   "metadata": {
    "collapsed": false,
    "slideshow": {
     "slide_type": "slide"
    }
   },
   "outputs": [
    {
     "data": {
      "text/plain": [
       "array([False, False, False, ..., False, False, False], dtype=bool)"
      ]
     },
     "execution_count": 194,
     "metadata": {},
     "output_type": "execute_result"
    }
   ],
   "source": [
    "# Boolean Arrays\n",
    "X[:,1] < 1"
   ]
  },
  {
   "cell_type": "code",
   "execution_count": 195,
   "metadata": {
    "collapsed": false
   },
   "outputs": [
    {
     "name": "stdout",
     "output_type": "stream",
     "text": [
      "(463, 7)\n"
     ]
    },
    {
     "data": {
      "text/plain": [
       "array([[  1.39875810e+09,   9.89997029e-01,   7.76666999e-01, ...,\n",
       "          8.16667020e-01,   8.96667004e-01,   8.60000014e-01],\n",
       "       [  1.39875870e+09,   7.73330986e-01,   7.16666996e-01, ...,\n",
       "          6.06666982e-01,   7.66667008e-01,   7.43332982e-01],\n",
       "       [  1.39875900e+09,   8.36669028e-01,   6.93331003e-01, ...,\n",
       "          6.89999998e-01,   8.00000012e-01,   8.13332975e-01],\n",
       "       ..., \n",
       "       [  1.39929330e+09,   8.83333027e-01,   7.33335972e-01, ...,\n",
       "          7.96666980e-01,   8.39999974e-01,   8.03332984e-01],\n",
       "       [  1.39929360e+09,   8.13332975e-01,   6.49999976e-01, ...,\n",
       "          7.79999971e-01,   8.36667001e-01,   8.73332977e-01],\n",
       "       [  1.39929390e+09,   9.73333001e-01,   7.03333020e-01, ...,\n",
       "          8.06666970e-01,   9.66666996e-01,   7.73333013e-01]])"
      ]
     },
     "execution_count": 195,
     "metadata": {},
     "output_type": "execute_result"
    }
   ],
   "source": [
    "# Boolean Indexing\n",
    "print X[X[:,1] < 1].shape\n",
    "X[X[:,1] < 1]"
   ]
  },
  {
   "cell_type": "code",
   "execution_count": 196,
   "metadata": {
    "collapsed": false,
    "slideshow": {
     "slide_type": "slide"
    }
   },
   "outputs": [
    {
     "name": "stdout",
     "output_type": "stream",
     "text": [
      "3.5 6 1\n",
      "2.0\n",
      "3.5\n"
     ]
    }
   ],
   "source": [
    "# Some statistical methods\n",
    "\n",
    "print A.mean(), A.max(), A.min()\n",
    "print np.percentile(A, 20)\n",
    "print np.median(A)"
   ]
  },
  {
   "cell_type": "markdown",
   "metadata": {
    "slideshow": {
     "slide_type": "slide"
    }
   },
   "source": [
    "# Matplotlib (http://matplotlib.org/)\n",
    "\n",
    "* Powerful python plotting libarary\n",
    "* Tools like seaborn, pandas are based on it\n",
    "* Offers Object oriented API and pyplot MATLAB-like stateful API.\n",
    "* Tutorial: https://scipy-lectures.github.io/intro/matplotlib/matplotlib.html#ipython-and-the-pylab-mode"
   ]
  },
  {
   "cell_type": "code",
   "execution_count": 18,
   "metadata": {
    "collapsed": true,
    "slideshow": {
     "slide_type": "slide"
    }
   },
   "outputs": [],
   "source": [
    "# Imports\n",
    "%matplotlib inline\n",
    "from matplotlib import pyplot as plt"
   ]
  },
  {
   "cell_type": "code",
   "execution_count": 19,
   "metadata": {
    "collapsed": false
   },
   "outputs": [
    {
     "data": {
      "image/png": "[encoded data removed]",
      "text/plain": [
       "<matplotlib.figure.Figure at 0x7f169c1f8cd0>"
      ]
     },
     "metadata": {},
     "output_type": "display_data"
    }
   ],
   "source": [
    "# Figure object provides canvas to paint on\n",
    "f = plt.figure()\n",
    "\n",
    "# set size in inces\n",
    "f.set_figheight(3)\n",
    "f.set_figwidth(5)\n",
    "\n",
    "# Add coordinate system with rectangle coordinates\n",
    "ax1 = f.add_axes([0,0,0.5,0.5])\n",
    "ax2 = f.add_axes([0.5,0.5,0.5,0.5])\n",
    "\n",
    "# Set title\n",
    "ax1.set_title(\"Axes1\")\n",
    "ax2.set_title(\"Axes2\")\n",
    "\n",
    "# Plot something on axes: Creates list of line objects\n",
    "l1 = ax1.plot([1,2,3],[1,2,1])\n",
    "l2 = ax2.plot([1,2,3],[2,1,1], linestyle='--')\n",
    "\n",
    "l1[0].set_color(\"red\")\n",
    "l2[0].set_color(\"green\")"
   ]
  },
  {
   "cell_type": "code",
   "execution_count": 20,
   "metadata": {
    "collapsed": false,
    "slideshow": {
     "slide_type": "slide"
    }
   },
   "outputs": [
    {
     "data": {
      "image/png": "[encoded data removed]",
      "text/plain": [
       "<matplotlib.figure.Figure at 0x7f169c1f8cd0>"
      ]
     },
     "execution_count": 20,
     "metadata": {},
     "output_type": "execute_result"
    }
   ],
   "source": [
    "ax1.legend(['red line'])\n",
    "f"
   ]
  },
  {
   "cell_type": "code",
   "execution_count": 21,
   "metadata": {
    "collapsed": false,
    "slideshow": {
     "slide_type": "slide"
    }
   },
   "outputs": [
    {
     "data": {
      "text/plain": [
       "(0, 6)"
      ]
     },
     "execution_count": 21,
     "metadata": {},
     "output_type": "execute_result"
    },
    {
     "data": {
      "image/png": "[encoded data removed]",
      "text/plain": [
       "<matplotlib.figure.Figure at 0x7f16a7c30750>"
      ]
     },
     "metadata": {},
     "output_type": "display_data"
    }
   ],
   "source": [
    "# Simplified Plotting with pyplot\n",
    "# Manages figure and axis in background\n",
    "\n",
    "plt.plot([1,2,3],[4,5,3], 'o-')\n",
    "plt.title(\"Example line plot\")\n",
    "plt.legend([\"red line\"])\n",
    "plt.xlim(0,5)\n",
    "plt.ylim(0,6)"
   ]
  },
  {
   "cell_type": "code",
   "execution_count": 22,
   "metadata": {
    "collapsed": false,
    "slideshow": {
     "slide_type": "slide"
    }
   },
   "outputs": [
    {
     "data": {
      "text/plain": [
       "<seaborn.axisgrid.JointGrid at 0x7f166ff82390>"
      ]
     },
     "execution_count": 22,
     "metadata": {},
     "output_type": "execute_result"
    },
    {
     "data": {
      "image/png": "[encoded data removed]",
      "text/plain": [
       "<matplotlib.figure.Figure at 0x7f166ff82410>"
      ]
     },
     "metadata": {},
     "output_type": "display_data"
    }
   ],
   "source": [
    "# Seaborn Statistical Data Visualization:\n",
    "# http://stanford.edu/~mwaskom/software/seaborn/index.html\n",
    "\n",
    "import seaborn as sns\n",
    "\n",
    "sns.jointplot(X[:,3],X[:,4])"
   ]
  },
  {
   "cell_type": "code",
   "execution_count": 26,
   "metadata": {
    "collapsed": false
   },
   "outputs": [
    {
     "data": {
      "image/png": "[encoded data removed]",
      "text/plain": [
       "<matplotlib.figure.Figure at 0x7f165b82fed0>"
      ]
     },
     "metadata": {},
     "output_type": "display_data"
    }
   ],
   "source": [
    "sns.boxplot(X[:,2:])\n",
    "plt.savefig(\"boxes.svg\")"
   ]
  },
  {
   "cell_type": "code",
   "execution_count": null,
   "metadata": {
    "collapsed": true
   },
   "outputs": [],
   "source": []
  }
 ],
 "metadata": {
  "celltoolbar": "Slideshow",
  "kernelspec": {
   "display_name": "Python 2",
   "language": "python",
   "name": "python2"
  },
  "language_info": {
   "codemirror_mode": {
    "name": "ipython",
    "version": 2
   },
   "file_extension": ".py",
   "mimetype": "text/x-python",
   "name": "python",
   "nbconvert_exporter": "python",
   "pygments_lexer": "ipython2",
   "version": "2.7.9"
  }
 },
 "nbformat": 4,
 "nbformat_minor": 0
}
