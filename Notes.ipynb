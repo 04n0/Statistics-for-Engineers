{
 "cells": [
  {
   "cell_type": "code",
   "execution_count": 1,
   "metadata": {
    "collapsed": false
   },
   "outputs": [
    {
     "name": "stdout",
     "output_type": "stream",
     "text": [
      "0.01\n",
      "0.01\n",
      "0.01\n"
     ]
    }
   ],
   "source": [
    "import numpy as np\n",
    "H = np.loadtxt(\"DataSets/HistogramAPI_10.csv\", delimiter=\",\")\n",
    "import math\n",
    "def bin_size(x):\n",
    "    return math.pow(10,math.floor(math.log10(x))-1)\n",
    "print bin_size(0.1)\n",
    "print bin_size(0.9)\n",
    "print bin_size(0.99)\n",
    "p = 1\n",
    "out = []\n",
    "for b,c in H:\n",
    "    for _ in xrange(int(c)):\n",
    "        if np.random.rand() < p:\n",
    "            out.append(b + np.random.uniform(low=b,high=b+bin_size(b)))\n",
    "from matplotlib import pyplot as plt\n",
    "%matplotlib qt\n",
    "plt.hist(out, bins=200)\n",
    "plt.show()"
   ]
  },
  {
   "cell_type": "code",
   "execution_count": null,
   "metadata": {
    "collapsed": true
   },
   "outputs": [],
   "source": []
  }
 ],
 "metadata": {
  "kernelspec": {
   "display_name": "Python 2",
   "language": "python",
   "name": "python2"
  },
  "language_info": {
   "codemirror_mode": {
    "name": "ipython",
    "version": 2
   },
   "file_extension": ".py",
   "mimetype": "text/x-python",
   "name": "python",
   "nbconvert_exporter": "python",
   "pygments_lexer": "ipython2",
   "version": "2.7.9"
  }
 },
 "nbformat": 4,
 "nbformat_minor": 0
}
