{
 "cells": [
  {
   "cell_type": "markdown",
   "metadata": {
    "slideshow": {
     "slide_type": "slide"
    }
   },
   "source": [
    "# Statistics for Engineers\n",
    "\n",
    "Tutorial at [Velocity Amsterdam](http://velocityconf.com/devops-web-performance-eu-2015/public/schedule/speaker/205186) on 2015-10-28\n",
    "\n",
    "by Heinrich Hartmann\n",
    "\n"
   ]
  },
  {
   "cell_type": "markdown",
   "metadata": {
    "slideshow": {
     "slide_type": "slide"
    }
   },
   "source": [
    "<img src=\"img/me.jpg\" width=\"150px\" style=\"float:right\">\n",
    "\n",
    "## About me\n",
    "\n",
    "* Heinrich Hartmann\n",
    "* Chief Data Scientist at Circonus\n",
    "* Twitter: [@HeinrichHartman](https://twitter.com/HeinrichHartman)\n",
    "* Blog: [HeinrichHartmann.com](http://heinrichhartmann.com)\n",
    "\n",
    "<h3 style=\"clear:both\">Bio</h3>\n",
    "\n",
    "* From Mainz, Germany\n",
    "* Academice carreer in pure Mathematics (Mainz, Bonn, Oxford)\n",
    "* Switched to IT (Uni Koblenz, Consultant)\n",
    "* at Circonus\n",
    "\n",
    "<img src=\"img/Circonus_Logo.png\" style=\"margin-right:auto; margin-left:auto\">\n"
   ]
  },
  {
   "cell_type": "markdown",
   "metadata": {
    "slideshow": {
     "slide_type": "slide"
    }
   },
   "source": [
    "# About Circonus\n",
    "\n",
    "* http://circonus.com\n",
    "* Any data. Any system. Any where.\n",
    "* Monitoring and Analytics for experts\n",
    "\n",
    "<figure>\n",
    "<img src=\"http://www.circonus.com/wp-content/uploads/2015/03/Exec-Dashboard.png\" width=\"400px\">\n",
    "<figcaption>A circonus oerations dashboard</figcaption>\n",
    "</figure>"
   ]
  },
  {
   "cell_type": "markdown",
   "metadata": {
    "slideshow": {
     "slide_type": "slide"
    }
   },
   "source": [
    "## Challenges for Engineers / Operations\n",
    "\n",
    "1. **Fault detection** -- Is it up? Is it running well? Are my users happy?\n",
    "2. **Service Level Monitoring** -- Are my services performing good enough?\n",
    "3. **Capacity Planning** -- How much ressources will I need tomorrow?\n",
    "4. **Performance monitoring** -- How can I make it faster?"
   ]
  },
  {
   "cell_type": "markdown",
   "metadata": {
    "slideshow": {
     "slide_type": "notes"
    }
   },
   "source": [
    "This document contains some lessons learned form building and supporting the Circonus monitoring product. We have been looking at Gbs of real production data Tested a lot of different methods to help our clients be successfull at this challenges. Here we present some lessons learned."
   ]
  },
  {
   "cell_type": "markdown",
   "metadata": {
    "slideshow": {
     "slide_type": "slide"
    }
   },
   "source": [
    "# Classical Statistics is not up to the task\n",
    "\n",
    "This is an introcutory example of the Book used at my statistics class at University:\n",
    "\n",
    "<figure>\n",
    "<img src=\"img/Georgii_Example.png\" class=\"#borderimg\">\n",
    "<figcaption>Example from Georgii - Stochastik</figcaption>\n",
    "</figure>"
   ]
  },
  {
   "cell_type": "markdown",
   "metadata": {
    "slideshow": {
     "slide_type": "slide"
    }
   },
   "source": [
    "## The world has changed since 1749\n",
    "\n",
    "Classical Statistics evolved in the 18th - century:\n",
    "\n",
    "* Data was rare and precious (e.g. Tychobrahes measurements) \n",
    "* Computation was very expensive (hire humans to do it)\n",
    "* Very elaborate theory to avoid computations\n",
    "\n",
    "We live in a different world now:\n",
    "\n",
    "* Abundance of data (measure everything!).\n",
    "* Abundance of computational ressources.\n",
    "* Highly irregular and diverse metric behavior in practice."
   ]
  },
  {
   "cell_type": "markdown",
   "metadata": {
    "slideshow": {
     "slide_type": "slide"
    }
   },
   "source": [
    "##  Revised Example\n",
    "\n",
    "The introduction example translated to out time and domain.\n",
    "\n",
    "<blockquote>\n",
    "An engineer want's to know how many requests were serviced in less then 100ms each hour.\n",
    "<ol>\n",
    "<li>He measures the latencies of all requests in an hour.</li>\n",
    "<li>He computes the ratio of samples that are less then 100ms (Inverse Percentile).</li>\n",
    "</ol>\n",
    "Done.\n",
    "</blockquote>"
   ]
  },
  {
   "cell_type": "markdown",
   "metadata": {
    "slideshow": {
     "slide_type": "slide"
    }
   },
   "source": [
    "# Plan for today\n",
    "\n",
    "* _No_ formal introduction to probablility theory and classical, parametric statistics.\n",
    "* There is not definite treatment of \"Statistics for Engineers\" yet!\n",
    "* Instead, offer *episodes* of methods that work in practice.\n",
    "\n",
    "## Outline\n",
    "* Episode 0 -- Introduction\n",
    "* Episode 1 -- Visualizing Data\n",
    "* Episode 2 -- Histograms\n",
    "* Episode 3 -- Summary Statistics\n",
    "* Episode 4 -- Quantiles and Outliers\n",
    "* Episode 5 -- Forecasting Data"
   ]
  }
 ],
 "metadata": {
  "anaconda-cloud": {},
  "celltoolbar": "Slideshow",
  "kernelspec": {
   "display_name": "Python [Root]",
   "language": "python",
   "name": "Python [Root]"
  },
  "language_info": {
   "codemirror_mode": {
    "name": "ipython",
    "version": 2
   },
   "file_extension": ".py",
   "mimetype": "text/x-python",
   "name": "python",
   "nbconvert_exporter": "python",
   "pygments_lexer": "ipython2",
   "version": "2.7.11"
  }
 },
 "nbformat": 4,
 "nbformat_minor": 0
}
