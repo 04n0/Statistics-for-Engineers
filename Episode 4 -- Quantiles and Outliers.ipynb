{
 "cells": [
  {
   "cell_type": "markdown",
   "metadata": {},
   "source": [
    "# Episode 4 -- Quantiles and Outliers"
   ]
  },
  {
   "cell_type": "markdown",
   "metadata": {},
   "source": [
    "* Classical summary statistics good for describing the body of the distribution\n",
    "* Need information about the tail of the distributions, e.g. for writing good SLAs\n",
    "* Determine outliers in a dataset"
   ]
  },
  {
   "cell_type": "code",
   "execution_count": 26,
   "metadata": {
    "collapsed": true
   },
   "outputs": [],
   "source": [
    "import math\n",
    "import random\n",
    "import numpy as np\n",
    "import matplotlib as mpl\n",
    "from matplotlib import pyplot as plt\n",
    "import seaborn as sns\n",
    "mpl.rcParams['figure.figsize'] = (15,5)\n",
    "%matplotlib inline\n",
    "X = np.loadtxt(\"DataSets/RequestRates.csv\", delimiter=\",\")[:,1]"
   ]
  },
  {
   "cell_type": "markdown",
   "metadata": {},
   "source": [
    "# Comulative Distribution Functions"
   ]
  },
  {
   "cell_type": "markdown",
   "metadata": {},
   "source": [
    "The (empirical) cumulative distribution function of a dataset $X$, is defined as:\n",
    "\n",
    "$$ CDF(y) = \\# \\{ i \\, | \\, x_i \\leq y \\} / \\# X $$\n",
    "\n",
    "So CDF(y) = the ratio of samples that are lower than $y$."
   ]
  },
  {
   "cell_type": "code",
   "execution_count": 74,
   "metadata": {
    "collapsed": true
   },
   "outputs": [],
   "source": [
    "def CDF(y,X):\n",
    "    lower_count = 0\n",
    "    for x in X:\n",
    "        if x <= y: lower_count += 1\n",
    "    return float(lower_count) / len(X)"
   ]
  },
  {
   "cell_type": "code",
   "execution_count": 75,
   "metadata": {
    "collapsed": false
   },
   "outputs": [
    {
     "data": {
      "text/plain": [
       "<matplotlib.axes._subplots.AxesSubplot at 0x7f67209ffbd0>"
      ]
     },
     "execution_count": 75,
     "metadata": {},
     "output_type": "execute_result"
    },
    {
     "data": {
      "image/png": "[encoded data removed]",
      "text/plain": [
       "<matplotlib.figure.Figure at 0x7f67209ffc50>"
      ]
     },
     "metadata": {},
     "output_type": "display_data"
    }
   ],
   "source": [
    "grid = np.linspace(0,3000,100)\n",
    "plt.figure(figsize=(20,5))\n",
    "plt.plot(grid, [CDF(y,X) for y in grid])\n",
    "sns.rugplot(X)"
   ]
  },
  {
   "cell_type": "markdown",
   "metadata": {},
   "source": [
    "Properties:\n",
    "\n",
    "* $0 \\leq CDF(y) \\leq 1$\n",
    "* CDF is monotonically increasing"
   ]
  },
  {
   "cell_type": "markdown",
   "metadata": {},
   "source": [
    "## Example: Using CDF to monitor SLAs\n",
    "\n",
    "CDFs can be used to determine service levels.\n",
    "\n",
    "1. Measure response time latencies each minute over 1h\n",
    "2. Calculate `CDF(<max tolerable latency>)` for each 1h window\n",
    "3. Good service when `CDF = 1`\n"
   ]
  },
  {
   "cell_type": "markdown",
   "metadata": {},
   "source": [
    "<figure>\n",
    "<img src=\"img/example_cdf_sla.png\">\n",
    "<figcaption>CDF(0.05) over 1h windows for Twitter Ping Latencies</figcaption>\n",
    "</figure>\n",
    "\n",
    "* share: https://share.circonus.com/shared/graphs/65d896dd-2be3-4be9-a76d-6fec209358b1/ZrBa3u\n",
    "* graph: https://parlette.circonus.com/trending/graphs/view/65d896dd-2be3-4be9-a76d-6fec209358b1#no-set"
   ]
  },
  {
   "cell_type": "markdown",
   "metadata": {},
   "source": [
    "## Example: CDF for a histogram metric"
   ]
  },
  {
   "cell_type": "markdown",
   "metadata": {},
   "source": [
    "* Calculate CDF over all requestst that arrived in 1h\n",
    "* Catch delays that affect only a small fraction of the requests\n",
    "\n",
    "<figure>\n",
    "<img src=\"img/example_histogram_IVP.png\">\n",
    "<figcaption>Histogram metric with CFD(3) over 1h windows</figcaption>\n",
    "</figure>\n",
    "\n",
    "* share:https://share.circonus.com/shared/graphs/0455bb94-1fbd-4128-9364-41d756d98933/iZntwd\n",
    "\n",
    "* graph: https://circonus-ops.circonus.com/trending/graphs/view/0455bb94-1fbd-4128-9364-41d756d98933#no-set"
   ]
  },
  {
   "cell_type": "markdown",
   "metadata": {},
   "source": [
    "# Quantiles and Percentiles\n",
    "\n",
    "* Complement or Inverse to CDFs:\n",
    "  - CDF: The ratio of samples was below 100 was `<CDF>`\n",
    "  - Quantile: 90% of all queries where faster than `<quantile>`\n",
    "* Qunatile parameter is indpendent of value range"
   ]
  },
  {
   "cell_type": "markdown",
   "metadata": {},
   "source": [
    "Examples:\n",
    "\n",
    "* The minimum is a 0-quantile\n",
    "* A median is a 0.5-quantile\n",
    "* The maximum is a 1-quantile\n",
    "\n",
    "Special names:\n",
    "\n",
    "* Quartiles: $k/4$-quantiles\n",
    "* Percentiles: $k/100$-quantiles"
   ]
  },
  {
   "cell_type": "markdown",
   "metadata": {},
   "source": [
    "### Median\n",
    "\n",
    "A _median value_ for $x_1, \\dots, x_n$ is number $m$ such that\n",
    "  \n",
    " $$ \\# \\{ i \\,|\\, x_i \\leq m \\} = \\# \\{ i \\,|\\, x_i \\geq m \\}. $$\n",
    "\n",
    "So the number of samples smaller than $m$ is equal to the number of samples larger than $m$.\n",
    "(Both should be roughly $n/2$).\n",
    "  \n",
    "Remark:\n",
    "\n",
    "* A Median always exists\n",
    "* Median is not unique\n",
    "* Can be computed in linear time\n",
    "* Not influenced by outliers (robust)"
   ]
  },
  {
   "cell_type": "code",
   "execution_count": 61,
   "metadata": {
    "collapsed": false
   },
   "outputs": [],
   "source": [
    "# Computation of the median\n",
    "\n",
    "def median_range(X):\n",
    "    S = sorted(X)\n",
    "    n = len(X) # S[0] < ... < S[n-1]\n",
    "    lower_mid = int(math.floor((n-1)/2.))\n",
    "    upper_mid = int(math.ceil((n-1)/2.))\n",
    "    return (S[lower_mid], S[upper_mid])\n",
    "\n",
    "def plot_median_range(X):\n",
    "    plt.figure(figsize=(20,5))\n",
    "    sns.rugplot(X, color=\"green\", height=1)\n",
    "    sns.rugplot(median_range(X), color=\"red\", height=-1)"
   ]
  },
  {
   "cell_type": "code",
   "execution_count": 63,
   "metadata": {
    "collapsed": false
   },
   "outputs": [
    {
     "data": {
      "image/png": "[encoded data removed]",
      "text/plain": [
       "<matplotlib.figure.Figure at 0x7f6721d2dad0>"
      ]
     },
     "metadata": {},
     "output_type": "display_data"
    }
   ],
   "source": [
    "plot_median_range([1,2,3,4])"
   ]
  },
  {
   "cell_type": "code",
   "execution_count": 72,
   "metadata": {
    "collapsed": false
   },
   "outputs": [
    {
     "name": "stdout",
     "output_type": "stream",
     "text": [
      "Median range (1398.07824707031, 1401.24816894531)\n"
     ]
    },
    {
     "data": {
      "image/png": "[encoded data removed]",
      "text/plain": [
       "<matplotlib.figure.Figure at 0x7f6720c4ab90>"
      ]
     },
     "metadata": {},
     "output_type": "display_data"
    }
   ],
   "source": [
    "print \"Median range\", median_range(X)\n",
    "plot_median_range(X)"
   ]
  },
  {
   "cell_type": "code",
   "execution_count": 73,
   "metadata": {
    "collapsed": false
   },
   "outputs": [
    {
     "name": "stdout",
     "output_type": "stream",
     "text": [
      "(1401.24816894531, 1401.24816894531)\n"
     ]
    }
   ],
   "source": [
    "# Median is little affected by outliers\n",
    "print median_range(list(X) + [20000])"
   ]
  },
  {
   "cell_type": "markdown",
   "metadata": {},
   "source": [
    "# General Definition of Quantiles\n",
    "Let $0\\leq q \\leq 1$ be a real number. A $q$-quantile for $X$ is a value $y$ such that, if\n",
    "\n",
    "$$ \\#\\{i \\,|\\, x_i \\leq y \\} \\geq q \\cdot n  $$\n",
    "\n",
    "and\n",
    "\n",
    "$$ \\#\\{i \\,|\\, x_i \\geq y \\} \\geq (1-q) \\cdot n $$\n",
    "\n",
    "Roughly speaking, $y$ divides $X$ in $q \\cdot n$ samples that are lower than $y$ and $(1-q) \\cdot n$ samples that are larger than $y$.\n",
    "\n",
    "Remarks:\n",
    "\n",
    "* Quantiles always exists\n",
    "* Non unique (like median)\n",
    "* Lot's of ways to choose a quantile function, i.e. interpolate between $s_a$ and $s_b$ cf.  \n",
    "  http://en.wikipedia.org/wiki/Quantile#Estimating_the_quantiles_of_a_population"
   ]
  },
  {
   "cell_type": "code",
   "execution_count": 110,
   "metadata": {
    "collapsed": true
   },
   "outputs": [],
   "source": [
    "# Computation of Quantiles\n",
    "\n",
    "def quantile_range(q,X):\n",
    "    S = sorted(X)\n",
    "    n = len(X)\n",
    "    upper_d = int(math.ceil(q * (n + 1)))\n",
    "    lower_d = int(math.floor(q * (n + 1)))\n",
    "    if upper_d == 0: upper_d = 1\n",
    "    if upper_d == n+1: upper_d = n\n",
    "    if lower_d == 0: lower_d = 1\n",
    "    if lower_d == n+1: lower_d = n\n",
    "    return (S[lower_d-1], S[upper_d-1])\n",
    "\n",
    "def quantile(q,X):\n",
    "    a,b = quantile_range(q,X)\n",
    "    return (a+b)/2 # mid point quantile\n",
    "\n",
    "def plot_quantile_range(q,X):\n",
    "    plt.figure(figsize=(20,5))\n",
    "    sns.rugplot(X, color=\"green\", height=1)\n",
    "    sns.rugplot(quantile_range(q,X), color=\"red\", height=-1)"
   ]
  },
  {
   "cell_type": "code",
   "execution_count": 111,
   "metadata": {
    "collapsed": false
   },
   "outputs": [
    {
     "data": {
      "image/png": "[encoded data removed]",
      "text/plain": [
       "<matplotlib.figure.Figure at 0x7f67206d4f50>"
      ]
     },
     "metadata": {},
     "output_type": "display_data"
    }
   ],
   "source": [
    "plot_quantile_range(.25,[1,2,3,4])"
   ]
  },
  {
   "cell_type": "markdown",
   "metadata": {},
   "source": [
    "# Example: Ping Latency Quantiles\n",
    "\n",
    "* Plot of (Twitter) ping latencies\n",
    "* With Quantiles as horizontal lines\n",
    "  - Q(1) = max\n",
    "  - Q(0.99)\n",
    "  - Q(0.95)\n",
    "\n",
    "<img src=\"img/Circonus_Quantiles.png\">"
   ]
  },
  {
   "cell_type": "markdown",
   "metadata": {},
   "source": [
    "# Example: Quantiles for a Hisogram metric\n",
    "\n",
    "* Q(0.25) \n",
    "* Q(0.5) - Median\n",
    "* Q(0.75)\n",
    "\n",
    "<img src=\"img/Circonus_Histogram_Box.png\"/>"
   ]
  },
  {
   "cell_type": "markdown",
   "metadata": {},
   "source": [
    "# Outliers\n",
    "\n",
    "The interquartile range of a sample X is defined as:\n",
    "\n",
    "`IQR(X) = Q(0.75,X) - Q(0.25,X)`\n",
    "\n",
    "It is a robust measure for variance of the data.\n",
    "\n",
    "**Def.** (Tukey, 1969) a k-outlier is a data point X which is either\n",
    "\n",
    "* larger than `Q(0.75) + k * IQR(X)` or\n",
    "* smaller than `Q(0.25) - k * IQR(X)`.\n",
    "\n",
    "An outlier (without k) is an 1.5-outlier."
   ]
  },
  {
   "cell_type": "code",
   "execution_count": 119,
   "metadata": {
    "collapsed": true
   },
   "outputs": [],
   "source": [
    "def IQR(X): return quantile(0.75,X)-quantile(0.25,X)\n",
    "\n",
    "def outliers(X, k=1.5):\n",
    "    iqr = IQR(X)\n",
    "    lower_bound = quantile(0.25,X) - k * iqr\n",
    "    upper_bound = quantile(0.75,X) + k * iqr\n",
    "    out = []\n",
    "    for x in X:\n",
    "        if x < lower_bound: out.append(x)\n",
    "        if x > upper_bound: out.append(x)\n",
    "    return out"
   ]
  },
  {
   "cell_type": "code",
   "execution_count": 131,
   "metadata": {
    "collapsed": false
   },
   "outputs": [
    {
     "data": {
      "text/plain": [
       "<matplotlib.axes._subplots.AxesSubplot at 0x7f67201a9250>"
      ]
     },
     "execution_count": 131,
     "metadata": {},
     "output_type": "execute_result"
    },
    {
     "data": {
      "image/png": "[encoded data removed]",
      "text/plain": [
       "<matplotlib.figure.Figure at 0x7f67203c6510>"
      ]
     },
     "metadata": {},
     "output_type": "display_data"
    }
   ],
   "source": [
    "plt.figure(figsize=(20,3))\n",
    "sns.rugplot(X, height=1, color=\"blue\")\n",
    "sns.rugplot(outliers(X,1.5), height=-1, color=\"red\")"
   ]
  },
  {
   "cell_type": "markdown",
   "metadata": {},
   "source": [
    "# Tukey's Boxplots\n",
    "\n",
    "Show:\n",
    "\n",
    "* Median\n",
    "* Box around 0.25 and 0.75 Quantiles\n",
    "* \"whiskers\" from min to max\n",
    "* points for outliers\n",
    "\n",
    "Allows visual clues:\n",
    "\n",
    "* Where is the data concentracted?\n",
    "* How far is it spread?\n",
    "* How skew is the data?"
   ]
  },
  {
   "cell_type": "code",
   "execution_count": 136,
   "metadata": {
    "collapsed": false
   },
   "outputs": [
    {
     "data": {
      "image/png": "[encoded data removed]",
      "text/plain": [
       "<matplotlib.figure.Figure at 0x7f67203c6b90>"
      ]
     },
     "metadata": {},
     "output_type": "display_data"
    }
   ],
   "source": [
    "# Tukey Boxplots show outliers as 'points' outside the whiskers\n",
    "plt.figure(figsize=(15,1))\n",
    "sns.boxplot(X, vert=False)\n",
    "plt.show()\n",
    "\n",
    "# Normal data\n",
    "# X = [np.random.normal() for x in xrange(100)]\n",
    "\n",
    "# Add outlier\n",
    "# XO = X + [20]\n",
    "\n",
    "#plt.figure(figsize=(15,1))\n",
    "#sns.boxplot(XO, vert=False).set_xlim(-20,20)\n",
    "#plt.show()\n",
    "\n",
    "# Note, that IQR and Median are not affected by the outlier!"
   ]
  },
  {
   "cell_type": "code",
   "execution_count": null,
   "metadata": {
    "collapsed": true
   },
   "outputs": [],
   "source": []
  }
 ],
 "metadata": {
  "kernelspec": {
   "display_name": "Python 2",
   "language": "python",
   "name": "python2"
  },
  "language_info": {
   "codemirror_mode": {
    "name": "ipython",
    "version": 2
   },
   "file_extension": ".py",
   "mimetype": "text/x-python",
   "name": "python",
   "nbconvert_exporter": "python",
   "pygments_lexer": "ipython2",
   "version": "2.7.10"
  }
 },
 "nbformat": 4,
 "nbformat_minor": 0
}
