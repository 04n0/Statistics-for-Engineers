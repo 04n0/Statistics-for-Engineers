{
 "cells": [
  {
   "cell_type": "markdown",
   "metadata": {
    "slideshow": {
     "slide_type": "slide"
    }
   },
   "source": [
    "# Episode 1: Visualizing Data\n",
    "\n",
    "* First step in all data anaytics!\n",
    "* The human eye is well trained in capturing essential features\n",
    "* Descriptive statistics are largely concerned with qunatifying intuitive concepts"
   ]
  },
  {
   "cell_type": "markdown",
   "metadata": {
    "slideshow": {
     "slide_type": "slide"
    }
   },
   "source": [
    "## Rugplots\n",
    "\n",
    "- simplest possible plot\n",
    "- one-dimensional data\n",
    "- ignores ordering\n",
    "- use jitter to show multiplicities\n",
    "\n",
    "<figure>\n",
    "<img src=\"img/example_rugplot.png\">\n",
    "<figcaption>Example Rugplot</figcaption>\n",
    "</figure>"
   ]
  },
  {
   "cell_type": "markdown",
   "metadata": {
    "slideshow": {
     "slide_type": "slide"
    }
   },
   "source": [
    "## Histograms\n",
    "\n",
    "- one-dimensional data only\n",
    "- ignores ordering\n",
    "- use area to compare ratios of data\n",
    "- easier to read than rugplots\n",
    "- many choices involved\n",
    "\n",
    "<figure>\n",
    "<img src=\"img/example_histogram.png\">\n",
    "<figcaption>Example Histogram</figcaption>\n",
    "</figure>\n",
    "\n",
    "We will talk more about histograms in the next episode."
   ]
  },
  {
   "cell_type": "markdown",
   "metadata": {
    "slideshow": {
     "slide_type": "slide"
    }
   },
   "source": [
    "## Scatterplots\n",
    "\n",
    "- two dimensional data $x_i,y_i$.\n",
    "- ignores ordering\n",
    "- two-dimensional variant of rugplot\n",
    "- show dependency between the two axes\n",
    "\n",
    "<figure>\n",
    "<img src=\"img/example_scatterplot_1.png\" width=\"45%\" style=\"float:left\">\n",
    "<img src=\"img/example_scatterplot_2.png\" width=\"45%\">\n",
    "<figcaption>Example Scatterplot</figcaption>\n",
    "</figure>"
   ]
  },
  {
   "cell_type": "markdown",
   "metadata": {
    "slideshow": {
     "slide_type": "slide"
    }
   },
   "source": [
    "## Line-Plots\n",
    "\n",
    "- special case of scatter plot\n",
    "- interpolation lines add the illusion of continuity\n",
    "- widely used in parctice\n",
    "\n",
    "<figure>\n",
    "<img src=\"img/example_lineplot.png\">\n",
    "<figcaption>Example Line Plot\n",
    "</figcaption>\n",
    "</figure>"
   ]
  },
  {
   "cell_type": "markdown",
   "metadata": {
    "slideshow": {
     "slide_type": "slide"
    }
   },
   "source": [
    "# Relations between basic plot types\n",
    "\n",
    "* Lineplots are a special case of scatterplots\n",
    "* Scatterplot has marginal rugplots\n",
    "* Lineplot has marginal y-rugplot\n",
    "* Histograms show the same information as rugplots"
   ]
  },
  {
   "cell_type": "markdown",
   "metadata": {
    "slideshow": {
     "slide_type": "slide"
    }
   },
   "source": [
    "# Creating Plots with the Jupyter toolchain\n",
    "\n",
    "- Choice of tools is non essential\n",
    "- Equivalent functionality can be provided by e.g. Excel, MATLAB or R\n",
    "- Your monitoring tool should provide much functionality already\n",
    "- This is not a introduction to python or the libraries"
   ]
  },
  {
   "cell_type": "markdown",
   "metadata": {
    "slideshow": {
     "slide_type": "slide"
    }
   },
   "source": [
    "## Jupyter notebook\n",
    "\n",
    "- http://ipython.org/notebook.html\n",
    "- Cell based UI for python like Mathematica\n",
    "- Decent code editing environment (Completion, Inline doc-strings, output formatting)\n",
    "- Decent word-editor (Markdown, HTML, Mathjax)\n",
    "- Mix in shell scripts\n",
    "- Share notebooks on http://nb.bianp.net/sort/views/\n",
    "- GitHub renders notebooks natively\n",
    "\n",
    "This presentation is made with IPython Notebook:\n",
    "https://github.com/HeinrichHartmann/Statistics-for-Engineers"
   ]
  },
  {
   "cell_type": "markdown",
   "metadata": {
    "slideshow": {
     "slide_type": "slide"
    }
   },
   "source": [
    "## Essential Python Libraries"
   ]
  },
  {
   "cell_type": "code",
   "execution_count": 1,
   "metadata": {
    "collapsed": true,
    "slideshow": {
     "slide_type": "-"
    }
   },
   "outputs": [],
   "source": [
    "import numpy as np\n",
    "# http://www.numpy.org/\n",
    "# provides:\n",
    "# - np.array() --  high performance array implementation\n",
    "# - np.loadtxt() -- method to read in CSV files\n",
    "\n",
    "from matplotlib import pyplot as plt\n",
    "# http://matplotlib.org/\n",
    "# provides:\n",
    "# - plotting primitives: figures, axes, plygons\n",
    "# - advanced plotting methods for eg. histograms, scatterplots\n",
    "# - pyplot is a MATLAB like API to matplotlib\n",
    "\n",
    "import seaborn as sns\n",
    "# http://stanford.edu/~mwaskom/software/seaborn/\n",
    "# like matplotlib, but:\n",
    "# - focus on statistical data visualization\n",
    "# - pretty colors"
   ]
  },
  {
   "cell_type": "code",
   "execution_count": 2,
   "metadata": {
    "collapsed": true,
    "slideshow": {
     "slide_type": "subslide"
    }
   },
   "outputs": [],
   "source": [
    "# Configure Notebooks graphic output\n",
    "%matplotlib inline\n",
    "import matplotlib\n",
    "matplotlib.rcParams['figure.figsize'] = (15,5)\n",
    "np.set_printoptions(precision=2)"
   ]
  },
  {
   "cell_type": "code",
   "execution_count": 17,
   "metadata": {
    "slideshow": {
     "slide_type": "slide"
    }
   },
   "outputs": [
    {
     "name": "stdout",
     "output_type": "stream",
     "text": [
      "1430272800\t789.739501953125\r\n",
      "1430276400\t778.480285644531\r\n",
      "1430280000\t820.662231445312\r\n",
      "1430283600\t951.75146484375\r\n",
      "1430287200\t1142.41357421875\r\n",
      "1430290800\t1340.40576171875\r\n",
      "1430294400\t1485.84899902344\r\n",
      "1430298000\t1686.71533203125\r\n",
      "1430301600\t1672.89733886719\r\n",
      "1430305200\t1683.21887207031\r\n"
     ]
    }
   ],
   "source": [
    "## Importing Data\n",
    "\n",
    "# - A number of example datasets is provided in \"DataSets/\" folder\n",
    "# - Look into one of them\n",
    "# - In this case the schema is <timestamp>,<value>\n",
    "\n",
    "!head \"DataSets/RequestRates.csv\" | tr ',' '\\t'\n",
    "\n"
   ]
  },
  {
   "cell_type": "code",
   "execution_count": 23,
   "metadata": {
    "slideshow": {
     "slide_type": "slide"
    }
   },
   "outputs": [
    {
     "name": "stdout",
     "output_type": "stream",
     "text": [
      "[  789.74   778.48   820.66   951.75  1142.41  1340.41  1485.85  1686.72\n",
      "  1672.9   1683.22  1733.16  1708.8   1717.04  1686.73  1614.71  1662.89\n",
      "  1819.65  2039.41  2054.38  1864.98  1558.93  1121.76   901.66   840.\n",
      "   807.54   787.16   798.6    907.34  1122.9   1301.9   1447.8   1504.15\n",
      "  1264.87  1517.99  1497.66  1535.87  1470.72  1519.08  1354.72  1490.47\n",
      "  1644.66  1699.89  1937.18  1814.11  1398.08  1113.33   930.78   872.48\n",
      "   778.56   724.97   729.55   839.14  1005.12  1165.4   1342.08  1395.84\n",
      "  1445.84  1410.66  1397.22  1401.25  1466.26  1570.61  1513.4   1542.78\n",
      "  1638.52  1692.26  1747.94  1622.26  1328.53  1036.22   878.88   806.01\n",
      "   769.58   746.68   777.18   851.2 ]\n"
     ]
    }
   ],
   "source": [
    "# Read csv file with np.loadtxt()\n",
    "# get help with `np.loadtxt?`\n",
    "# Alternative: `np.genfromtxt?` (for graceful handling of missing/corrupt data)\n",
    "\n",
    "X = np.loadtxt(\"DataSets/RequestRates.csv\", delimiter=\",\")[:,1]\n",
    "print(X)"
   ]
  },
  {
   "cell_type": "code",
   "execution_count": 27,
   "metadata": {
    "slideshow": {
     "slide_type": "slide"
    }
   },
   "outputs": [
    {
     "data": {
      "image/png": "[encoded data removed]",
      "text/plain": [
       "<matplotlib.figure.Figure at 0x7fdf5a88bac8>"
      ]
     },
     "metadata": {},
     "output_type": "display_data"
    }
   ],
   "source": [
    "## Creating Ruplots\n",
    "plt.figure(figsize=(15,1)) # Use smaller image canvas\n",
    "\n",
    "# Seaborn provides a built-in method for Rugplots\n",
    "# semi-colon ';' suppresses text output\n",
    "# for some resason the default color\n",
    "sns.rugplot(X, color=\"blue\",height=1); "
   ]
  },
  {
   "cell_type": "code",
   "execution_count": 28,
   "metadata": {
    "slideshow": {
     "slide_type": "slide"
    }
   },
   "outputs": [
    {
     "data": {
      "image/png": "[encoded data removed]",
      "text/plain": [
       "<matplotlib.figure.Figure at 0x7fdf5a1b8978>"
      ]
     },
     "metadata": {},
     "output_type": "display_data"
    }
   ],
   "source": [
    "## Creating Histograms\n",
    "\n",
    "# Matplotlib provides a built-in method\n",
    "plt.hist(X, bins=30);"
   ]
  },
  {
   "cell_type": "code",
   "execution_count": 29,
   "metadata": {
    "slideshow": {
     "slide_type": "slide"
    }
   },
   "outputs": [
    {
     "data": {
      "image/png": "[encoded data removed]",
      "text/plain": [
       "<matplotlib.figure.Figure at 0x7fdf5a470eb8>"
      ]
     },
     "metadata": {},
     "output_type": "display_data"
    }
   ],
   "source": [
    "## Creating Scatterplots\n",
    "\n",
    "# !csvlook DataSets/ReqMultiNode.csv -H --> Large output (-> Terminal)\n",
    "\n",
    "# load two-dimensional datasets\n",
    "table = np.loadtxt(\"DataSets/ReqMultiNode.csv\", delimiter=',', usecols=(0,1,2,3,4))[:1000]\n",
    "\n",
    "T = table[:,0] # time stamps\n",
    "A = table[:,1] # node A-requests\n",
    "B = table[:,2] # node B-requests\n",
    "\n",
    "plt.scatter(A,B);"
   ]
  },
  {
   "cell_type": "code",
   "execution_count": 15,
   "metadata": {
    "slideshow": {
     "slide_type": "slide"
    }
   },
   "outputs": [
    {
     "data": {
      "image/png": "[encoded data removed]",
      "text/plain": [
       "<matplotlib.figure.Figure at 0x7fdf5a633898>"
      ]
     },
     "metadata": {},
     "output_type": "display_data"
    }
   ],
   "source": [
    "## Creating LinePlots\n",
    "\n",
    "# Matplotlib provides a built-in method\n",
    "# use style 'o-' to show datapoints (o) and line (-)\n",
    "plt.plot(X,'o-');"
   ]
  },
  {
   "cell_type": "markdown",
   "metadata": {
    "slideshow": {
     "slide_type": "slide"
    }
   },
   "source": [
    "# Exercise\n",
    "\n",
    "1. Make a scatter plot of column combinations (1,2), (1,3), (2,3) from \"dc1cpu.csv\"\n",
    "2. Plot the colums 2-6 over time (colum 1) in  \"dc1cup.csv\"\n",
    "3. Make a histograms for the web latencies in \"WebLatency.csv\""
   ]
  }
 ],
 "metadata": {
  "anaconda-cloud": {},
  "celltoolbar": "Slideshow",
  "kernelspec": {
   "display_name": "Python 3",
   "language": "python",
   "name": "python3"
  },
  "language_info": {
   "codemirror_mode": {
    "name": "ipython",
    "version": 3
   },
   "file_extension": ".py",
   "mimetype": "text/x-python",
   "name": "python",
   "nbconvert_exporter": "python",
   "pygments_lexer": "ipython3",
   "version": "3.6.2"
  }
 },
 "nbformat": 4,
 "nbformat_minor": 1
}
