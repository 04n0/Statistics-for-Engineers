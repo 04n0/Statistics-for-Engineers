{
 "cells": [
  {
   "cell_type": "markdown",
   "metadata": {},
   "source": [
    "# Mangling Log Files with Regexp"
   ]
  },
  {
   "cell_type": "code",
   "execution_count": 4,
   "metadata": {
    "collapsed": false,
    "scrolled": true
   },
   "outputs": [
    {
     "name": "stdout",
     "output_type": "stream",
     "text": [
      "192.168.13.72 - - [08/May/2015:12:00:00 -0000] \"POST /doc/0 HTTP/1.1\" 200 138 0.155\r\n",
      "192.168.13.85 - - [08/May/2015:12:00:00 -0000] \"PUT /doc/1 HTTP/1.1\" 200 265 11.933\r\n",
      "192.168.13.75 - - [08/May/2015:12:00:00 -0000] \"POST /doc/2 HTTP/1.1\" 200 138 1.190\r\n",
      "192.168.13.85 - - [08/May/2015:12:00:01 -0000] \"PUT /doc/1 HTTP/1.1\" 200 265 34.552\r\n",
      "192.168.13.13 - - [08/May/2015:12:00:01 -0000] \"GET /doc/3 HTTP/1.1\" 200 4047 0.394\r\n",
      "192.168.13.13 - - [08/May/2015:12:00:01 -0000] \"GET /doc/4 HTTP/1.1\" 200 795 0.080\r\n",
      "192.168.13.85 - - [08/May/2015:12:00:01 -0000] \"PUT /doc/1 HTTP/1.1\" 200 265 11.649\r\n",
      "192.168.13.66 - - [08/May/2015:12:00:01 -0000] \"GET /doc/3 HTTP/1.1\" 200 4047 0.351\r\n",
      "192.168.13.66 - - [08/May/2015:12:00:01 -0000] \"GET /doc/4 HTTP/1.1\" 200 795 0.068\r\n",
      "192.168.13.85 - - [08/May/2015:12:00:01 -0000] \"PUT /doc/1 HTTP/1.1\" 200 265 6.433\r\n",
      "cat: write error: Broken pipe\r\n"
     ]
    }
   ],
   "source": [
    "!cat DataSets/LogDB.out | head"
   ]
  },
  {
   "cell_type": "markdown",
   "metadata": {},
   "source": [
    "Convert to csv file with fields\n",
    "* method\n",
    "* url\n",
    "* response\n",
    "* latency"
   ]
  },
  {
   "cell_type": "code",
   "execution_count": 18,
   "metadata": {
    "collapsed": false
   },
   "outputs": [
    {
     "name": "stdout",
     "output_type": "stream",
     "text": [
      "POST /doc/0 HTTP/1.1,200 138 0.155\r\n",
      "PUT /doc/1 HTTP/1.1,200 265 11.933\r\n",
      "POST /doc/2 HTTP/1.1,200 138 1.190\r\n",
      "PUT /doc/1 HTTP/1.1,200 265 34.552\r\n",
      "GET /doc/3 HTTP/1.1,200 4047 0.394\r\n",
      "GET /doc/4 HTTP/1.1,200 795 0.080\r\n",
      "PUT /doc/1 HTTP/1.1,200 265 11.649\r\n",
      "GET /doc/3 HTTP/1.1,200 4047 0.351\r\n",
      "GET /doc/4 HTTP/1.1,200 795 0.068\r\n",
      "PUT /doc/1 HTTP/1.1,200 265 6.433\r\n",
      "-p destination: Broken pipe\r\n",
      "cat: write error: Broken pipe\r\n"
     ]
    }
   ],
   "source": [
    "# Capture \"-\"\n",
    "!cat DataSets/LogDB.out | perl -pe 's/^.*\"(.*)\" (.*)$/\\1,\\2/' | head"
   ]
  },
  {
   "cell_type": "code",
   "execution_count": 19,
   "metadata": {
    "collapsed": false
   },
   "outputs": [
    {
     "name": "stdout",
     "output_type": "stream",
     "text": [
      "POST,/doc/0, 200 138 0.155\r\n",
      "PUT,/doc/1, 200 265 11.933\r\n",
      "POST,/doc/2, 200 138 1.190\r\n",
      "PUT,/doc/1, 200 265 34.552\r\n",
      "GET,/doc/3, 200 4047 0.394\r\n",
      "GET,/doc/4, 200 795 0.080\r\n",
      "PUT,/doc/1, 200 265 11.649\r\n",
      "GET,/doc/3, 200 4047 0.351\r\n",
      "GET,/doc/4, 200 795 0.068\r\n",
      "PUT,/doc/1, 200 265 6.433\r\n",
      "-p destination: Broken pipe\r\n",
      "cat: write error: Broken pipe\r\n"
     ]
    }
   ],
   "source": [
    "# Split \"\\1\" into three groups separated by space\n",
    "!cat DataSets/LogDB.out | perl -pe 's/^.*\"(.*?) (.*)? (.*)?\"(.*)$/\\1,\\2,\\4/' | head"
   ]
  },
  {
   "cell_type": "code",
   "execution_count": 28,
   "metadata": {
    "collapsed": false
   },
   "outputs": [
    {
     "name": "stdout",
     "output_type": "stream",
     "text": [
      "POST,/doc/0,200,138,0.155\r\n",
      "PUT,/doc/1,200,265,11.933\r\n",
      "POST,/doc/2,200,138,1.190\r\n",
      "PUT,/doc/1,200,265,34.552\r\n",
      "GET,/doc/3,200,4047,0.394\r\n",
      "GET,/doc/4,200,795,0.080\r\n",
      "PUT,/doc/1,200,265,11.649\r\n",
      "GET,/doc/3,200,4047,0.351\r\n",
      "GET,/doc/4,200,795,0.068\r\n",
      "PUT,/doc/1,200,265,6.433\r\n",
      "-p destination: Broken pipe\r\n",
      "cat: write error: Broken pipe\r\n"
     ]
    }
   ],
   "source": [
    "# Split \\4 into number groups separated by space\n",
    "!cat DataSets/LogDB.out | perl -pe 's/^.*\"(.*?) (.*)? (.*)?\" (\\d+) (\\d+) (\\d+.\\d+)$/\\1,\\2,\\4,\\5,\\6/' | head"
   ]
  },
  {
   "cell_type": "code",
   "execution_count": 29,
   "metadata": {
    "collapsed": false
   },
   "outputs": [],
   "source": [
    "!cat DataSets/LogDB.out | perl -pe 's/^.*\"(.*?) (.*)? (.*)?\" (\\d+) (\\d+) (\\d+.\\d+)$/\\1,\"\\2\",\"\\4\",\\5,\\6/'\\\n",
    "> DataSets/LogDB.csv"
   ]
  },
  {
   "cell_type": "code",
   "execution_count": 33,
   "metadata": {
    "collapsed": false
   },
   "outputs": [],
   "source": [
    "!echo \"method,path,code,size,latency\" > DataSets/LogDB_head.csv"
   ]
  },
  {
   "cell_type": "code",
   "execution_count": 52,
   "metadata": {
    "collapsed": false
   },
   "outputs": [
    {
     "name": "stdout",
     "output_type": "stream",
     "text": [
      "  1. method\n",
      "\t<type 'unicode'>\n",
      "\tNulls: False\n",
      "\tValues: PUT, POST, GET\n",
      "  2. path\n",
      "\t<type 'unicode'>\n",
      "\tNulls: False\n",
      "\tUnique values: 2171\n",
      "\t5 most frequent values:\n",
      "\t\t/doc/1:\t2440\n",
      "\t\t/doc/0:\t761\n",
      "\t\t/doc/18:\t758\n",
      "\t\t/doc/3:\t500\n",
      "\t\t/doc/4:\t454\n",
      "\tMax length: 9\n",
      "  3. code\n",
      "\t<type 'int'>\n",
      "\tNulls: False\n",
      "\tValues: 200, 500, 404, 413\n",
      "  4. size\n",
      "\t<type 'int'>\n",
      "\tNulls: False\n",
      "\tMin: 59\n",
      "\tMax: 598859\n",
      "\tSum: 21067128\n",
      "\tMean: 2420.39613971\n",
      "\tMedian: 265.0\n",
      "\tStandard Deviation: 9173.22067508\n",
      "\tUnique values: 966\n",
      "\t5 most frequent values:\n",
      "\t\t265:\t2414\n",
      "\t\t138:\t1265\n",
      "\t\t795:\t454\n",
      "\t\t267:\t270\n",
      "\t\t166:\t268\n",
      "  5. latency\n",
      "\t<type 'float'>\n",
      "\tNulls: False\n",
      "\tMin: 0.048\n",
      "\tMax: 204250.748\n",
      "\tSum: 26845591.645\n",
      "\tMean: 3084.28212833\n",
      "\tMedian: 7.8515\n",
      "\tStandard Deviation: 13668.5665645\n",
      "\tUnique values: 6667\n",
      "\t5 most frequent values:\n",
      "\t\t0.067:\t35\n",
      "\t\t0.071:\t28\n",
      "\t\t0.077:\t25\n",
      "\t\t0.072:\t23\n",
      "\t\t0.069:\t22\n",
      "\n",
      "Row count: 8704\n"
     ]
    }
   ],
   "source": [
    "%%bash\n",
    "\n",
    "# Add headder\n",
    "cat <(echo \"method,path,code,size,latency\") DataSets/LogDB.csv > DataSets/LogDB_full.csv\n",
    "\n",
    "# View Statistics\n",
    "cat DataSets/LogDB_full.csv  | csvstat"
   ]
  },
  {
   "cell_type": "code",
   "execution_count": 59,
   "metadata": {
    "collapsed": false
   },
   "outputs": [
    {
     "name": "stdout",
     "output_type": "stream",
     "text": [
      "^C\r\n",
      "\r\n"
     ]
    }
   ],
   "source": [
    "# plot histogram\n",
    "\n",
    "!csvcut -c \"latency\" DataSets/LogDB_full.csv | feedgnuplot --line --histogram 0 --with boxes"
   ]
  },
  {
   "cell_type": "code",
   "execution_count": null,
   "metadata": {
    "collapsed": true
   },
   "outputs": [],
   "source": []
  }
 ],
 "metadata": {
  "kernelspec": {
   "display_name": "Python 2",
   "language": "python",
   "name": "python2"
  },
  "language_info": {
   "codemirror_mode": {
    "name": "ipython",
    "version": 2
   },
   "file_extension": ".py",
   "mimetype": "text/x-python",
   "name": "python",
   "nbconvert_exporter": "python",
   "pygments_lexer": "ipython2",
   "version": "2.7.9"
  }
 },
 "nbformat": 4,
 "nbformat_minor": 0
}
