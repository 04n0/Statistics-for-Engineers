{
 "cells": [
  {
   "cell_type": "markdown",
   "metadata": {},
   "source": [
    "# Episode 3 -- Summary Statistics"
   ]
  },
  {
   "cell_type": "markdown",
   "metadata": {},
   "source": [
    "Problem: Given a bunch of datapoints, characterize the distribution in one or two values.\n",
    "\n",
    "* Equivalent of an elevator pitch for a data sets\n",
    "* Problem as posed inherently impossible\n",
    "* Characterization should be robust to outliers"
   ]
  },
  {
   "cell_type": "markdown",
   "metadata": {},
   "source": [
    "## Mean Value\n",
    "\n",
    "The _mean value_ of $x_1, \\dots, x_n$ is defined as\n",
    "\n",
    "$$ \\mu = mean(x_1, \\dots, x_n) = \\frac{1}{n} \\sum_{i=1}^n x_i. $$\n",
    "\n",
    "- Represnets center of mass\n",
    "- If the values are close together this is a good representative"
   ]
  },
  {
   "cell_type": "code",
   "execution_count": 14,
   "metadata": {
    "collapsed": false
   },
   "outputs": [],
   "source": [
    "import math\n",
    "import numpy as np\n",
    "from matplotlib import pyplot as plt\n",
    "import seaborn as sns\n",
    "%matplotlib inline"
   ]
  },
  {
   "cell_type": "code",
   "execution_count": 9,
   "metadata": {
    "collapsed": false
   },
   "outputs": [
    {
     "name": "stdout",
     "output_type": "stream",
     "text": [
      "mean= 1316.30863471\n"
     ]
    },
    {
     "data": {
      "image/png": "[encoded data removed]",
      "text/plain": [
       "<matplotlib.figure.Figure at 0x7f51a24a3250>"
      ]
     },
     "metadata": {},
     "output_type": "display_data"
    }
   ],
   "source": [
    "def mean(X):\n",
    "    return float(sum(X)) / len(X)\n",
    "\n",
    "X = np.loadtxt(\"DataSets/RequestRates.csv\", delimiter=\",\")[:,1]\n",
    "print \"mean=\", mean(X)\n",
    "\n",
    "# Plot\n",
    "def mark(m,height=1,style='r'):\n",
    "    plt.plot([m,m],[0,height],style)\n",
    "\n",
    "def plot_mean(X):\n",
    "    sns.rugplot(X, color='grey', height=-1)\n",
    "    mark(mean(X))\n",
    "    plt.show()\n",
    "\n",
    "plt.figure(figsize=(14,2))\n",
    "plot_mean(X)"
   ]
  },
  {
   "cell_type": "code",
   "execution_count": 10,
   "metadata": {
    "collapsed": false
   },
   "outputs": [
    {
     "data": {
      "image/png": "[encoded data removed]",
      "text/plain": [
       "<matplotlib.figure.Figure at 0x7f51a2483450>"
      ]
     },
     "metadata": {},
     "output_type": "display_data"
    }
   ],
   "source": [
    "# Mean values can be atypical\n",
    "\n",
    "plt.figure(figsize=(14,2))\n",
    "plot_mean([1,2,0.4,1.2,100,110,112])"
   ]
  },
  {
   "cell_type": "markdown",
   "metadata": {},
   "source": [
    "## Median\n",
    "\n",
    "A _median value_ for $x_1, \\dots, x_n$ is number $m$ such that\n",
    "  \n",
    " $$ \\# \\{ i \\,|\\, x_i \\leq m \\} = \\# \\{ i \\,|\\, x_i \\geq m \\}. $$\n",
    "\n",
    "So the number of samples smaller than $m$ is equal to the number of samples larger than $m$.\n",
    "(Both should be roughly $n/2$).\n",
    "\n",
    "A median can be computed as follows:\n",
    "\n",
    "1. Let $S = sort(x_1, \\dots, x_n)$, so that $s_1 \\leq s_2 \\leq \\dots \\leq s_n$.\n",
    "\n",
    "2. If $n$ is odd then $m = s_{(n+1)/2}$ is the unique median.\n",
    "\n",
    "3. If $n$ is even, and $a = floor(\\frac{n+1}{2})$ and $b = ceil(\\frac{n+1}{2})$ are the middle indices, then every number $m$ with \n",
    "  $$s_a \\leq m \\leq s_b$$\n",
    "  is a median.\n",
    "  \n",
    "Remark:\n",
    "\n",
    "* A Median always exists\n",
    "* Median is not unique\n",
    "* Can be computed in linear time\n",
    "* Not influenced by outliers (robust)"
   ]
  },
  {
   "cell_type": "code",
   "execution_count": 33,
   "metadata": {
    "collapsed": true
   },
   "outputs": [],
   "source": [
    "# Median Implementation\n",
    "\n",
    "# Caution: Index start at 0 in python!\n",
    "def median_min(X):\n",
    "    S = sorted(X)\n",
    "    n = len(X)\n",
    "    return S[int(math.floor((n+1)/2.))-1]\n",
    "\n",
    "def median_max(X):\n",
    "    S = sorted(X)\n",
    "    n = len(X)\n",
    "    return S[int(math.ceil((n+1)/2.))-1]\n",
    "\n",
    "def plot_median_range(X):\n",
    "    mark(median_max(X),1,'b')\n",
    "    mark(median_min(X),1,'b')\n",
    "    plt.plot([median_min(X),median_max(X)],[0.5,0.5],'b--')\n",
    "\n",
    "\n",
    "def plot_mean_median(X):\n",
    "    plt.figure(figsize=(14,2))\n",
    "    sns.rugplot(X, color='grey', height=-1)\n",
    "    mark(mean(X),1, 'r-')\n",
    "    plot_median_range(X)\n",
    "    plt.show()"
   ]
  },
  {
   "cell_type": "code",
   "execution_count": 34,
   "metadata": {
    "collapsed": false
   },
   "outputs": [
    {
     "data": {
      "image/png": "[encoded data removed]",
      "text/plain": [
       "<matplotlib.figure.Figure at 0x7f519fb67850>"
      ]
     },
     "metadata": {},
     "output_type": "display_data"
    }
   ],
   "source": [
    "# even case\n",
    "plot_mean_median([1,2,3,4])"
   ]
  },
  {
   "cell_type": "markdown",
   "metadata": {},
   "source": [
    "# Application: Plotting\n",
    "\n",
    "* A monitoring graph rarely shows you the full data: Not enough pixels!\n",
    "* Need to choose an summary statistic to pre-aggregate the data.\n",
    "* Common choice: mean"
   ]
  },
  {
   "cell_type": "markdown",
   "metadata": {},
   "source": [
    "## Meet Peak Erosion"
   ]
  },
  {
   "cell_type": "markdown",
   "metadata": {},
   "source": [
    "Demo: https://parlette.circonus.com/trending/graphs/view/65d896dd-2be3-4be9-a76d-6fec209358b1\n",
    "\n",
    "<figure>\n",
    "<img src=\"img/peak_erosion_1.png\" width=\"50%\">\n",
    "<img src=\"img/peak_erosion_2.png\" width=\"50%\">\n",
    "<figcaption>Peak erosion: Same peak is shown with height 0.08 and 0.03</figcaption>\n",
    "</figure>\n",
    "\n",
    "To avoid peak erosion, use max-aggregation.\n",
    "\n",
    "<figure>\n",
    "<img src=\"img/peak_erosion_3.png\" width=\"80%\">\n",
    "<figcaption>Peak erosion: Same peak is shown with height 0.08 and 0.03</figcaption>\n",
    "</figure>\n"
   ]
  },
  {
   "cell_type": "markdown",
   "metadata": {},
   "source": [
    "# Deviation Measures\n",
    "\n",
    "1. The _maximal deviation_ is defined as\n",
    "\n",
    "$$ maxdev(x_1,\\dots,x_n) = max \\{ |x_i - \\mu| \\,|\\, i=1,\\dots,n\\}.$$\n",
    "\n",
    "2. The _mean absolute deviation_ is defined as\n",
    "\n",
    "$$ mad(x_1,\\dots,x_n) = \\frac{1}{n} \\sum_{i=1}^n |x_i - \\mu|.$$\n",
    "\n",
    "3. The _standard deviation_ is defined as\n",
    "\n",
    "$$ \\sigma = stddev(x_1,\\dots,x_n) =  \\sqrt{\\frac{1}{n} \\sum_{i=1}^n (x_i - \\mu)^2}.$$\n",
    "\n",
    "\n",
    "* Measure the 'typical' displacement from the mean value.\n",
    "* Standard deviation is popular because it has extremely nice mathematical properties."
   ]
  },
  {
   "cell_type": "code",
   "execution_count": 32,
   "metadata": {
    "collapsed": true
   },
   "outputs": [],
   "source": [
    "def max_dev(X):\n",
    "    m = mean(X)\n",
    "    return max(abs(x - m) for x in X)\n",
    "\n",
    "def mad(X):\n",
    "    m = mean(X)\n",
    "    return sum(abs(x - m) for x in X) / float(len(X))\n",
    "\n",
    "def stddev(X):\n",
    "    m = mean(X)\n",
    "    return math.pow(sum((x - m)**2 for x in X) / len(X), 0.5)\n",
    "\n",
    "# Plotting helper function\n",
    "def plot_mean_dev(X, m, s, new_canvas=True):\n",
    "    print \"mean = \", m\n",
    "    print \"dev  = \", s\n",
    "    if new_canvas: plt.figure(figsize=(14,1))\n",
    "    sns.rugplot(X, color='grey')\n",
    "    plt.plot([m,m],[0,-0.09],'r-' )\n",
    "    plt.plot([m-s,m-s],[0,-0.08],'b-')\n",
    "    plt.plot([m+s,m+s],[0,-0.08],'b-')\n",
    "    plt.plot([m-s,m+s],[-0.04,-0.04],'b--')\n",
    "    if new_canvas:  plt.show()"
   ]
  },
  {
   "cell_type": "code",
   "execution_count": 19,
   "metadata": {
    "collapsed": false
   },
   "outputs": [
    {
     "name": "stdout",
     "output_type": "stream",
     "text": [
      "Maximal deviation\n",
      "mean =  1316.30863471\n",
      "dev  =  738.072957089\n"
     ]
    },
    {
     "data": {
      "image/png": "[encoded data removed]",
      "text/plain": [
       "<matplotlib.figure.Figure at 0x7f51a1fa40d0>"
      ]
     },
     "metadata": {},
     "output_type": "display_data"
    },
    {
     "name": "stdout",
     "output_type": "stream",
     "text": [
      "Standard Deviation\n",
      "mean =  1316.30863471\n",
      "dev  =  374.572363954\n"
     ]
    },
    {
     "data": {
      "image/png": "[encoded data removed]",
      "text/plain": [
       "<matplotlib.figure.Figure at 0x7f51a1f35ad0>"
      ]
     },
     "metadata": {},
     "output_type": "display_data"
    },
    {
     "name": "stdout",
     "output_type": "stream",
     "text": [
      "Mean Absolute Deviation\n",
      "mean =  1316.30863471\n",
      "dev  =  327.4656915\n"
     ]
    },
    {
     "data": {
      "image/png": "[encoded data removed]",
      "text/plain": [
       "<matplotlib.figure.Figure at 0x7f51a2421450>"
      ]
     },
     "metadata": {},
     "output_type": "display_data"
    }
   ],
   "source": [
    "X = np.loadtxt(\"DataSets/RequestRates.csv\", delimiter=\",\")[:,1]\n",
    "    \n",
    "print \"Maximal deviation\"\n",
    "plot_mean_dev(X,mean(X),max_dev(X))\n",
    "\n",
    "print \"Standard Deviation\"\n",
    "plot_mean_dev(X,mean(X),stddev(X))\n",
    "\n",
    "print \"Mean Absolute Deviation\"\n",
    "plot_mean_dev(X,mean(X),mad(X))"
   ]
  },
  {
   "cell_type": "code",
   "execution_count": 30,
   "metadata": {
    "collapsed": false
   },
   "outputs": [
    {
     "name": "stdout",
     "output_type": "stream",
     "text": [
      "mean =  0.00493680998218\n",
      "dev  =  1.00554048134\n"
     ]
    },
    {
     "data": {
      "image/png": "[encoded data removed]",
      "text/plain": [
       "<matplotlib.figure.Figure at 0x7f51a2476f10>"
      ]
     },
     "metadata": {},
     "output_type": "display_data"
    }
   ],
   "source": [
    "# Standard deviation is a good deviation for normal distributed data\n",
    "X = [ np.random.normal() for x in range(3000) ]\n",
    "plt.hist(X, bins=30, alpha=0.7, normed=True)\n",
    "plot_mean_dev(X,mean(X),stddev(X), False)"
   ]
  },
  {
   "cell_type": "code",
   "execution_count": 31,
   "metadata": {
    "collapsed": false
   },
   "outputs": [
    {
     "name": "stdout",
     "output_type": "stream",
     "text": [
      "mean =  0.0715796167766\n",
      "dev  =  3.78610166623\n"
     ]
    },
    {
     "data": {
      "image/png": "[encoded data removed]",
      "text/plain": [
       "<matplotlib.figure.Figure at 0x7f51a20d6290>"
      ]
     },
     "metadata": {},
     "output_type": "display_data"
    }
   ],
   "source": [
    "# Large effect on Outliers\n",
    "X = X + [200]\n",
    "plot_mean_dev(X,mean(X),stddev(X))"
   ]
  },
  {
   "cell_type": "markdown",
   "metadata": {},
   "source": [
    "## Caution with Standard Deviation\n",
    "\n",
    "- Everybody Learns about standard deviation in school\n",
    "- Beautiful mathematical properties!\n",
    "- Everybody knows \n",
    "  - \"68% of data falls within 1 std-dev of the mean\"\n",
    "  - \"95% falls within 2 std-dev of the mean\"\n",
    "  - \"99.7\" falls within 3 std-dev of the mean\"\n",
    "* \"Problem is: this is utter nonsense\". Only true for normally distributed data.\n",
    "\n",
    "* Not good for measuring outliers!\n",
    "\n",
    "\n",
    "_Source:_ Janert - Data Analysis with Open Source Tools"
   ]
  },
  {
   "cell_type": "markdown",
   "metadata": {},
   "source": [
    "## War Story:\n",
    "\n",
    "- Looking at SLA for DB response times\n",
    "- Outlier defined as value larger than $\\mu + 3\\sigma$\n",
    "- Look at code: Takes '0.3' percentile!\n",
    "- So always have outliers.\n",
    "- And 0.3-percentile was way too large (hours of latency).\n",
    "- Programmer changed code for 1%, 5%, 10% quantiles.\n",
    "- Finally handcoded a threshold\n",
    "- The SLA was never changed\n",
    "\n",
    "Source: Janert - Data Analysis with Open Source Tools"
   ]
  },
  {
   "cell_type": "code",
   "execution_count": null,
   "metadata": {
    "collapsed": true
   },
   "outputs": [],
   "source": []
  }
 ],
 "metadata": {
  "kernelspec": {
   "display_name": "Python 2",
   "language": "python",
   "name": "python2"
  },
  "language_info": {
   "codemirror_mode": {
    "name": "ipython",
    "version": 2
   },
   "file_extension": ".py",
   "mimetype": "text/x-python",
   "name": "python",
   "nbconvert_exporter": "python",
   "pygments_lexer": "ipython2",
   "version": "2.7.10"
  }
 },
 "nbformat": 4,
 "nbformat_minor": 0
}
