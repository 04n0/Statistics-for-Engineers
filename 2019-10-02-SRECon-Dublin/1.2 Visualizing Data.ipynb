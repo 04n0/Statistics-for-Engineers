{
 "cells": [
  {
   "cell_type": "markdown",
   "metadata": {
    "slideshow": {
     "slide_type": "slide"
    }
   },
   "source": [
    "# Visualizing Data\n",
    "\n",
    "* First step in all data anaytics!\n",
    "* The human eye is well trained in capturing essential features\n",
    "* Descriptive statistics are largely concerned with qunatifying intuitive concepts"
   ]
  },
  {
   "cell_type": "markdown",
   "metadata": {
    "slideshow": {
     "slide_type": "slide"
    }
   },
   "source": [
    "## Rugplots\n",
    "\n",
    "- simplest possible plot\n",
    "- one-dimensional data\n",
    "- ignores ordering\n",
    "- use jitter to show multiplicities\n",
    "\n",
    "<figure>\n",
    "<img src=\"../img/example_rugplot.png\">\n",
    "<figcaption>Example Rugplot</figcaption>\n",
    "</figure>"
   ]
  },
  {
   "cell_type": "markdown",
   "metadata": {
    "slideshow": {
     "slide_type": "slide"
    }
   },
   "source": [
    "## Histograms\n",
    "\n",
    "- one-dimensional data only\n",
    "- ignores ordering\n",
    "- use area to compare ratios of data\n",
    "- easier to read than rugplots\n",
    "- many choices involved\n",
    "\n",
    "<figure>\n",
    "<img src=\"../img/example_histogram.png\">\n",
    "<figcaption>Example Histogram</figcaption>\n",
    "</figure>\n",
    "\n",
    "We will talk more about histograms in the next episode."
   ]
  },
  {
   "cell_type": "markdown",
   "metadata": {
    "slideshow": {
     "slide_type": "slide"
    }
   },
   "source": [
    "## Scatterplots\n",
    "\n",
    "- two dimensional data $x_i,y_i$.\n",
    "- ignores ordering\n",
    "- two-dimensional variant of rugplot\n",
    "- show dependency between the two axes\n",
    "\n",
    "<figure>\n",
    "<img src=\"../img/example_scatterplot_1.png\" width=\"45%\" style=\"float:left\">\n",
    "<img src=\"../img/example_scatterplot_2.png\" width=\"45%\">\n",
    "<figcaption>Example Scatterplot</figcaption>\n",
    "</figure>"
   ]
  },
  {
   "cell_type": "markdown",
   "metadata": {
    "slideshow": {
     "slide_type": "slide"
    }
   },
   "source": [
    "## Line-Plots\n",
    "\n",
    "- special case of scatter plot\n",
    "- interpolation lines add the illusion of continuity\n",
    "- widely used in parctice\n",
    "\n",
    "<figure>\n",
    "<img src=\"../img/example_lineplot.png\">\n",
    "<figcaption>Example Line Plot\n",
    "</figcaption>\n",
    "</figure>"
   ]
  },
  {
   "cell_type": "markdown",
   "metadata": {},
   "source": [
    "# Heatmaps"
   ]
  },
  {
   "cell_type": "code",
   "execution_count": 67,
   "metadata": {},
   "outputs": [
    {
     "data": {
      "image/png": "[encoded data removed]",
      "text/plain": [
       "<matplotlib.figure.Figure at 0x7f319476df60>"
      ]
     },
     "metadata": {},
     "output_type": "display_data"
    }
   ],
   "source": [
    "import numpy as np\n",
    "import seaborn as sns\n",
    "import matplotlib.pylab as plt\n",
    "import math\n",
    "def idx(y):\n",
    "        return min(29, max(1, math.floor(y/0.2)+ 15))\n",
    "data = np.zeros(30*80).reshape(30,80)\n",
    "for i in range(1,80):\n",
    "    for j in range(1,50):\n",
    "        data[idx(np.random.normal(0)),i] += 3\n",
    "\n",
    "plt.figure(figsize=(20,5))\n",
    "ax = sns.heatmap(data, linewidth=0.5, cmap='Reds')\n",
    "plt.yticks([])\n",
    "plt.show()\n",
    "%matplotlib inline"
   ]
  },
  {
   "cell_type": "markdown",
   "metadata": {
    "slideshow": {
     "slide_type": "slide"
    }
   },
   "source": [
    "# Relations between basic plot types\n",
    "\n",
    "* Lineplots are a special case of scatterplots\n",
    "* Scatterplot has marginal rugplots\n",
    "* Lineplot has marginal y-rugplot\n",
    "* Histograms show the same information as rugplots\n",
    "* Single Metric Histogram Demo: https://demo.circonus.com/trending/graphs/edit/04700409-8c65-4ad6-9dae-730460bb90d5"
   ]
  }
 ],
 "metadata": {
  "kernelspec": {
   "display_name": "Python 3",
   "language": "python",
   "name": "python3"
  },
  "language_info": {
   "codemirror_mode": {
    "name": "ipython",
    "version": 3
   },
   "file_extension": ".py",
   "mimetype": "text/x-python",
   "name": "python",
   "nbconvert_exporter": "python",
   "pygments_lexer": "ipython3",
   "version": "3.6.4"
  }
 },
 "nbformat": 4,
 "nbformat_minor": 2
}
