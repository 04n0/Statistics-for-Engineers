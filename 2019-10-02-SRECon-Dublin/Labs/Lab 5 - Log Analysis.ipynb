{
 "cells": [
  {
   "cell_type": "markdown",
   "metadata": {},
   "source": [
    "# Lab: Log Analysis"
   ]
  },
  {
   "cell_type": "markdown",
   "metadata": {},
   "source": [
    "In this lab we are going to analyze some log data from one of our database clusters.\n",
    "\n",
    "We already saved you the hazzle of fetching data and parsing JSON.\n",
    "The relevant attributes are already selected and put into a nice little SQLite db."
   ]
  },
  {
   "cell_type": "code",
   "execution_count": 1,
   "metadata": {},
   "outputs": [
    {
     "name": "stdout",
     "output_type": "stream",
     "text": [
      "-rw-r--r-- 1 jovyan users 270336 Aug 28  2018 ../../datasets/log.sqlite\n"
     ]
    }
   ],
   "source": [
    "! ls -l ../../datasets/log.sqlite"
   ]
  },
  {
   "cell_type": "markdown",
   "metadata": {},
   "source": [
    "Let's see what is in there:"
   ]
  },
  {
   "cell_type": "code",
   "execution_count": 2,
   "metadata": {},
   "outputs": [],
   "source": [
    "import sqlite3"
   ]
  },
  {
   "cell_type": "code",
   "execution_count": 3,
   "metadata": {},
   "outputs": [],
   "source": [
    "con = sqlite3.connect(\"../../datasets/log.sqlite\")"
   ]
  },
  {
   "cell_type": "code",
   "execution_count": 4,
   "metadata": {},
   "outputs": [
    {
     "name": "stdout",
     "output_type": "stream",
     "text": [
      "CREATE TABLE \"log\"(\n",
      "  time INT,\n",
      "  duration REAL,\n",
      "  extension TEXT,\n",
      "  start_time INT,\n",
      "  end_time INT,\n",
      "  period INT,\n",
      "  code TEXT,\n",
      "  \"query\"\n",
      ")\n"
     ]
    }
   ],
   "source": [
    "print(con.execute(\"SELECT sql FROM sqlite_master\").fetchall()[0][0])"
   ]
  },
  {
   "cell_type": "code",
   "execution_count": 5,
   "metadata": {},
   "outputs": [
    {
     "name": "stdout",
     "output_type": "stream",
     "text": [
      "(1533513645, 0.0064239501953125, 'last', 1533512400, 1533513780, 60, '200', 'query-2')\n",
      "(1533513645, 0.0073368549346924, 'last', 1533512400, 1533513780, 60, '200', 'query-2')\n",
      "(1533513645, 0.0020861625671387, 'last', 1533512400, 1533513780, 60, '520', 'query-2')\n",
      "(1533513645, 0.0020020008087158, 'last', 1533512400, 1533513780, 60, '520', 'query-2')\n",
      "(1533513645, 0.0066909790039063, 'last', 1533512400, 1533513780, 60, '200', 'query-2')\n",
      "(1533513645, 0.0096480846405029, 'last', 1533512400, 1533513780, 60, '200', 'query-2')\n",
      "(1533513645, 0.0040888786315918, 'last', 1533512400, 1533513780, 60, '200', 'query-2')\n",
      "(1533513645, 0.006709098815918, 'last', 1533512400, 1533513780, 60, '200', 'query-2')\n",
      "(1533513645, 0.0077071189880371, 'last', 1533512400, 1533513780, 60, '200', 'query-2')\n",
      "(1533513673, 0.20564699172974, 'resource_forecasting', 1533427200, 1533513600, 300, '200', 'query-2')\n"
     ]
    }
   ],
   "source": [
    "for rec in con.execute(\"SELECT * FROM log LIMIT 10\").fetchall():\n",
    "    print(rec)"
   ]
  },
  {
   "cell_type": "markdown",
   "metadata": {},
   "source": [
    "# Questions\n",
    "\n",
    "1. How many different extensions where called? How many requests where made on each?\n",
    "\n",
    "2. Produce a scatter plot of durations over time (just like the one we had in the intro).\n",
    "\n",
    "3. Produce a histogram for the duration column:\n",
    "   - total\n",
    "   - per extension\n",
    "\n",
    "4. Calculate the p90 duration percentile for:\n",
    "   - 4.1: total\n",
    "   - 4.2: per extension\n",
    "   - 4.2: for each 10M time slice\n",
    "\n",
    "5. Aggregate the percentiles produced in 4.1, 4.2 by averaging them. Compare them to 4.1.\n",
    "\n",
    "6. How many error results (code != 200) did we see?\n",
    "\n",
    "7. How do the latencies of the error results compare to the non-error results?"
   ]
  }
 ],
 "metadata": {
  "kernelspec": {
   "display_name": "Python 3",
   "language": "python",
   "name": "python3"
  },
  "language_info": {
   "codemirror_mode": {
    "name": "ipython",
    "version": 3
   },
   "file_extension": ".py",
   "mimetype": "text/x-python",
   "name": "python",
   "nbconvert_exporter": "python",
   "pygments_lexer": "ipython3",
   "version": "3.6.4"
  }
 },
 "nbformat": 4,
 "nbformat_minor": 2
}
