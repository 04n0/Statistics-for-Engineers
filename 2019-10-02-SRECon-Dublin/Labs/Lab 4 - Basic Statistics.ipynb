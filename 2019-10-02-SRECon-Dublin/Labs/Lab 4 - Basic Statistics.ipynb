{
 "cells": [
  {
   "cell_type": "markdown",
   "metadata": {},
   "source": [
    "# Availability SLOs"
   ]
  },
  {
   "cell_type": "code",
   "execution_count": 1,
   "metadata": {},
   "outputs": [
    {
     "data": {
      "text/html": [
       "\n",
       "<style>\n",
       ".custom {\n",
       "    font-size: 18pt;\n",
       "    font-family: monospace;\n",
       "}\n",
       "</style>\n"
      ],
      "text/plain": [
       "<IPython.core.display.HTML object>"
      ]
     },
     "metadata": {},
     "output_type": "display_data"
    }
   ],
   "source": [
    "%run ../prelude.py"
   ]
  },
  {
   "cell_type": "markdown",
   "metadata": {},
   "source": [
    "The `uptime.json` dataset contains a list of 0/1 values that represent the results of availablility test performed each minute over 30d."
   ]
  },
  {
   "cell_type": "code",
   "execution_count": 16,
   "metadata": {},
   "outputs": [],
   "source": [
    "with open(\"../../datasets/uptime.json\", \"r\") as fh: \n",
    "    X = json.load(fh)"
   ]
  },
  {
   "cell_type": "markdown",
   "metadata": {},
   "source": [
    "1. Plot the dataset\n",
    "\n",
    "2. Calculate the uptime-% for:\n",
    "   - each h for the first day\n",
    "   - each of the 30 days\n",
    "   - for the full 30 days"
   ]
  },
  {
   "cell_type": "markdown",
   "metadata": {
    "slideshow": {
     "slide_type": "slide"
    }
   },
   "source": [
    "# Truncated Means\n",
    "\n",
    "* Truncated means \"interpolate\" between means and medianse.\n",
    "* In many cases they provid the increased \"precision\" of means, while keeping the robustnes against outliers.\n",
    "\n",
    "To arrive at the k-truncated mean of a dataset X, perform the following steps:\n",
    "* Remove a minimum and a maximum value from X, a total of k times.\n",
    "* The remaining samples are called the k-truncation of X and denoted by $T_k X$.\n",
    "* Caculate the mean value of the remaining samples.\n",
    "\n",
    "We deonte the k-truncated mean by `tmean(X,k)`.\n",
    "\n",
    "TASK:\n",
    "\n",
    "- Implement a truncated mean function\n",
    "- Compute the k-truncated means for the XRR, WWR datasets and k = 0,1%,5%,10%\n",
    "- Visualize the results and compare them against the median and mean values"
   ]
  },
  {
   "cell_type": "markdown",
   "metadata": {},
   "source": [
    "# Counts as Inverse Percentiles\n",
    "\n",
    "* Plot the the ratio_below function, and the empirical percntiles of the RequestRate XRR and WebLatency XWL datasets.\n",
    "\n",
    "* Are they \"inverse\" to each other?\n",
    "\n",
    "* Does the same hold true for the TYPE-7 percentiles?\n"
   ]
  }
 ],
 "metadata": {
  "kernelspec": {
   "display_name": "Python 3",
   "language": "python",
   "name": "python3"
  },
  "language_info": {
   "codemirror_mode": {
    "name": "ipython",
    "version": 3
   },
   "file_extension": ".py",
   "mimetype": "text/x-python",
   "name": "python",
   "nbconvert_exporter": "python",
   "pygments_lexer": "ipython3",
   "version": "3.6.4"
  }
 },
 "nbformat": 4,
 "nbformat_minor": 2
}
