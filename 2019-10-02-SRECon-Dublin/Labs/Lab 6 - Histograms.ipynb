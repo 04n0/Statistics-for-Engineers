{
 "cells": [
  {
   "cell_type": "markdown",
   "metadata": {},
   "source": [
    "# Working with Histograms"
   ]
  },
  {
   "cell_type": "markdown",
   "metadata": {},
   "source": [
    "# Datasets"
   ]
  },
  {
   "cell_type": "code",
   "execution_count": 27,
   "metadata": {},
   "outputs": [],
   "source": [
    "from circllhist import Circllhist\n",
    "import numpy as np\n",
    "import json, csv\n",
    "\n",
    "REQUEST_RATES = np.loadtxt(\"../../datasets/request_rate_cluster:6h@5M.csv\", delimiter=\",\", skiprows=1)\n",
    "\n",
    "d = []\n",
    "with open(\"../../datasets/api_latency_histogram:1W@60sec.csv\",\"r\") as fh:\n",
    "    i = 0\n",
    "    for rec in csv.reader(fh):\n",
    "        i += 1\n",
    "        if not len(rec) == 2: print(i, rec)\n",
    "        d.append([rec[0], Circllhist.from_dict(json.loads(rec[1] or \"{}\"))])\n",
    "        \n",
    "API_LATENCY = d\n",
    "\n",
    "H = Circllhist()\n",
    "for t,h in API_LATENCY:\n",
    "    H.merge(h)\n",
    "API_TOTAL = H"
   ]
  },
  {
   "cell_type": "markdown",
   "metadata": {},
   "source": [
    "# Exercises"
   ]
  },
  {
   "cell_type": "markdown",
   "metadata": {},
   "source": [
    "1. Use `plt.hist` from the matplotlib library, to create histograms for the REQUEST_RATES dataset, loaded below.\n",
    "\n",
    "2. Add vertical lines for p25, p50, p75 in a different color.\n",
    "\n",
    "3. Add rugs for the the (Tukey) outliers of each dataset"
   ]
  },
  {
   "cell_type": "markdown",
   "metadata": {},
   "source": [
    "# Introductionto Libcircllhist\n",
    "\n",
    "https://github.com/circonus-labs/libcircllhist/"
   ]
  },
  {
   "cell_type": "code",
   "execution_count": 28,
   "metadata": {},
   "outputs": [
    {
     "name": "stdout",
     "output_type": "stream",
     "text": [
      "6.9016735\n",
      "3\n"
     ]
    }
   ],
   "source": [
    "H = Circllhist()\n",
    "H.insert(0.00002)\n",
    "H.insert(0.2)\n",
    "H.insert(20)\n",
    "print(H.mean())\n",
    "print(H.count())"
   ]
  },
  {
   "cell_type": "code",
   "execution_count": 29,
   "metadata": {},
   "outputs": [
    {
     "name": "stdout",
     "output_type": "stream",
     "text": [
      "+20e-006 -> 1\n",
      "+20e-002 -> 1\n",
      "+20e+000 -> 1\n"
     ]
    }
   ],
   "source": [
    "for bin, count in H:\n",
    "    print(bin,\"->\", count)"
   ]
  },
  {
   "cell_type": "code",
   "execution_count": 30,
   "metadata": {},
   "outputs": [
    {
     "name": "stdout",
     "output_type": "stream",
     "text": [
      "Available Histogram Methods:\n",
      "============================\n",
      "*  bin_count\n",
      "*  clear\n",
      "*  compress_mbe\n",
      "*  count\n",
      "*  count_above\n",
      "*  count_below\n",
      "*  count_nearby\n",
      "*  from_b64\n",
      "*  from_dict\n",
      "*  insert\n",
      "*  insert_intscale\n",
      "*  mean\n",
      "*  merge\n",
      "*  moment\n",
      "*  plot\n",
      "*  quantile\n",
      "*  stddev\n",
      "*  sum\n",
      "*  to_b64\n",
      "*  to_dict\n"
     ]
    }
   ],
   "source": [
    "print(\"Available Histogram Methods:\\n============================\")\n",
    "for m in dir(Circllhist):\n",
    "    if not m.startswith(\"_\"):\n",
    "        print(\"* \", m)"
   ]
  },
  {
   "cell_type": "code",
   "execution_count": 31,
   "metadata": {},
   "outputs": [
    {
     "data": {
      "text/plain": [
       "(0, 300)"
      ]
     },
     "execution_count": 31,
     "metadata": {},
     "output_type": "execute_result"
    },
    {
     "data": {
      "image/png": "[encoded data removed]",
      "text/plain": [
       "<matplotlib.figure.Figure at 0x7f2e4786ecf8>"
      ]
     },
     "metadata": {},
     "output_type": "display_data"
    }
   ],
   "source": [
    "# Usage\n",
    "plt.figure(figsize=(20,5))\n",
    "circllhist_plot(API_TOTAL)\n",
    "plt.xlim(0,300)"
   ]
  },
  {
   "cell_type": "markdown",
   "metadata": {},
   "source": [
    "## Histogram Statistics\n",
    "\n",
    "1. Compute mean, median, q(1,...,99), and IQR for the histogram `API_TOTAL` using the provided methods.\n",
    "\n",
    "2. Generate a dataset of 10K random numbers D, and insert them into a histogram H\n",
    "   - calculate  mean, median, IQR on D using numpy\n",
    "   - calculate  mean, median, IQR on H using Circllhist\n",
    "   - Compare performance with (%timeit) and percision.\n",
    "   - Repeat with datasets of size 10,100K,1M"
   ]
  },
  {
   "cell_type": "markdown",
   "metadata": {},
   "source": [
    "3. (*) Compute stddev, mad as follows:\n",
    "   - Method 1: Replace each bucket/count pair by cont points with value bucket.midpoint()\n",
    "   - Method 2: Replace each bucket/count pair by a number of points distributed evenly within the bucket\n",
    "     ```\n",
    "     count = 3\n",
    "     bucket = [.x..x..x.]\n",
    "     \n",
    "     count = 5\n",
    "     bucket = [.x..x..x..x..x.]\n",
    "     ```"
   ]
  },
  {
   "cell_type": "markdown",
   "metadata": {},
   "source": [
    "# Resampling\n",
    "\n",
    "1. Write a function `sample(H)` that returns a random value as follows:\n",
    "   - draw a random number q between 0,1 using `np.random.uniform()`\n",
    "   - return H.quantile(q)\n",
    "\n",
    "2. Write a second function sample2(H) that returns random samples from a Histogram as follows:\n",
    "   - np.random.choice(p=..) to choose random bins from the histogram, so that the probability of choosing a bin is proportional to it's count.\n",
    "   - Return a random element of the choosen bin using np.random.uniform(a,b)\n",
    "\n",
    "3. Compare both `sample()` functions. Do they generate the same distribution?\n",
    "\n",
    "4. Sample 10,100,1000,H.count() samples from the API_LATENCY_TOTAL histogram.\n",
    "   - Plot a histogram of the sampled data with plt.hist()\n",
    "   - Compare the plots to a visualization of circll_plot(H)"
   ]
  },
  {
   "cell_type": "markdown",
   "metadata": {},
   "source": [
    "# Mergability\n",
    "\n",
    "- Compute mean and median for each of the histograms in API_LATENCY (1M time window)\n",
    "- Compute the average mean and average median over the 1week time period\n",
    "- Compare the averaged mean and median to the mean and median of the merged histogram API_LATENCY_TOTAL (1W time window)\n",
    "\n",
    "- How can we get accurate mean total mean value from the 1M mean values?"
   ]
  }
 ],
 "metadata": {
  "kernelspec": {
   "display_name": "Python 3",
   "language": "python",
   "name": "python3"
  },
  "language_info": {
   "codemirror_mode": {
    "name": "ipython",
    "version": 3
   },
   "file_extension": ".py",
   "mimetype": "text/x-python",
   "name": "python",
   "nbconvert_exporter": "python",
   "pygments_lexer": "ipython3",
   "version": "3.6.4"
  }
 },
 "nbformat": 4,
 "nbformat_minor": 2
}
