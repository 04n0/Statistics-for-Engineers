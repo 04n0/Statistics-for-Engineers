{
 "cells": [
  {
   "cell_type": "markdown",
   "metadata": {},
   "source": [
    "# Sampling Data"
   ]
  },
  {
   "cell_type": "code",
   "execution_count": 4,
   "metadata": {},
   "outputs": [
    {
     "data": {
      "text/html": [
       "\n",
       "<style>\n",
       ".custom {\n",
       "    font-size: 18pt;\n",
       "    font-family: monospace;\n",
       "}\n",
       "</style>\n"
      ],
      "text/plain": [
       "<IPython.core.display.HTML object>"
      ]
     },
     "metadata": {},
     "output_type": "display_data"
    }
   ],
   "source": [
    "# import matplotlib as mpl\n",
    "%run prelude.py\n",
    "mpl.rcParams['figure.figsize'] = (20,5)"
   ]
  },
  {
   "cell_type": "code",
   "execution_count": 22,
   "metadata": {},
   "outputs": [
    {
     "data": {
      "text/html": [
       "<h2>Generate some request latency data</h2>"
      ],
      "text/plain": [
       "<IPython.core.display.HTML object>"
      ]
     },
     "metadata": {},
     "output_type": "display_data"
    },
    {
     "data": {
      "image/png": "[encoded data removed]",
      "text/plain": [
       "<matplotlib.figure.Figure at 0x7fe8653dcc18>"
      ]
     },
     "metadata": {},
     "output_type": "display_data"
    },
    {
     "data": {
      "text/html": [
       "<p class=\"custom\">1000 samples</p>"
      ],
      "text/plain": [
       "<IPython.core.display.HTML object>"
      ]
     },
     "metadata": {},
     "output_type": "display_data"
    }
   ],
   "source": [
    "H(\"Generate some request latency data\")\n",
    "Y = stats.pareto(.5, scale=5, loc=20).rvs(1000)\n",
    "plt.hist(Y,range=(0,1000),bins=500);\n",
    "plt.show()\n",
    "P(len(Y), \"samples\")"
   ]
  },
  {
   "cell_type": "code",
   "execution_count": 23,
   "metadata": {},
   "outputs": [
    {
     "data": {
      "text/html": [
       "<h2>Subsample data</h2>"
      ],
      "text/plain": [
       "<IPython.core.display.HTML object>"
      ]
     },
     "metadata": {},
     "output_type": "display_data"
    },
    {
     "data": {
      "image/png": "[encoded data removed]",
      "text/plain": [
       "<matplotlib.figure.Figure at 0x7fe865c689e8>"
      ]
     },
     "metadata": {},
     "output_type": "display_data"
    },
    {
     "data": {
      "text/html": [
       "<p class=\"custom\">100 samples</p>"
      ],
      "text/plain": [
       "<IPython.core.display.HTML object>"
      ]
     },
     "metadata": {},
     "output_type": "display_data"
    }
   ],
   "source": [
    "H(\"Subsample data\")\n",
    "SY = np.random.choice(Y, 100)\n",
    "plt.hist(SY,range=(0,1000),bins=500)\n",
    "plt.show()\n",
    "P(len(SY),\"samples\")"
   ]
  },
  {
   "cell_type": "code",
   "execution_count": 24,
   "metadata": {},
   "outputs": [
    {
     "data": {
      "text/html": [
       "<table>\n",
       "<thead>\n",
       "<tr><th>     </th><th style=\"text-align: right;\">  original data</th><th style=\"text-align: right;\">  sampled data</th><th style=\"text-align: right;\">  relative error %</th></tr>\n",
       "</thead>\n",
       "<tbody>\n",
       "<tr><td>mean </td><td style=\"text-align: right;\">        74613.3</td><td style=\"text-align: right;\">        2052.7</td><td style=\"text-align: right;\">              97.2</td></tr>\n",
       "<tr><td>p50  </td><td style=\"text-align: right;\">           37.6</td><td style=\"text-align: right;\">          39.1</td><td style=\"text-align: right;\">               3.8</td></tr>\n",
       "<tr><td>p90  </td><td style=\"text-align: right;\">          384.1</td><td style=\"text-align: right;\">         656.1</td><td style=\"text-align: right;\">              70.8</td></tr>\n",
       "<tr><td>p99  </td><td style=\"text-align: right;\">        32424.8</td><td style=\"text-align: right;\">       24700.8</td><td style=\"text-align: right;\">              23.8</td></tr>\n",
       "<tr><td>p99.9</td><td style=\"text-align: right;\">       421672.8</td><td style=\"text-align: right;\">       93583.3</td><td style=\"text-align: right;\">              77.8</td></tr>\n",
       "</tbody>\n",
       "</table>"
      ],
      "text/plain": [
       "<IPython.core.display.HTML object>"
      ]
     },
     "metadata": {},
     "output_type": "display_data"
    }
   ],
   "source": [
    "# Statistics Calculated on SubSampled Data\n",
    "def row(f):\n",
    "    x = f(Y)\n",
    "    y = f(SY)\n",
    "    rerr = abs(x-y)/x*100\n",
    "    return f(Y), f(SY), rerr\n",
    "\n",
    "display(HTML(tabulate(\n",
    "    [ \n",
    "        [ 'mean',  *row(lambda Y: np.mean(Y)) ],\n",
    "        [ 'p50',   *row(lambda Y: np.percentile(Y, 50)) ],\n",
    "        [ 'p90',   *row(lambda Y: np.percentile(Y, 90)) ],\n",
    "        [ 'p99',   *row(lambda Y: np.percentile(Y, 99)) ],\n",
    "        [ 'p99.9', *row(lambda Y: np.percentile(Y, 99.9)) ],\n",
    "    ],\n",
    "    headers = \",original data,sampled data,relative error %\".split(\",\"),\n",
    "    floatfmt=\".1f\",\n",
    "    tablefmt=\"html\"\n",
    ")))"
   ]
  },
  {
   "cell_type": "code",
   "execution_count": 30,
   "metadata": {},
   "outputs": [],
   "source": [
    "p = .5\n",
    "def freq(x):\n",
    "    if x > 200: return 0.9 * p\n",
    "    if x > 100: return 0.5 * p\n",
    "    return 0.1 * p"
   ]
  },
  {
   "cell_type": "code",
   "execution_count": 31,
   "metadata": {},
   "outputs": [],
   "source": [
    "def sample(Y, freq):\n",
    "    for y in Y:\n",
    "        f = freq(y)\n",
    "        p = np.random.random() # in [0 , 1)\n",
    "        if p < f:\n",
    "            yield (y, 1/f)"
   ]
  },
  {
   "cell_type": "code",
   "execution_count": 32,
   "metadata": {},
   "outputs": [],
   "source": [
    "L = list(sample(Y, freq))\n",
    "LS = sorted(L, key= lambda pair : pair[0])"
   ]
  },
  {
   "cell_type": "code",
   "execution_count": 33,
   "metadata": {},
   "outputs": [],
   "source": [
    "def w_count(L):\n",
    "    c = 0\n",
    "    for y, w in L:\n",
    "        c += w\n",
    "    return c"
   ]
  },
  {
   "cell_type": "code",
   "execution_count": 34,
   "metadata": {},
   "outputs": [
    {
     "name": "stdout",
     "output_type": "stream",
     "text": [
      "126 1161.777777777777\n"
     ]
    }
   ],
   "source": [
    "print(len(L), w_count(L))\n"
   ]
  },
  {
   "cell_type": "code",
   "execution_count": 35,
   "metadata": {},
   "outputs": [],
   "source": [
    "def w_percentile(L, p):\n",
    "    # assumes L to be sorted\n",
    "    N = w_count(L)\n",
    "    r = np.floor(N * p)\n",
    "    c = 0\n",
    "    for y,w in L:\n",
    "        c += w\n",
    "        if c > r: return y"
   ]
  },
  {
   "cell_type": "code",
   "execution_count": 36,
   "metadata": {},
   "outputs": [
    {
     "data": {
      "text/plain": [
       "29.88437473369946"
      ]
     },
     "execution_count": 36,
     "metadata": {},
     "output_type": "execute_result"
    }
   ],
   "source": [
    "w_percentile(LS, 0.44)"
   ]
  },
  {
   "cell_type": "code",
   "execution_count": 39,
   "metadata": {},
   "outputs": [
    {
     "data": {
      "text/html": [
       "<table>\n",
       "<thead>\n",
       "<tr><th style=\"text-align: right;\">      p</th><th style=\"text-align: right;\">  p-percentile</th><th style=\"text-align: right;\">  p-percentile sampled</th><th style=\"text-align: right;\">   p-percentile stratified</th></tr>\n",
       "</thead>\n",
       "<tbody>\n",
       "<tr><td style=\"text-align: right;\"> 50.000</td><td style=\"text-align: right;\">        37.621</td><td style=\"text-align: right;\">                39.056</td><td style=\"text-align: right;\">                     0.177</td></tr>\n",
       "<tr><td style=\"text-align: right;\"> 90.000</td><td style=\"text-align: right;\">       384.103</td><td style=\"text-align: right;\">               656.125</td><td style=\"text-align: right;\">                     0.237</td></tr>\n",
       "<tr><td style=\"text-align: right;\"> 99.000</td><td style=\"text-align: right;\">     32424.822</td><td style=\"text-align: right;\">             24700.756</td><td style=\"text-align: right;\">                     0.375</td></tr>\n",
       "<tr><td style=\"text-align: right;\"> 99.900</td><td style=\"text-align: right;\">    421672.811</td><td style=\"text-align: right;\">             93583.264</td><td style=\"text-align: right;\">                     0.765</td></tr>\n",
       "<tr><td style=\"text-align: right;\"> 99.990</td><td style=\"text-align: right;\">  65619336.534</td><td style=\"text-align: right;\">            100471.515</td><td style=\"text-align: right;\">                     0.998</td></tr>\n",
       "<tr><td style=\"text-align: right;\">100.000</td><td style=\"text-align: right;\">  72863521.392</td><td style=\"text-align: right;\">            101236.876</td><td style=\"text-align: right;\">                     0.999</td></tr>\n",
       "</tbody>\n",
       "</table>"
      ],
      "text/plain": [
       "<IPython.core.display.HTML object>"
      ]
     },
     "metadata": {},
     "output_type": "display_data"
    }
   ],
   "source": [
    "from IPython.display import HTML, display\n",
    "display(HTML(tabulate(\n",
    "    [ [ p, np.percentile(Y, p), np.percentile(SY, p), (np.percentile(Y, p) - w_percentile(LS, p/100))/np.percentile(Y, p) ] for p in [50, 90, 99, 99.9, 99.99, 100] ],\n",
    "    headers = \"p,p-percentile,p-percentile sampled, p-percentile stratified\".split(\",\"),\n",
    "    floatfmt=\".3f\",\n",
    "    tablefmt=\"html\"\n",
    ")))"
   ]
  }
 ],
 "metadata": {
  "kernelspec": {
   "display_name": "Python 3",
   "language": "python",
   "name": "python3"
  },
  "language_info": {
   "codemirror_mode": {
    "name": "ipython",
    "version": 3
   },
   "file_extension": ".py",
   "mimetype": "text/x-python",
   "name": "python",
   "nbconvert_exporter": "python",
   "pygments_lexer": "ipython3",
   "version": "3.6.4"
  }
 },
 "nbformat": 4,
 "nbformat_minor": 2
}
