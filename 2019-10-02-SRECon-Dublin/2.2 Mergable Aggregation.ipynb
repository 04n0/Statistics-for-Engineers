{
 "cells": [
  {
   "cell_type": "code",
   "execution_count": 103,
   "metadata": {},
   "outputs": [
    {
     "data": {
      "text/html": [
       "\n",
       "<style>\n",
       ".custom {\n",
       "    font-size: 18pt;\n",
       "    font-family: monospace;\n",
       "}\n",
       "</style>\n"
      ],
      "text/plain": [
       "<IPython.core.display.HTML object>"
      ]
     },
     "metadata": {},
     "output_type": "display_data"
    }
   ],
   "source": [
    "#! bash install.sh\n",
    "%run prelude.py"
   ]
  },
  {
   "cell_type": "code",
   "execution_count": 104,
   "metadata": {},
   "outputs": [],
   "source": [
    "#\n",
    "# Copied from 1.4\n",
    "#\n",
    "\n",
    "def PE_range(p, X):\n",
    "    # Assumes X to be sorted\n",
    "    q = p/100.0\n",
    "    n = len(X)\n",
    "    restrict = lambda x : max(1, min(n, x))\n",
    "    a = restrict(ceil(q*n))\n",
    "    b = restrict(floor(q*n) + 1)\n",
    "    return (X[a-1], X[b-1])\n",
    "\n",
    "def PE(p,X):\n",
    "    # Assumes X to be sorted\n",
    "    x,y = PE_range(p,X)\n",
    "    return (x+y)/2\n",
    "\n",
    "FILENAME=\"../datasets/api_latencies_24x1h.tsv\"\n",
    "XAL = defaultdict(list)\n",
    "with open(FILENAME) as fh:\n",
    "    for line in fh:\n",
    "        # line = \"3 232.123321\" -- hour latency\n",
    "        a, b = line.split(\"\\t\")\n",
    "        XAL[int(a)].append(float(b))\n",
    "\n",
    "        \n",
    "for i in range(24):\n",
    "    XAL[i] = sorted(XAL[i])"
   ]
  },
  {
   "cell_type": "markdown",
   "metadata": {},
   "source": [
    "# Aggregating Percentiles"
   ]
  },
  {
   "cell_type": "code",
   "execution_count": 105,
   "metadata": {},
   "outputs": [],
   "source": [
    "P = [0, 50, 90, 99, 99.9, 100]"
   ]
  },
  {
   "cell_type": "code",
   "execution_count": 123,
   "metadata": {},
   "outputs": [
    {
     "data": {
      "text/html": [
       "<h3>API Latencies over time</h3>"
      ],
      "text/plain": [
       "<IPython.core.display.HTML object>"
      ]
     },
     "metadata": {},
     "output_type": "display_data"
    },
    {
     "name": "stdout",
     "output_type": "stream",
     "text": [
      "  hour    0    50     90      99     99.9      100\n",
      "------  ---  ----  -----  ------  -------  -------\n",
      "     0  0.3  12.0   19.8   113.1    450.5   1406.1\n",
      "     1  0.4  16.6   23.4   115.0    606.6   1548.5\n",
      "     2  0.4  20.6   27.5   117.1    936.2   3001.0\n",
      "     3  0.3  20.8   35.1   425.8   1655.4   2776.4\n",
      "     4  0.4  23.2   42.7   497.2   1234.8   2195.7\n",
      "     5  0.4  24.3   71.6  2877.5   3298.5   3298.5\n",
      "     6  0.4  25.5   95.5   154.6    191.1    191.1\n",
      "     7  7.2  26.9   87.3   125.5    125.5    125.5\n",
      "     8  0.4  24.9   71.1   137.3    137.3    137.3\n",
      "     9  7.7  33.7  170.2  5091.4   5091.4   5091.4\n",
      "    10  7.6  25.4   73.7    83.2     83.2     83.2\n",
      "    11  0.6  26.3   78.1    95.9     95.9     95.9\n",
      "    12  7.5  25.2   75.8   115.3    249.3    249.3\n",
      "    13  5.1  25.2   76.1   116.1    117.1    117.1\n",
      "    14  0.5  25.9  105.1   277.6    277.6    277.6\n",
      "    15  0.6  27.3  104.7   147.3    147.3    147.3\n",
      "    16  3.0   8.1   33.4   172.6    225.3    225.3\n",
      "    17  0.4  10.9   17.0   140.8    872.3   1855.1\n",
      "    18  0.4  14.5   25.3   572.0   1852.8   4312.3\n",
      "    19  0.3  20.4   33.3   805.7   1681.1   3285.1\n",
      "    20  0.3  21.6   37.5  1205.5   3759.1   9555.5\n",
      "    21  0.4  25.4   86.7  1973.7   4211.7   9081.4\n",
      "    22  0.3  20.2   30.3   650.8   1866.8   3895.9\n",
      "    23  0.3  29.7   51.2  4952.3  10561.3  10990.4\n"
     ]
    },
    {
     "data": {
      "text/html": [
       "<h3>Total API Latency percentiles</h3>"
      ],
      "text/plain": [
       "<IPython.core.display.HTML object>"
      ]
     },
     "metadata": {},
     "output_type": "display_data"
    },
    {
     "name": "stdout",
     "output_type": "stream",
     "text": [
      "             0       50       90       99     99.9      100\n",
      "-----  -------  -------  -------  -------  -------  -------\n",
      "total  0.29394  15.9027  25.4473  71.8173  5797.75  10990.4\n"
     ]
    }
   ],
   "source": [
    "H(\"API Latencies over time\")\n",
    "TAB([ [h] + [ PE(p,X) for p in P ] for h, X in XAL.items() ], headers=[\"hour\"] + P , floatfmt=\".1f\" )\n",
    "\n",
    "H(\"Total API Latency percentiles\")\n",
    "XT = []\n",
    "for X in XAL.values():\n",
    "    for x in X:\n",
    "        XT.append(x)\n",
    "        \n",
    "TOTP = [ PE(p,XT) for p in P ]\n",
    "\n",
    "TAB([[\"total\"] + TOTP], headers=[\"\"] + P)"
   ]
  },
  {
   "cell_type": "code",
   "execution_count": 124,
   "metadata": {},
   "outputs": [],
   "source": [
    "# Averaging Percentiles"
   ]
  },
  {
   "cell_type": "code",
   "execution_count": 125,
   "metadata": {},
   "outputs": [
    {
     "data": {
      "text/html": [
       "<h3>Averaging Percentiles</h3>"
      ],
      "text/plain": [
       "<IPython.core.display.HTML object>"
      ]
     },
     "metadata": {},
     "output_type": "display_data"
    },
    {
     "name": "stdout",
     "output_type": "stream",
     "text": [
      "                        0       50       90       99     99.9     100\n",
      "---------------  --------  -------  -------  -------  -------  ------\n",
      "avg-percentiles  0.341828  20.8396  39.6724  1307.49  3199.12  5661.6\n"
     ]
    }
   ],
   "source": [
    "H(\"Averaging Percentiles\")\n",
    "\n",
    "AVGP = [ np.mean([  PE(p,X) for X in XAL.values() ]) for p in P  ]\n",
    "TAB([ [\"avg-percentiles\"] + WAVGP ], headers=[\"\"] + P)"
   ]
  },
  {
   "cell_type": "code",
   "execution_count": 126,
   "metadata": {},
   "outputs": [
    {
     "data": {
      "text/html": [
       "<h3>Comparison</h3>"
      ],
      "text/plain": [
       "<IPython.core.display.HTML object>"
      ]
     },
     "metadata": {},
     "output_type": "display_data"
    },
    {
     "name": "stdout",
     "output_type": "stream",
     "text": [
      "    p    p-total    p-avg     err    err-%\n",
      "-----  ---------  -------  ------  -------\n",
      "  0.0        0.3      1.9     1.6    540.0\n",
      " 50.0       15.9     22.3     6.4     40.1\n",
      " 90.0       25.4     61.3    35.9    141.1\n",
      " 99.0       71.8    873.5   801.6   1116.2\n",
      " 99.9     5797.8   1655.3  4142.4     71.4\n",
      "100.0    10990.4   2664.3  8326.1     75.8\n"
     ]
    }
   ],
   "source": [
    "H(\"Comparison\")\n",
    "HEAD=\"p      p-total  p-avg    err                   err-%\".split()\n",
    "TAB([[ P[i], TOTP[i], AVGP[i], abs(TOTP[i]-AVGP[i]), abs(TOTP[i]-AVGP[i])/TOTP[i] * 100 ] for i in range(len(P)) ], floatfmt=\".1f\", headers=HEAD)"
   ]
  },
  {
   "cell_type": "code",
   "execution_count": 127,
   "metadata": {},
   "outputs": [
    {
     "data": {
      "text/html": [
       "<h3>Weighted Average Percentile</h3>"
      ],
      "text/plain": [
       "<IPython.core.display.HTML object>"
      ]
     },
     "metadata": {},
     "output_type": "display_data"
    },
    {
     "name": "stdout",
     "output_type": "stream",
     "text": [
      "                          0       50       90       99     99.9     100\n",
      "-----------------  --------  -------  -------  -------  -------  ------\n",
      "w-avg-percentiles  0.341828  20.8396  39.6724  1307.49  3199.12  5661.6\n"
     ]
    }
   ],
   "source": [
    "H(\"Weighted Average Percentile\")\n",
    "WAVGP = [ np.sum([ len(X) * PE(p,X) for X in XAL.values() ]) / np.sum( [ len(X) for X in XAL.values() ]) for p in P  ]\n",
    "TAB([ [\"w-avg-percentiles\"] + WAVGP ], headers=[\"\"] + P)"
   ]
  },
  {
   "cell_type": "code",
   "execution_count": 128,
   "metadata": {},
   "outputs": [
    {
     "data": {
      "text/html": [
       "<h3>Comparison</h3>"
      ],
      "text/plain": [
       "<IPython.core.display.HTML object>"
      ]
     },
     "metadata": {},
     "output_type": "display_data"
    },
    {
     "name": "stdout",
     "output_type": "stream",
     "text": [
      "    p    p-total    p-wavg     err    err-%\n",
      "-----  ---------  --------  ------  -------\n",
      "  0.0        0.3       1.9     0.0     16.3\n",
      " 50.0       15.9      22.3     4.9     31.0\n",
      " 90.0       25.4      61.3    14.2     55.9\n",
      " 99.0       71.8     873.5  1235.7   1720.6\n",
      " 99.9     5797.8    1655.3  2598.6     44.8\n",
      "100.0    10990.4    2664.3  5328.8     48.5\n"
     ]
    }
   ],
   "source": [
    "H(\"Comparison\")\n",
    "HEAD=\"p      p-total  p-wavg   err                   err-%\".split()\n",
    "TAB([[ P[i], TOTP[i], AVGP[i], abs(TOTP[i]-WAVGP[i]), abs(TOTP[i]-WAVGP[i])/TOTP[i] * 100 ] for i in range(len(P)) ], floatfmt=\".1f\", headers=HEAD)"
   ]
  },
  {
   "cell_type": "markdown",
   "metadata": {},
   "source": [
    "# Discussion\n",
    "\n",
    "* Averaging Percentiles does not work at all.\n",
    "\n",
    "* Contrast this to the situation with the count-below metrics, which carry similar information\n",
    "\n",
    "* Same holds for: median, IQR, etc."
   ]
  },
  {
   "cell_type": "markdown",
   "metadata": {},
   "source": [
    "Yet, calculating accurate percentiles over aggergated datasets is necessary for basic analysis of API performance:\n",
    "\n",
    "- Aggregation across time\n",
    "- Aggregation across different nodes\n",
    "- Aggregation across different endpoints"
   ]
  },
  {
   "cell_type": "markdown",
   "metadata": {},
   "source": [
    "# Percentiles can't be Aggregated\n",
    "\n",
    "* Blog: www.circonus.com/problem-math/\n",
    "\n",
    "* Twitter: https://twitter.com/heinrichhartman/status/748562001392111617\n",
    "\n",
    "* Reddit: https://www.reddit.com/r/devops/comments/941n2k/tsdbs_at_scale_part_one/e3po8d3/\n",
    "\n",
    "* Gil Tene - How not to measure latency -- https://www.youtube.com/watch?v=lJ8ydIuPFeU&feature=youtu.be&t=9m15s\"."
   ]
  },
  {
   "cell_type": "markdown",
   "metadata": {},
   "source": [
    "# Mergable Percentile Summaries\n",
    "\n",
    "There are multiple methods available to summarize data in a mergable way, that allows for percentile calculations.\n",
    "\n",
    "1. Circllhists -- Circonus 2011\n",
    "\n",
    "2. HDR Histograms -- Gil Tene @ Azul Systems, 2015\n",
    "\n",
    "3. t-digest -- Dunning @ MapR, ? @ Wavefront\n",
    "\n",
    "...\n",
    "\n",
    "4. DD-sketch -- ? @ DataDog 2019\n"
   ]
  },
  {
   "cell_type": "code",
   "execution_count": null,
   "metadata": {},
   "outputs": [],
   "source": []
  }
 ],
 "metadata": {
  "kernelspec": {
   "display_name": "Python 3",
   "language": "python",
   "name": "python3"
  },
  "language_info": {
   "codemirror_mode": {
    "name": "ipython",
    "version": 3
   },
   "file_extension": ".py",
   "mimetype": "text/x-python",
   "name": "python",
   "nbconvert_exporter": "python",
   "pygments_lexer": "ipython3",
   "version": "3.6.4"
  }
 },
 "nbformat": 4,
 "nbformat_minor": 2
}
