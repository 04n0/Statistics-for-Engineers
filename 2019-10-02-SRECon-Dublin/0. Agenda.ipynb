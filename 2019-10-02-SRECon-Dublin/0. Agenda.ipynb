{
 "cells": [
  {
   "cell_type": "markdown",
   "metadata": {},
   "source": [
    "# Statistics for Engineers\n",
    "\n",
    "Heinrich Hartmann, Circonus\n",
    "\n",
    "Program: https://www.usenix.org/conference/srecon19emea/presentation/hartmann-statistics\n",
    "\n",
    "SRECon EMEA 2019\n"
   ]
  },
  {
   "cell_type": "markdown",
   "metadata": {},
   "source": [
    "## Agneda\n",
    "\n",
    "```\n",
    "+--------+-----------------------------------------+\n",
    "| Time   | Title                                   |\n",
    "|========|=========================================|\n",
    "| 14:00  | Introduction:  Observing IT Systems     |\n",
    "|        | Basic Statistics:                       |\n",
    "|        | - Data Visualizations                   |\n",
    "|        | - Reading Graphs                        |\n",
    "|        | - Descriptive Statistics                |\n",
    "+--------+-----------------------------------------+\n",
    "| 15:00  | Labs I                                  |\n",
    "+--------+-----------------------------------------+\n",
    "| 15:30  | --- Coffee break ---                    |\n",
    "+--------+-----------------------------------------+\n",
    "| 16:00  | Advanced Topics:                        |\n",
    "|        | - Sampling                              |\n",
    "|        | - Aggregating Percentiles               |\n",
    "|        | - Regressions and Correlation           |\n",
    "|--------+-----------------------------------------|\n",
    "| 17:00  | Labs II                                 |\n",
    "+--------+-----------------------------------------+\n",
    "```"
   ]
  }
 ],
 "metadata": {
  "kernelspec": {
   "display_name": "Python 3",
   "language": "python",
   "name": "python3"
  },
  "language_info": {
   "codemirror_mode": {
    "name": "ipython",
    "version": 3
   },
   "file_extension": ".py",
   "mimetype": "text/x-python",
   "name": "python",
   "nbconvert_exporter": "python",
   "pygments_lexer": "ipython3",
   "version": "3.6.4"
  }
 },
 "nbformat": 4,
 "nbformat_minor": 2
}
