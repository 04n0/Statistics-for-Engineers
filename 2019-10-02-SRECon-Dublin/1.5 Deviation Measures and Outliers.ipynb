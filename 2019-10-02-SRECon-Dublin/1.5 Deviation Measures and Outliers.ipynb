{
 "cells": [
  {
   "cell_type": "markdown",
   "metadata": {},
   "source": [
    "# Deviation Measures and Outliers"
   ]
  },
  {
   "cell_type": "code",
   "execution_count": 1,
   "metadata": {},
   "outputs": [
    {
     "data": {
      "text/html": [
       "\n",
       "<style>\n",
       ".custom {\n",
       "    font-size: 18pt;\n",
       "    font-family: monospace;\n",
       "}\n",
       "</style>\n"
      ],
      "text/plain": [
       "<IPython.core.display.HTML object>"
      ]
     },
     "metadata": {},
     "output_type": "display_data"
    }
   ],
   "source": [
    "%run prelude.py\n",
    "%matplotlib inline\n",
    "\n",
    "#\n",
    "# Copied from the Descriptive Statistics Notebook\n",
    "#\n",
    "\n",
    "def mean(X):\n",
    "    return float(sum(X)) / len(X)\n",
    "\n",
    "def median_range(X):\n",
    "    S = sorted(X)\n",
    "    n = len(X)\n",
    "    lower_mid = int(math.floor((n-1)/2.))\n",
    "    upper_mid = int(math.ceil((n-1)/2.))\n",
    "    return (S[lower_mid], S[upper_mid])\n",
    "\n",
    "def median(X):\n",
    "    a,b = median_range(X)\n",
    "    return (a+b)/2\n",
    "\n",
    "def tmean(X,k):\n",
    "    X = list(X)\n",
    "    k = int(k)\n",
    "    if len(X) <= 2*k:\n",
    "        return None\n",
    "    for i in range(k):\n",
    "        X.remove(max(X))\n",
    "        X.remove(min(X))\n",
    "    return mean(X)\n",
    "\n",
    "# Computation of Quantiles\n",
    "def percentile_range(p,X):\n",
    "    q = p/100.0\n",
    "    S = sorted(X)\n",
    "    n = len(X)\n",
    "    upper_d = int(math.ceil(q * (n + 1)))\n",
    "    lower_d = int(math.floor(q * (n + 1)))\n",
    "    # edge cases\n",
    "    if upper_d == 0:   upper_d = 1\n",
    "    if upper_d == n+1: upper_d = n\n",
    "    if lower_d == 0:   lower_d = 1\n",
    "    if lower_d == n+1: lower_d = n\n",
    "    return (S[lower_d-1], S[upper_d-1])\n",
    "\n",
    "def percentile(p,X):\n",
    "    a,b = percentile_range(p,X)\n",
    "    return (a+b)/2 # mid point percentile. One choice!\n",
    "\n",
    "def mark(m,height=1,style='r'):\n",
    "    plt.plot([m,m],[0,height],style)\n",
    "\n",
    "def mark_range(a,b):\n",
    "    plt.plot([a,a],[0.5,1],'r-')\n",
    "    plt.plot([b,b],[0.5,1],'r-')\n",
    "    plt.plot([a,b],[0.75,0.75],'r--')\n",
    "    \n",
    "def plot_mean_median(X, title):\n",
    "    plt.figure(figsize=(14,1))\n",
    "    plt.title(title)\n",
    "    print(\"###  \" + title + \" ###\")\n",
    "    sns.rugplot(X, color='grey', height=0.5)\n",
    "    mark(mean(X));                     print(\"mean:        {:4.2f} (red)\".format(mean(X)))\n",
    "    k = int(math.ceil(10*len(X)/100.))\n",
    "    mark(tmean(X,k), style='b');       print(\"tmean(X,{:2}): {:4.2f} (blue)\".format(k,tmean(X,k)))\n",
    "    mark(median(X), style='g');        print(\"median:      {:4.2f} (green)\".format(median(X)))\n",
    "    plt.show()\n",
    "\n",
    "Z = [ np.random.normal() for x in range(500) ]\n",
    "X = np.loadtxt(\"../datasets/RequestRates.csv\", delimiter=\",\")[:,1]\n",
    "Y = np.genfromtxt(\"../datasets/WebLatency.csv\", delimiter=\",\")[:,2][0:500] - 85"
   ]
  },
  {
   "cell_type": "markdown",
   "metadata": {
    "slideshow": {
     "slide_type": "slide"
    }
   },
   "source": [
    "## Deviation Measures\n",
    "\n",
    "Goal measure \"typical\" deviation form a central value."
   ]
  },
  {
   "cell_type": "markdown",
   "metadata": {
    "slideshow": {
     "slide_type": "slide"
    }
   },
   "source": [
    "1. The _maximal deviation_ is defined as\n",
    "\n",
    "   $$ maxdev(X) = max \\{ |X[i] - \\mu| \\,|\\, i=1,\\dots,n\\}.$$\n",
    "\n",
    "   (Better: span(X) = max(X) - min(X))\n",
    "\n",
    "2. The _mean absolute deviation_ is defined as\n",
    "   \n",
    "   $$ mad(X) = \\frac{1}{n} \\sum_{i=1}^n |X[i] - \\mu|.$$\n",
    "\n",
    "3. The _standard deviation_ is defined as\n",
    "\n",
    "   $$ \\sigma(X) = stddev(X) =  \\sqrt{\\frac{1}{n} \\sum_{i=1}^n (X[i] - \\mu)^2}.$$\n",
    "\n",
    "4. The _inter quartile range_ is defined as difference of the 75- and 25-Percentile:\n",
    "\n",
    "   $$ IQR(X) = P(75,X) - P(25,X) $$\n",
    "\n",
    "Properties:\n",
    "* Measure the 'typical' displacement from the mean value.\n",
    "* Standard deviation is popular because it has extremely nice mathematical properties.\n",
    "* The IQR is very robust to outliers."
   ]
  },
  {
   "cell_type": "code",
   "execution_count": 2,
   "metadata": {
    "slideshow": {
     "slide_type": "slide"
    }
   },
   "outputs": [],
   "source": [
    "def max_dev(X):\n",
    "    m = mean(X)\n",
    "    return max(abs(x - m) for x in X)\n",
    "\n",
    "def mad(X):\n",
    "    m = mean(X)\n",
    "    return sum(abs(x - m) for x in X) / float(len(X))\n",
    "\n",
    "def stddev(X):\n",
    "    m = mean(X)\n",
    "    return math.pow(sum((x - m)**2 for x in X) / len(X), 0.5)\n",
    "\n",
    "def IQR(X): return percentile(75,X) - percentile(0.25,X)\n",
    "\n",
    "# computation of percentiles is given below"
   ]
  },
  {
   "cell_type": "code",
   "execution_count": 3,
   "metadata": {
    "slideshow": {
     "slide_type": "skip"
    }
   },
   "outputs": [],
   "source": [
    "# Plotting helper function\n",
    "def plot_mean_dev(X, m, s, new_canvas=True):\n",
    "    print(\"center    = \", m)\n",
    "    print(\"deviation = \", s)\n",
    "    if new_canvas: plt.figure(figsize=(14,1))\n",
    "    sns.rugplot(X, color='grey', height=0.5)\n",
    "    plt.plot([m,m],[0,1],'r-' )\n",
    "    plt.plot([m-s,m-s],[0,1],'b-')\n",
    "    plt.plot([m+s,m+s],[0,1],'b-')\n",
    "    plt.plot([m-s,m+s],[0.5,0.5],'b--')\n",
    "    if new_canvas: plt.show()"
   ]
  },
  {
   "cell_type": "code",
   "execution_count": 4,
   "metadata": {
    "scrolled": false,
    "slideshow": {
     "slide_type": "slide"
    }
   },
   "outputs": [
    {
     "name": "stdout",
     "output_type": "stream",
     "text": [
      "Maximal deviation\n",
      "center    =  -0.022650712138689955\n",
      "deviation =  3.3722430915227943\n"
     ]
    },
    {
     "data": {
      "image/png": "[encoded data removed]",
      "text/plain": [
       "<matplotlib.figure.Figure at 0x7f0e740dcd68>"
      ]
     },
     "metadata": {},
     "output_type": "display_data"
    },
    {
     "name": "stdout",
     "output_type": "stream",
     "text": [
      "Standard Deviation\n",
      "center    =  -0.022650712138689955\n",
      "deviation =  0.969806874981624\n"
     ]
    },
    {
     "data": {
      "image/png": "[encoded data removed]",
      "text/plain": [
       "<matplotlib.figure.Figure at 0x7f0e3cd72400>"
      ]
     },
     "metadata": {},
     "output_type": "display_data"
    },
    {
     "name": "stdout",
     "output_type": "stream",
     "text": [
      "Mean Absolute Deviation\n",
      "center    =  -0.022650712138689955\n",
      "deviation =  0.7844981010733113\n"
     ]
    },
    {
     "data": {
      "image/png": "[encoded data removed]",
      "text/plain": [
       "<matplotlib.figure.Figure at 0x7f0e3ca93208>"
      ]
     },
     "metadata": {},
     "output_type": "display_data"
    },
    {
     "name": "stdout",
     "output_type": "stream",
     "text": [
      "Median IQR\n",
      "center    =  -0.06661306428102677\n",
      "deviation =  1.805021756583935\n"
     ]
    },
    {
     "data": {
      "image/png": "[encoded data removed]",
      "text/plain": [
       "<matplotlib.figure.Figure at 0x7f0e3a4c0e48>"
      ]
     },
     "metadata": {},
     "output_type": "display_data"
    }
   ],
   "source": [
    "# Standard deviation is a good deviation for normal distributed data\n",
    "\n",
    "print(\"Maximal deviation\")\n",
    "plot_mean_dev(Z,mean(Z),max_dev(Z))\n",
    "\n",
    "print(\"Standard Deviation\")\n",
    "plot_mean_dev(Z,mean(Z),stddev(Z))\n",
    "\n",
    "print(\"Mean Absolute Deviation\")\n",
    "plot_mean_dev(Z,mean(Z),mad(Z))\n",
    "\n",
    "print(\"Median IQR\")\n",
    "plot_mean_dev(Z,median(Z),IQR(Z)/2)"
   ]
  },
  {
   "cell_type": "code",
   "execution_count": 5,
   "metadata": {
    "scrolled": false,
    "slideshow": {
     "slide_type": "slide"
    }
   },
   "outputs": [
    {
     "name": "stdout",
     "output_type": "stream",
     "text": [
      "Maximal deviation\n",
      "center    =  1316.3086347078017\n",
      "deviation =  738.072957089\n"
     ]
    },
    {
     "data": {
      "image/png": "[encoded data removed]",
      "text/plain": [
       "<matplotlib.figure.Figure at 0x7f0e3cd24208>"
      ]
     },
     "metadata": {},
     "output_type": "display_data"
    },
    {
     "name": "stdout",
     "output_type": "stream",
     "text": [
      "Standard Deviation\n",
      "center    =  1316.3086347078017\n",
      "deviation =  374.5723639541368\n"
     ]
    },
    {
     "data": {
      "image/png": "[encoded data removed]",
      "text/plain": [
       "<matplotlib.figure.Figure at 0x7f0e3ceb86a0>"
      ]
     },
     "metadata": {},
     "output_type": "display_data"
    },
    {
     "name": "stdout",
     "output_type": "stream",
     "text": [
      "Mean Absolute Deviation\n",
      "center    =  1316.3086347078017\n",
      "deviation =  327.4656915\n"
     ]
    },
    {
     "data": {
      "image/png": "[encoded data removed]",
      "text/plain": [
       "<matplotlib.figure.Figure at 0x7f0e3a429cc0>"
      ]
     },
     "metadata": {},
     "output_type": "display_data"
    },
    {
     "name": "stdout",
     "output_type": "stream",
     "text": [
      "Mean Median IQR\n",
      "center    =  1399.66320801\n",
      "deviation =  452.709228516\n"
     ]
    },
    {
     "data": {
      "image/png": "[encoded data removed]",
      "text/plain": [
       "<matplotlib.figure.Figure at 0x7f0e3cb487b8>"
      ]
     },
     "metadata": {},
     "output_type": "display_data"
    }
   ],
   "source": [
    "X = np.loadtxt(\"../datasets/RequestRates.csv\", delimiter=\",\")[:,1]\n",
    "    \n",
    "print(\"Maximal deviation\")\n",
    "plot_mean_dev(X,mean(X),max_dev(X))\n",
    "\n",
    "print(\"Standard Deviation\")\n",
    "plot_mean_dev(X,mean(X),stddev(X))\n",
    "\n",
    "print(\"Mean Absolute Deviation\")\n",
    "plot_mean_dev(X,mean(X),mad(X))\n",
    "\n",
    "print(\"Mean Median IQR\")\n",
    "plot_mean_dev(X,median(X),IQR(X)/2)"
   ]
  },
  {
   "cell_type": "code",
   "execution_count": 6,
   "metadata": {
    "slideshow": {
     "slide_type": "slide"
    }
   },
   "outputs": [
    {
     "name": "stdout",
     "output_type": "stream",
     "text": [
      "Maximal deviation\n",
      "center    =  47.951199999999986\n",
      "deviation =  1175.0488\n"
     ]
    },
    {
     "data": {
      "image/png": "[encoded data removed]",
      "text/plain": [
       "<matplotlib.figure.Figure at 0x7fd18c1b2a90>"
      ]
     },
     "metadata": {},
     "output_type": "display_data"
    },
    {
     "name": "stdout",
     "output_type": "stream",
     "text": [
      "Standard Deviation\n",
      "center    =  47.951199999999986\n",
      "deviation =  92.46185126072268\n"
     ]
    },
    {
     "data": {
      "image/png": "[encoded data removed]",
      "text/plain": [
       "<matplotlib.figure.Figure at 0x7fd154c55c88>"
      ]
     },
     "metadata": {},
     "output_type": "display_data"
    },
    {
     "name": "stdout",
     "output_type": "stream",
     "text": [
      "Mean Absolute Deviation\n",
      "center    =  47.951199999999986\n",
      "deviation =  34.9059744\n"
     ]
    },
    {
     "data": {
      "image/png": "[encoded data removed]",
      "text/plain": [
       "<matplotlib.figure.Figure at 0x7fd1550e7d30>"
      ]
     },
     "metadata": {},
     "output_type": "display_data"
    },
    {
     "name": "stdout",
     "output_type": "stream",
     "text": [
      "Mean Median IQR\n",
      "center    =  28.2\n",
      "deviation =  9.5\n"
     ]
    },
    {
     "data": {
      "image/png": "[encoded data removed]",
      "text/plain": [
       "<matplotlib.figure.Figure at 0x7fd1551c0358>"
      ]
     },
     "metadata": {},
     "output_type": "display_data"
    }
   ],
   "source": [
    "print(\"Maximal deviation\")\n",
    "plot_mean_dev(Y,mean(Y),max_dev(Y))\n",
    "\n",
    "print(\"Standard Deviation\")\n",
    "plot_mean_dev(Y,mean(Y),stddev(Y))\n",
    "\n",
    "print(\"Mean Absolute Deviation\")\n",
    "plot_mean_dev(Y,mean(Y),mad(Y))\n",
    "\n",
    "print(\"Mean Median IQR\")\n",
    "plot_mean_dev(Y,median(Y),IQR(Y)/2)"
   ]
  },
  {
   "cell_type": "markdown",
   "metadata": {
    "slideshow": {
     "slide_type": "slide"
    }
   },
   "source": [
    "## Caution with Standard Deviation\n",
    "\n",
    "- Everybody Learns about standard deviation in school\n",
    "- Beautiful mathematical properties!\n",
    "- Everybody knows \n",
    "  - \"68% of data falls within 1 std-dev of the mean\"\n",
    "  - \"95% falls within 2 std-dev of the mean\"\n",
    "  - \"99.7\" falls within 3 std-dev of the mean\"\n",
    "* \"Problem is: this is utter nonsense\". Only true for normally distributed data.\n",
    "\n",
    "* Not good for measuring outliers!\n",
    "\n",
    "\n",
    "_Source:_ Janert - Data Analysis with Open Source Tools"
   ]
  },
  {
   "cell_type": "markdown",
   "metadata": {
    "slideshow": {
     "slide_type": "slide"
    }
   },
   "source": [
    "# Tukey's outlier Definition\n",
    "\n",
    "A k-outlier is a data point X which is either\n",
    "\n",
    "* larger than `P(75) + k * IQR(X)` or\n",
    "* smaller than `P(25) - k * IQR(X)`.\n",
    "\n",
    "An outlier (without k) is an 1.5-outlier."
   ]
  },
  {
   "cell_type": "code",
   "execution_count": 6,
   "metadata": {
    "slideshow": {
     "slide_type": "slide"
    }
   },
   "outputs": [],
   "source": [
    "def outliers(X, k=1.5):\n",
    "    iqr = IQR(X)\n",
    "    lower_bound = percentile(25,X) - k * iqr\n",
    "    upper_bound = percentile(75,X) + k * iqr\n",
    "    out = []\n",
    "    for x in X:\n",
    "        if x < lower_bound: out.append(x)\n",
    "        if x > upper_bound: out.append(x)\n",
    "    return out"
   ]
  },
  {
   "cell_type": "code",
   "execution_count": 7,
   "metadata": {
    "slideshow": {
     "slide_type": "skip"
    }
   },
   "outputs": [],
   "source": [
    "def outlier_plot(X):\n",
    "    plt.figure(figsize=(14,2))\n",
    "    sns.rugplot(X, color=\"green\", height=0.5)\n",
    "    a,b = percentile(25,X), percentile(75,X)\n",
    "    O = outliers(X)\n",
    "    print(\"IQR:\", b-a)\n",
    "    print(\"Outlier count:\", len(O))\n",
    "    mark_range(a,b)\n",
    "    for o in O:\n",
    "        plt.plot([o,o],[0.7,0.8],'b--')\n",
    "    plt.ylim([0,1])"
   ]
  },
  {
   "cell_type": "code",
   "execution_count": 8,
   "metadata": {
    "scrolled": true,
    "slideshow": {
     "slide_type": "slide"
    }
   },
   "outputs": [
    {
     "name": "stdout",
     "output_type": "stream",
     "text": [
      "IQR: 1.4018401711563695\n",
      "Outlier count: 0\n"
     ]
    },
    {
     "data": {
      "image/png": "[encoded data removed]",
      "text/plain": [
       "<matplotlib.figure.Figure at 0x7f0e740bfd30>"
      ]
     },
     "metadata": {},
     "output_type": "display_data"
    }
   ],
   "source": [
    "# Normal Data\n",
    "outlier_plot(Z)"
   ]
  },
  {
   "cell_type": "code",
   "execution_count": 9,
   "metadata": {
    "scrolled": false,
    "slideshow": {
     "slide_type": "slide"
    }
   },
   "outputs": [
    {
     "name": "stdout",
     "output_type": "stream",
     "text": [
      "IQR: 725.891693115\n",
      "Outlier count: 0\n"
     ]
    },
    {
     "data": {
      "image/png": "[encoded data removed]",
      "text/plain": [
       "<matplotlib.figure.Figure at 0x7f0e3a63f048>"
      ]
     },
     "metadata": {},
     "output_type": "display_data"
    }
   ],
   "source": [
    "# Web request Rates\n",
    "outlier_plot(X)"
   ]
  },
  {
   "cell_type": "code",
   "execution_count": 11,
   "metadata": {
    "scrolled": true,
    "slideshow": {
     "slide_type": "slide"
    }
   },
   "outputs": [
    {
     "name": "stdout",
     "output_type": "stream",
     "text": [
      "IQR: 9.0\n",
      "Outlier count: 43\n"
     ]
    },
    {
     "data": {
      "image/png": "[encoded data removed]",
      "text/plain": [
       "<matplotlib.figure.Figure at 0x7f2b255b8080>"
      ]
     },
     "metadata": {},
     "output_type": "display_data"
    }
   ],
   "source": [
    "# Request Latencies\n",
    "outlier_plot(Y)"
   ]
  },
  {
   "cell_type": "markdown",
   "metadata": {
    "slideshow": {
     "slide_type": "slide"
    }
   },
   "source": [
    "# Tukey's Boxplots\n",
    "\n",
    "Show:\n",
    "\n",
    "* Median\n",
    "* Box around 0.25 and 0.75 Quantiles\n",
    "* \"whiskers\" from min to max\n",
    "* points for outliers\n",
    "\n",
    "Allows visual clues:\n",
    "\n",
    "* Where is the data concentracted?\n",
    "* How far is it spread?\n",
    "* How skew is the data?"
   ]
  },
  {
   "cell_type": "code",
   "execution_count": 12,
   "metadata": {
    "slideshow": {
     "slide_type": "slide"
    }
   },
   "outputs": [
    {
     "data": {
      "image/png": "[encoded data removed]",
      "text/plain": [
       "<matplotlib.figure.Figure at 0x7f2b5c574cf8>"
      ]
     },
     "metadata": {},
     "output_type": "display_data"
    }
   ],
   "source": [
    "# Normal Data\n",
    "plt.figure(figsize=(15,1))\n",
    "sns.boxplot(x=Z)\n",
    "sns.rugplot(Z)\n",
    "plt.show()"
   ]
  },
  {
   "cell_type": "code",
   "execution_count": 10,
   "metadata": {
    "slideshow": {
     "slide_type": "slide"
    }
   },
   "outputs": [
    {
     "data": {
      "image/png": "[encoded data removed]",
      "text/plain": [
       "<matplotlib.figure.Figure at 0x7f0e3d046da0>"
      ]
     },
     "metadata": {},
     "output_type": "display_data"
    }
   ],
   "source": [
    "# Tukey Boxplots show outliers as 'points' outside the whiskers\n",
    "\n",
    "# Web-request dataset\n",
    "plt.figure(figsize=(15,1))\n",
    "sns.boxplot(x=X)\n",
    "sns.rugplot(X)\n",
    "plt.show()"
   ]
  },
  {
   "cell_type": "code",
   "execution_count": 11,
   "metadata": {
    "slideshow": {
     "slide_type": "slide"
    }
   },
   "outputs": [
    {
     "data": {
      "image/png": "[encoded data removed]",
      "text/plain": [
       "<matplotlib.figure.Figure at 0x7f0e3a317668>"
      ]
     },
     "metadata": {},
     "output_type": "display_data"
    }
   ],
   "source": [
    "# Latency Dataset\n",
    "plt.figure(figsize=(15,1))\n",
    "sns.boxplot(x=Y)\n",
    "sns.rugplot(Y)\n",
    "plt.show()"
   ]
  },
  {
   "cell_type": "markdown",
   "metadata": {
    "slideshow": {
     "slide_type": "slide"
    }
   },
   "source": [
    "Demo:\n",
    "- Global duration percentiles with Overlays: [demo](https://demo-hh2.circonus.com/trending/graphs/view/9e85beb8-4658-49f5-95e8-b6cf70ad5ca9#set-YVlpVTrN)\n",
    "- Latency percentiles in CAQL [demo](https://demo-hh2.circonus.com/trending/graphs/edit/da4ac22a-55b9-6145-abbc-a0371919e876)"
   ]
  },
  {
   "cell_type": "markdown",
   "metadata": {
    "slideshow": {
     "slide_type": "slide"
    }
   },
   "source": [
    "## Takeaway\n",
    "\n",
    "* Don't use the standard-deviation if you can avoid it\n",
    "* If you need a deviation measure use MAD or IQR:\n",
    "  - (+) Simple to calculate\n",
    "  - (+) Simple to interpret\n",
    "  - (-) Not mergable"
   ]
  }
 ],
 "metadata": {
  "kernelspec": {
   "display_name": "Python 3",
   "language": "python",
   "name": "python3"
  },
  "language_info": {
   "codemirror_mode": {
    "name": "ipython",
    "version": 3
   },
   "file_extension": ".py",
   "mimetype": "text/x-python",
   "name": "python",
   "nbconvert_exporter": "python",
   "pygments_lexer": "ipython3",
   "version": "3.6.4"
  }
 },
 "nbformat": 4,
 "nbformat_minor": 2
}
