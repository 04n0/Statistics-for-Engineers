{
 "cells": [
  {
   "cell_type": "code",
   "execution_count": 10,
   "metadata": {},
   "outputs": [
    {
     "data": {
      "text/html": [
       "\n",
       "<style>\n",
       ".custom {\n",
       "    font-size: 18pt;\n",
       "    font-family: monospace;\n",
       "}\n",
       "</style>\n"
      ],
      "text/plain": [
       "<IPython.core.display.HTML object>"
      ]
     },
     "metadata": {},
     "output_type": "display_data"
    }
   ],
   "source": [
    "#! bash install.sh\n",
    "%run prelude.py"
   ]
  },
  {
   "cell_type": "markdown",
   "metadata": {},
   "source": [
    "# Aggregating Percentiles -- A case study"
   ]
  },
  {
   "cell_type": "markdown",
   "metadata": {},
   "source": [
    "Calculating accurate percentiles over aggergated datasets is necessary for basic analysis of API performance:\n",
    "\n",
    "- Aggregation across time\n",
    "- Aggregation across different nodes\n",
    "- Aggregation across different endpoints"
   ]
  },
  {
   "cell_type": "markdown",
   "metadata": {},
   "source": [
    "# So I said \"Percentiles can't be aggregated\" ...\n",
    "\n",
    "* Blog: www.circonus.com/problem-math/\n",
    "\n",
    "* Twitter: https://twitter.com/heinrichhartman/status/748562001392111617\n",
    "\n",
    "* Reddit: https://www.reddit.com/r/devops/comments/941n2k/tsdbs_at_scale_part_one/e3po8d3/\n",
    "\n",
    "* Gil Tene - How not to measure latency -- https://www.youtube.com/watch?v=lJ8ydIuPFeU&feature=youtu.be&t=9m15s\"."
   ]
  },
  {
   "cell_type": "markdown",
   "metadata": {},
   "source": [
    "# Let's have a closer look ..."
   ]
  },
  {
   "cell_type": "code",
   "execution_count": 45,
   "metadata": {},
   "outputs": [],
   "source": [
    "# API Latency Dataset\n",
    "FILENAME=\"../datasets/api_latencies_24x1h.tsv\"\n",
    "XAL = defaultdict(list)\n",
    "with open(FILENAME) as fh:\n",
    "    for line in fh:\n",
    "        # line = \"3 232.123321\" -- hour latency\n",
    "        a, b = line.split(\"\\t\")\n",
    "        XAL[int(a)].append(float(b))"
   ]
  },
  {
   "cell_type": "code",
   "execution_count": 43,
   "metadata": {},
   "outputs": [],
   "source": [
    "P = [0, 50, 90, 99, 99.9, 100]"
   ]
  },
  {
   "cell_type": "code",
   "execution_count": 44,
   "metadata": {},
   "outputs": [
    {
     "data": {
      "text/html": [
       "<h3>API Latencies over time</h3>"
      ],
      "text/plain": [
       "<IPython.core.display.HTML object>"
      ]
     },
     "metadata": {},
     "output_type": "display_data"
    },
    {
     "name": "stdout",
     "output_type": "stream",
     "text": [
      "  hour    count    p0    p50    p90     p99    p99.9     p100\n",
      "------  -------  ----  -----  -----  ------  -------  -------\n",
      "     0    35212   0.3   12.0   19.8   113.0    448.0   1406.1\n",
      "     1    46133   0.4   16.6   23.4   115.0    604.4   1548.5\n",
      "     2    35794   0.4   20.6   27.5   117.1    925.4   3001.0\n",
      "     3    42859   0.3   20.8   35.1   424.4   1652.6   2776.4\n",
      "     4    18253   0.4   23.2   42.7   497.0   1232.0   2195.7\n",
      "     5      599   0.4   24.3   70.7  2679.9   3215.7   3298.5\n",
      "     6      280   0.4   25.5   95.4   153.6    182.3    191.1\n",
      "     7       68   7.2   26.9   87.0   111.0    124.0    125.5\n",
      "     8       99   0.4   24.9   70.7   119.4    135.5    137.3\n",
      "     9       80   7.7   33.7  165.8  1648.3   4747.1   5091.4\n",
      "    10       25   7.6   25.4   59.0    81.4     83.0     83.2\n",
      "    11       49   0.6   26.3   77.3    93.4     95.6     95.9\n",
      "    12      105   7.5   25.2   75.8   115.0    235.3    249.3\n",
      "    13      112   5.1   25.2   76.1   115.4    117.0    117.1\n",
      "    14       93   0.5   25.9  102.4   271.7    277.0    277.6\n",
      "    15       80   0.6   27.3  104.3   145.8    147.1    147.3\n",
      "    16      376   3.0    8.1   32.7   167.1    220.8    225.3\n",
      "    17    24570   0.4   10.9   17.0   139.7    867.6   1855.1\n",
      "    18    89914   0.4   14.5   25.3   571.6   1851.7   4312.3\n",
      "    19    96013   0.3   20.4   33.3   805.7   1681.1   3285.1\n",
      "    20   108017   0.3   21.6   37.5  1205.3   3759.1   9555.5\n",
      "    21    98110   0.4   25.4   86.7  1973.7   4211.3   9081.4\n",
      "    22   116548   0.3   20.2   30.3   650.7   1864.8   3895.9\n",
      "    23    98134   0.3   29.7   51.2  4950.7  10561.1  10990.4\n"
     ]
    }
   ],
   "source": [
    "H(\"API Latencies over time\")\n",
    "\n",
    "PH = [ \"p{}\".format(p) for p in P]\n",
    "print(tabulate([ [h, len(X)] + [ np.percentile(X,p) for p in P ] for h, X in XAL.items() ], headers=[\"hour\", \"count\"] +  PH, floatfmt=\".1f\" ))"
   ]
  },
  {
   "cell_type": "markdown",
   "metadata": {},
   "source": [
    "## (0) Aggregating the Dataset itself"
   ]
  },
  {
   "cell_type": "code",
   "execution_count": 39,
   "metadata": {},
   "outputs": [
    {
     "name": "stdout",
     "output_type": "stream",
     "text": [
      "             p0      p50      p90      p99    p99.9     p100\n",
      "-----  --------  -------  -------  -------  -------  -------\n",
      "total  0.293543  20.9436  35.7746  1114.71  5991.83  10990.4\n"
     ]
    }
   ],
   "source": [
    "XT = []\n",
    "for X in XAL.values():\n",
    "    for x in X:\n",
    "        XT.append(x)\n",
    "        \n",
    "TOTP = [ np.percentile(XT, p) for p in P ]\n",
    "\n",
    "TAB([[\"total\"] + TOTP], headers=[\"\"] + PH)"
   ]
  },
  {
   "cell_type": "markdown",
   "metadata": {},
   "source": [
    "## (1) Averaging Percentiles"
   ]
  },
  {
   "cell_type": "code",
   "execution_count": 40,
   "metadata": {},
   "outputs": [
    {
     "name": "stdout",
     "output_type": "stream",
     "text": [
      "    p    p-total    p-avg     err    err-%\n",
      "-----  ---------  -------  ------  -------\n",
      "  0.0        0.3      1.9     1.6    540.9\n",
      " 50.0       20.9     22.3     1.3      6.4\n",
      " 90.0       35.8     60.3    24.5     68.5\n",
      " 99.0     1114.7    719.4   395.3     35.5\n",
      " 99.9     5991.8   1635.0  4356.8     72.7\n",
      "100.0    10990.4   2664.3  8326.1     75.8\n"
     ]
    }
   ],
   "source": [
    "AVGP = [ np.mean([  np.percentile(X,p) for X in XAL.values() ]) for p in P  ]\n",
    "HEAD=\" p     p-total  p-avg    err                   err-%\".split()\n",
    "TAB([[ P[i], TOTP[i], AVGP[i], abs(TOTP[i]-AVGP[i]), abs(TOTP[i]-AVGP[i])/TOTP[i] * 100 ] for i in range(len(P)) ], floatfmt=\".1f\", headers=HEAD)"
   ]
  },
  {
   "cell_type": "markdown",
   "metadata": {},
   "source": [
    "### Discussion\n",
    "\n",
    "- Errors of >50% are common"
   ]
  },
  {
   "cell_type": "markdown",
   "metadata": {},
   "source": [
    "## (2) Weighted Averaged Percentiles\n",
    "\n",
    "Idea: Let's take into account the number of samples collected each hour"
   ]
  },
  {
   "cell_type": "code",
   "execution_count": 41,
   "metadata": {},
   "outputs": [
    {
     "name": "stdout",
     "output_type": "stream",
     "text": [
      "    p    p-total    p-wavg     err    err-%\n",
      "-----  ---------  --------  ------  -------\n",
      "  0.0        0.3       0.3     0.0     16.4\n",
      " 50.0       20.9      20.8     0.1      0.5\n",
      " 90.0       35.8      39.7     3.9     10.9\n",
      " 99.0     1114.7    1306.6   191.9     17.2\n",
      " 99.9     5991.8    3197.5  2794.4     46.6\n",
      "100.0    10990.4    5661.6  5328.8     48.5\n"
     ]
    }
   ],
   "source": [
    "WAVGP = [ np.sum([ len(X) * np.percentile(X,p) for X in XAL.values() ]) / np.sum( [ len(X) for X in XAL.values() ]) for p in P  ]\n",
    "# TAB([ [\"w-avg-percentiles\"] + WAVGP ], headers=[\"\"] + P)\n",
    "HEAD=\"p      p-total  p-wavg   err                   err-%\".split()\n",
    "TAB([[ P[i], TOTP[i], WAVGP[i], abs(TOTP[i]-WAVGP[i]), abs(TOTP[i]-WAVGP[i])/TOTP[i] * 100 ] for i in range(len(P)) ], floatfmt=\".1f\", headers=HEAD)"
   ]
  },
  {
   "cell_type": "markdown",
   "metadata": {},
   "source": [
    "### Discussion\n",
    "\n",
    "- Errors are kept <50%. Still not very useful."
   ]
  },
  {
   "cell_type": "markdown",
   "metadata": {},
   "source": [
    "# Discussion\n",
    "\n",
    "* Averaging Percentiles runs into essentially unbounded errors\n",
    "\n",
    "* Weighting by count(), does somewhat help, but does not fix the problem\n",
    "\n",
    "* Contrast this to the situation with the count-below metrics, which are perfectly mergable and carry similar information"
   ]
  },
  {
   "cell_type": "markdown",
   "metadata": {},
   "source": [
    "# Mergable Percentile Summaries\n",
    "\n",
    "There are multiple methods available to summarize data in a mergable way, that allows for percentile calculations.\n",
    "\n",
    "1. Circllhists -- Schlossnagle @ Circonus 2013\n",
    "\n",
    "2. HDR Histograms -- Tene @ Azul Systems, 2015\n",
    "\n",
    "3. t-digest -- Dunning @ MapR, Erl @ Dynatrace\n",
    "\n",
    "...\n",
    "\n",
    "4. DD-sketch -- ? @ DataDog 2019\n"
   ]
  },
  {
   "cell_type": "code",
   "execution_count": null,
   "metadata": {},
   "outputs": [],
   "source": []
  }
 ],
 "metadata": {
  "kernelspec": {
   "display_name": "Python 3",
   "language": "python",
   "name": "python3"
  },
  "language_info": {
   "codemirror_mode": {
    "name": "ipython",
    "version": 3
   },
   "file_extension": ".py",
   "mimetype": "text/x-python",
   "name": "python",
   "nbconvert_exporter": "python",
   "pygments_lexer": "ipython3",
   "version": "3.6.4"
  }
 },
 "nbformat": 4,
 "nbformat_minor": 2
}
