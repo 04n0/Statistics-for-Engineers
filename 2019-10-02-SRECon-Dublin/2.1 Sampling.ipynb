{
 "cells": [
  {
   "cell_type": "markdown",
   "metadata": {},
   "source": [
    "# Sampling Data -- A case study"
   ]
  },
  {
   "cell_type": "code",
   "execution_count": 3,
   "metadata": {},
   "outputs": [
    {
     "data": {
      "text/html": [
       "\n",
       "<style>\n",
       ".custom {\n",
       "    font-size: 18pt;\n",
       "    font-family: monospace;\n",
       "}\n",
       "</style>\n"
      ],
      "text/plain": [
       "<IPython.core.display.HTML object>"
      ]
     },
     "metadata": {},
     "output_type": "display_data"
    }
   ],
   "source": [
    "# import matplotlib as mpl\n",
    "%run prelude.py\n",
    "mpl.rcParams['figure.figsize'] = (20,5)\n",
    "XWL = np.genfromtxt(\"../datasets/WebLatency.csv\", delimiter=\",\")[:,2] - 85"
   ]
  },
  {
   "cell_type": "code",
   "execution_count": 20,
   "metadata": {},
   "outputs": [
    {
     "data": {
      "text/html": [
       "<h3>Dataset: Request Latencies</h3>"
      ],
      "text/plain": [
       "<IPython.core.display.HTML object>"
      ]
     },
     "metadata": {},
     "output_type": "display_data"
    },
    {
     "name": "stdout",
     "output_type": "stream",
     "text": [
      "10496\n"
     ]
    },
    {
     "data": {
      "image/png": "[encoded data removed]",
      "text/plain": [
       "<matplotlib.figure.Figure at 0x7f910bd0ca20>"
      ]
     },
     "metadata": {},
     "output_type": "display_data"
    },
    {
     "data": {
      "text/html": [
       "<p class=\"custom\">10496 samples</p>"
      ],
      "text/plain": [
       "<IPython.core.display.HTML object>"
      ]
     },
     "metadata": {},
     "output_type": "display_data"
    }
   ],
   "source": [
    "H(\"Dataset: Request Latencies\")\n",
    "Y = XWL\n",
    "print(len(Y))\n",
    "plt.hist(Y,range=(0,500),bins=300);\n",
    "plt.show()\n",
    "P(len(Y), \"samples\")"
   ]
  },
  {
   "cell_type": "markdown",
   "metadata": {},
   "source": [
    "# Taking a Subsample"
   ]
  },
  {
   "cell_type": "code",
   "execution_count": 21,
   "metadata": {},
   "outputs": [],
   "source": [
    "p = 0.01\n",
    "def F(y): # filter function\n",
    "    return np.random.random() < p"
   ]
  },
  {
   "cell_type": "code",
   "execution_count": 22,
   "metadata": {},
   "outputs": [
    {
     "data": {
      "text/html": [
       "<h3>Subsample data</h3>"
      ],
      "text/plain": [
       "<IPython.core.display.HTML object>"
      ]
     },
     "metadata": {},
     "output_type": "display_data"
    },
    {
     "data": {
      "image/png": "[encoded data removed]",
      "text/plain": [
       "<matplotlib.figure.Figure at 0x7f910bd0c128>"
      ]
     },
     "metadata": {},
     "output_type": "display_data"
    },
    {
     "data": {
      "text/html": [
       "<p class=\"custom\">105 samples</p>"
      ],
      "text/plain": [
       "<IPython.core.display.HTML object>"
      ]
     },
     "metadata": {},
     "output_type": "display_data"
    }
   ],
   "source": [
    "H(\"Subsample data\")\n",
    "SY = list(filter(F, Y))\n",
    "plt.hist(SY,range=(0,500),bins=300)\n",
    "plt.show()\n",
    "P(len(SY),\"samples\")"
   ]
  },
  {
   "cell_type": "code",
   "execution_count": 23,
   "metadata": {},
   "outputs": [
    {
     "data": {
      "text/html": [
       "<table>\n",
       "<thead>\n",
       "<tr><th>     </th><th style=\"text-align: right;\">  original data</th><th style=\"text-align: right;\">  sampled data</th><th style=\"text-align: right;\">  relative error %</th></tr>\n",
       "</thead>\n",
       "<tbody>\n",
       "<tr><td>mean </td><td style=\"text-align: right;\">           32.9</td><td style=\"text-align: right;\">          31.2</td><td style=\"text-align: right;\">               5.4</td></tr>\n",
       "<tr><td>p50  </td><td style=\"text-align: right;\">           27.2</td><td style=\"text-align: right;\">          27.8</td><td style=\"text-align: right;\">               2.2</td></tr>\n",
       "<tr><td>p90  </td><td style=\"text-align: right;\">           35.2</td><td style=\"text-align: right;\">          35.4</td><td style=\"text-align: right;\">               0.6</td></tr>\n",
       "<tr><td>p99  </td><td style=\"text-align: right;\">          222.9</td><td style=\"text-align: right;\">          92.0</td><td style=\"text-align: right;\">              58.7</td></tr>\n",
       "<tr><td>p99.9</td><td style=\"text-align: right;\">          834.1</td><td style=\"text-align: right;\">         210.5</td><td style=\"text-align: right;\">              74.8</td></tr>\n",
       "<tr><td>max  </td><td style=\"text-align: right;\">         1453.0</td><td style=\"text-align: right;\">         224.2</td><td style=\"text-align: right;\">              84.6</td></tr>\n",
       "</tbody>\n",
       "</table>"
      ],
      "text/plain": [
       "<IPython.core.display.HTML object>"
      ]
     },
     "metadata": {},
     "output_type": "display_data"
    }
   ],
   "source": [
    "# Statistics Calculated on SubSampled Data\n",
    "def row(f):\n",
    "    x = f(Y)\n",
    "    y = f(SY)\n",
    "    rerr = abs(x-y)/x*100\n",
    "    return f(Y), f(SY), rerr\n",
    "\n",
    "display(HTML(tabulate(\n",
    "    [ \n",
    "        [ 'mean',  *row(lambda Y: np.mean(Y)) ],\n",
    "        [ 'p50',   *row(lambda Y: np.percentile(Y, 50)) ],\n",
    "        [ 'p90',   *row(lambda Y: np.percentile(Y, 90)) ],\n",
    "        [ 'p99',   *row(lambda Y: np.percentile(Y, 99)) ],\n",
    "        [ 'p99.9', *row(lambda Y: np.percentile(Y, 99.9)) ],\n",
    "        [ 'max', *row(lambda Y: np.percentile(Y, 100)) ],\n",
    "    ],\n",
    "    headers = \",original data,sampled data,relative error %\".split(\",\"),\n",
    "    floatfmt=\".1f\",\n",
    "    tablefmt=\"html\"\n",
    ")))"
   ]
  },
  {
   "cell_type": "markdown",
   "metadata": {},
   "source": [
    "TODO: Multiple runs, to estimate variance in relative error"
   ]
  },
  {
   "cell_type": "markdown",
   "metadata": {},
   "source": [
    "# Discussion\n",
    "- Subsampling does capture typical values very well -> mean, p50 are usually pretty accuragte\n",
    "\n",
    "- Extremal values are not captured well. E.g. max is systemtaically underestimated from a sample\n",
    "\n",
    "- High percentiles (0.99,0.999) can have a very large relative error"
   ]
  },
  {
   "cell_type": "markdown",
   "metadata": {},
   "source": [
    "# The Bootstrap Method\n",
    "\n",
    "..."
   ]
  },
  {
   "cell_type": "markdown",
   "metadata": {},
   "source": [
    "# Statified Sampling\n",
    "\n",
    "## Idea\n",
    "- Use different probabilities for different ranges of the distribution\n",
    "- Weight choosen samples by inverse probability to make-up for oversampling\n",
    "\n",
    "## Discussion\n",
    "- Can be used to reduce the high percentile errors\n",
    "- Involves manual choices\n",
    "- No silver bullet"
   ]
  }
 ],
 "metadata": {
  "kernelspec": {
   "display_name": "Python 3",
   "language": "python",
   "name": "python3"
  },
  "language_info": {
   "codemirror_mode": {
    "name": "ipython",
    "version": 3
   },
   "file_extension": ".py",
   "mimetype": "text/x-python",
   "name": "python",
   "nbconvert_exporter": "python",
   "pygments_lexer": "ipython3",
   "version": "3.6.4"
  }
 },
 "nbformat": 4,
 "nbformat_minor": 2
}
