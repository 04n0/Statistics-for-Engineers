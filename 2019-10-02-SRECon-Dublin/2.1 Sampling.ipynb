{
 "cells": [
  {
   "cell_type": "markdown",
   "metadata": {},
   "source": [
    "# Sampling Data -- A case study"
   ]
  },
  {
   "cell_type": "code",
   "execution_count": 251,
   "metadata": {},
   "outputs": [
    {
     "data": {
      "text/html": [
       "\n",
       "<style>\n",
       ".custom {\n",
       "    font-size: 18pt;\n",
       "    font-family: monospace;\n",
       "}\n",
       "</style>\n"
      ],
      "text/plain": [
       "<IPython.core.display.HTML object>"
      ]
     },
     "metadata": {},
     "output_type": "display_data"
    },
    {
     "data": {
      "text/plain": [
       "<matplotlib.figure.Figure at 0x7efde9cedb00>"
      ]
     },
     "metadata": {},
     "output_type": "display_data"
    }
   ],
   "source": [
    "# import matplotlib as mpl\n",
    "%run prelude.py\n",
    "XWL = np.genfromtxt(\"../datasets/WebLatency.csv\", delimiter=\",\")[:,2] - 85"
   ]
  },
  {
   "cell_type": "code",
   "execution_count": 252,
   "metadata": {},
   "outputs": [],
   "source": [
    "%matplotlib inline\n",
    "mpl.rcParams['figure.figsize'] = (20,5)"
   ]
  },
  {
   "cell_type": "code",
   "execution_count": 253,
   "metadata": {},
   "outputs": [
    {
     "data": {
      "text/html": [
       "<h3>Dataset: Request Latencies</h3>"
      ],
      "text/plain": [
       "<IPython.core.display.HTML object>"
      ]
     },
     "metadata": {},
     "output_type": "display_data"
    },
    {
     "name": "stdout",
     "output_type": "stream",
     "text": [
      "10496\n"
     ]
    },
    {
     "data": {
      "image/png": "[encoded data removed]",
      "text/plain": [
       "<matplotlib.figure.Figure at 0x7efdea1bfe48>"
      ]
     },
     "metadata": {},
     "output_type": "display_data"
    },
    {
     "data": {
      "text/html": [
       "<p class=\"custom\">10496 samples</p>"
      ],
      "text/plain": [
       "<IPython.core.display.HTML object>"
      ]
     },
     "metadata": {},
     "output_type": "display_data"
    }
   ],
   "source": [
    "H(\"Dataset: Request Latencies\")\n",
    "Y = XWL\n",
    "print(len(Y))\n",
    "plt.hist(Y,range=(0,300),bins=300);\n",
    "plt.show()\n",
    "P(len(Y), \"samples\")"
   ]
  },
  {
   "cell_type": "markdown",
   "metadata": {},
   "source": [
    "# Taking a Subsample"
   ]
  },
  {
   "cell_type": "code",
   "execution_count": 254,
   "metadata": {},
   "outputs": [],
   "source": [
    "p = 0.05\n",
    "def F(y): # filter function\n",
    "    return np.random.random() < p"
   ]
  },
  {
   "cell_type": "code",
   "execution_count": 290,
   "metadata": {},
   "outputs": [
    {
     "data": {
      "text/html": [
       "<h3>Subsample data</h3>"
      ],
      "text/plain": [
       "<IPython.core.display.HTML object>"
      ]
     },
     "metadata": {},
     "output_type": "display_data"
    },
    {
     "data": {
      "image/png": "[encoded data removed]",
      "text/plain": [
       "<matplotlib.figure.Figure at 0x7efdea8229e8>"
      ]
     },
     "metadata": {},
     "output_type": "display_data"
    },
    {
     "data": {
      "text/html": [
       "<p class=\"custom\">538 samples</p>"
      ],
      "text/plain": [
       "<IPython.core.display.HTML object>"
      ]
     },
     "metadata": {},
     "output_type": "display_data"
    }
   ],
   "source": [
    "H(\"Subsample data\")\n",
    "\n",
    "SY = list(filter(F, Y))\n",
    "\n",
    "plt.figure(figsize=(20,10))\n",
    "plt.hist(Y, range=(0,300),bins=300, alpha=0.2)\n",
    "plt.hist(SY,range=(0,300),bins=300)\n",
    "plt.show()\n",
    "P(len(SY),\"samples\")"
   ]
  },
  {
   "cell_type": "code",
   "execution_count": 295,
   "metadata": {},
   "outputs": [
    {
     "name": "stdout",
     "output_type": "stream",
     "text": [
      "         original data    sampled data    relative error %\n",
      "-----  ---------------  --------------  ------------------\n",
      "mean              32.9            30.5                 7.4\n",
      "p50               27.2            27.2                 0.0\n",
      "p90               35.2            35.2                 0.0\n",
      "p99              222.9           123.1                44.8\n",
      "p99.9            834.1           277.6                66.7\n",
      "max             1453.0           280.0                80.7\n"
     ]
    }
   ],
   "source": [
    "# Statistics Calculated on SubSampled Data\n",
    "def row(f):\n",
    "    x = f(Y)\n",
    "    y = f(SY)\n",
    "    rerr = abs(x-y)/x*100\n",
    "    return f(Y), f(SY), rerr\n",
    "\n",
    "print(tabulate(\n",
    "    [ \n",
    "        [ 'mean',   *row(lambda Y: np.mean(Y)) ],\n",
    "        [ 'p50',    *row(lambda Y: np.percentile(Y, 50)) ],\n",
    "        [ 'p90',    *row(lambda Y: np.percentile(Y, 90)) ],\n",
    "        [ 'p99',    *row(lambda Y: np.percentile(Y, 99)) ],\n",
    "        [ 'p99.9',  *row(lambda Y: np.percentile(Y, 99.9)) ],\n",
    "        [ 'max',    *row(lambda Y: np.percentile(Y, 100)) ],\n",
    "    ],\n",
    "    headers = \",original data,sampled data,relative error %\".split(\",\"),\n",
    "    floatfmt=\".1f\"\n",
    "))"
   ]
  },
  {
   "cell_type": "markdown",
   "metadata": {},
   "source": [
    "# Exterme percentiles highly depend on the choice of sample"
   ]
  },
  {
   "cell_type": "code",
   "execution_count": 308,
   "metadata": {},
   "outputs": [
    {
     "name": "stdout",
     "output_type": "stream",
     "text": [
      "  count     mean    spread    stddev      IQR\n",
      "-------  -------  --------  --------  -------\n",
      "     50  171.253    265.06   76.9525  142.956\n"
     ]
    },
    {
     "data": {
      "image/png": "[encoded data removed]",
      "text/plain": [
       "<matplotlib.figure.Figure at 0x7efde92867f0>"
      ]
     },
     "metadata": {},
     "output_type": "display_data"
    }
   ],
   "source": [
    "V = []\n",
    "pct = 99\n",
    "p=0.05\n",
    "RUNS = 50\n",
    "\n",
    "F = lambda x: np.random.random() < p\n",
    "V = [ np.percentile(list(filter(F, Y)), pct) for _ in range(RUNS) ]\n",
    "\n",
    "def summary(V):\n",
    "    print(tabulate([[\n",
    "        len(V), np.mean(V), np.max(V) - np.min(V), np.std(V), stats.iqr(V)\n",
    "    ]], headers=[\"count\", \"mean\", \"spread\", \"stddev\", \"IQR\"]))\n",
    "    plt.figure(figsize=(20,1))\n",
    "    sns.boxplot(V)\n",
    "    sns.rugplot(V,height=.5)\n",
    "    plt.xlim(0)\n",
    "\n",
    "summary(V)\n",
    "plt.axvline(np.percentile(Y, pct), color=\"red\");"
   ]
  },
  {
   "cell_type": "markdown",
   "metadata": {},
   "source": [
    "# Discussion\n",
    "- Subsampling does capture typical values very well -> mean, p50 are usually pretty accuragte\n",
    "\n",
    "- Extremal values are not captured well. E.g. max is systemtaically underestimated from a sample\n",
    "\n",
    "- High percentiles (0.99,0.999) can have a very large relative error"
   ]
  },
  {
   "cell_type": "markdown",
   "metadata": {},
   "source": [
    "# Statified Sampling\n",
    "\n",
    "## Idea\n",
    "- Use different probabilities for different ranges of the distribution\n",
    "- Weight choosen samples by inverse probability to make-up for oversampling"
   ]
  },
  {
   "cell_type": "code",
   "execution_count": 318,
   "metadata": {},
   "outputs": [],
   "source": [
    "# return weight along with sample\n",
    "def wchoose(y, p):\n",
    "    if np.random.uniform() < p: \n",
    "        return (y, 1/p)\n",
    "    else:\n",
    "        return (None, None)\n",
    "    \n",
    "def wsample(Y, F):\n",
    "    SY = []\n",
    "    for y in Y:\n",
    "        y, w = F(y)\n",
    "        if y:\n",
    "            SY.append((y,w))\n",
    "    return sorted(SY, key=lambda p : p[0])\n",
    "        \n",
    "# total weigth\n",
    "def wtotal(SY): \n",
    "    W = 0\n",
    "    for y,w in SY:\n",
    "        W += w\n",
    "    return W\n",
    "\n",
    "# weighted percentile (approximation)\n",
    "def wpercentile(SY, p):\n",
    "    r = wtotal(SY) * p / 100.0\n",
    "    W = 0\n",
    "    for y, w in SY:\n",
    "        W += w\n",
    "        if W >= r:\n",
    "            return y"
   ]
  },
  {
   "cell_type": "code",
   "execution_count": 326,
   "metadata": {},
   "outputs": [
    {
     "name": "stdout",
     "output_type": "stream",
     "text": [
      "  count     mean    spread    stddev    IQR\n",
      "-------  -------  --------  --------  -----\n",
      "     50  190.449     381.2    88.931  143.1\n"
     ]
    },
    {
     "data": {
      "text/plain": [
       "<matplotlib.lines.Line2D at 0x7efde82cb0b8>"
      ]
     },
     "execution_count": 326,
     "metadata": {},
     "output_type": "execute_result"
    },
    {
     "data": {
      "image/png": "[encoded data removed]",
      "text/plain": [
       "<matplotlib.figure.Figure at 0x7efde84fe828>"
      ]
     },
     "metadata": {},
     "output_type": "display_data"
    }
   ],
   "source": [
    "p = 0.05\n",
    "pct = 99\n",
    "RUNS = 50\n",
    "\n",
    "def F(y): return wchoose(y, p)\n",
    "summary([ wpercentile(wsample(Y, F), pct) for _ in range(RUNS) ])\n",
    "plt.axvline(np.percentile(Y, pct), color=\"red\")"
   ]
  },
  {
   "cell_type": "code",
   "execution_count": 330,
   "metadata": {},
   "outputs": [
    {
     "name": "stdout",
     "output_type": "stream",
     "text": [
      "Effective sampling rate: 5.040015243902439 \n",
      "\n",
      "\n",
      "  count    mean    spread    stddev    IQR\n",
      "-------  ------  --------  --------  -----\n",
      "     50  212.03     109.9   24.3535  24.85\n",
      "\n",
      "True percentile: 222.87 \n",
      "\n",
      "\n"
     ]
    },
    {
     "data": {
      "text/plain": [
       "<matplotlib.lines.Line2D at 0x7efde7d7dc18>"
      ]
     },
     "execution_count": 330,
     "metadata": {},
     "output_type": "execute_result"
    },
    {
     "data": {
      "image/png": "[encoded data removed]",
      "text/plain": [
       "<matplotlib.figure.Figure at 0x7efde83908d0>"
      ]
     },
     "metadata": {},
     "output_type": "display_data"
    }
   ],
   "source": [
    "p = 0.05\n",
    "pct = 99\n",
    "RUNS = 50\n",
    "\n",
    "# Stratified filter function\n",
    "def F(y):\n",
    "    if   y < 100:   return wchoose(y, 0.045)\n",
    "    elif y < 500:   return wchoose(y, 0.50)\n",
    "    else:           return wchoose(y, 1)\n",
    "\n",
    "print(\"Effective sampling rate:\", len(wsample(Y, F)) / len(Y) * 100, \"\\n\\n\")\n",
    "\n",
    "summary([ wpercentile( wsample(Y, F), pct) for _ in range(RUNS) ])\n",
    "\n",
    "print(\"\\nTrue percentile:\", np.percentile(Y, pct), \"\\n\\n\")\n",
    "plt.axvline(np.percentile(Y, pct), color=\"red\")"
   ]
  },
  {
   "cell_type": "markdown",
   "metadata": {},
   "source": [
    "## Discussion\n",
    "\n",
    "- Involves manual choices threshod choices\n",
    "\n",
    "- Can be used to bring percentile errors into sensible bounds\n",
    "\n",
    "- Need to control for effective sampling rate"
   ]
  },
  {
   "cell_type": "markdown",
   "metadata": {},
   "source": [
    "# Related: The Bootstrap Method\n",
    "\n",
    "Re-Sampling can be used to estimate errors for arbitrary statistics derived from a dataset.\n",
    "\n",
    "Assume we have a dataset $X$ which is sampled from an unknown probability distribution P.\n",
    "Now, we perform some arbitrary transformation $f$ on the data. We now want to know:\n",
    "\n",
    "> How much does f(X) change, when X is replaced by another sample X' drawn from P?\n",
    "\n",
    "A cheap, but workable, replacement for X' can be produced by simply resampling data from X itself.\n",
    "We get a bootstrap replacement $B(X)$ from X by choosing $len(X)$ uniformly random elements from $X$.\n",
    "\n",
    "- Bootstrap sample always has $\\#X$ elements (no \"subsampling\")\n",
    "\n",
    "- Repititions / omissions are allowed"
   ]
  },
  {
   "cell_type": "code",
   "execution_count": 277,
   "metadata": {},
   "outputs": [],
   "source": [
    "def bootstrap(X):\n",
    "    return np.random.choice(X, size=len(X), replace=True)"
   ]
  },
  {
   "cell_type": "code",
   "execution_count": 278,
   "metadata": {},
   "outputs": [
    {
     "name": "stdout",
     "output_type": "stream",
     "text": [
      "  count     mean    stddev       IQR\n",
      "-------  -------  --------  --------\n",
      "    100  32.9222  0.512929  0.663301\n"
     ]
    },
    {
     "data": {
      "image/png": "[encoded data removed]",
      "text/plain": [
       "<matplotlib.figure.Figure at 0x7efde9fca438>"
      ]
     },
     "metadata": {},
     "output_type": "display_data"
    }
   ],
   "source": [
    "def f(X): return np.mean(X)\n",
    "\n",
    "RUNS = 100\n",
    "summary([ f(bootstrap(XWL)) for _ in range(RUNS) ])\n",
    "plt.xlim(0);"
   ]
  },
  {
   "cell_type": "code",
   "execution_count": 279,
   "metadata": {},
   "outputs": [
    {
     "name": "stdout",
     "output_type": "stream",
     "text": [
      "  count    mean     stddev    IQR\n",
      "-------  ------  ---------  -----\n",
      "    100  27.242  0.0814616      0\n"
     ]
    },
    {
     "data": {
      "image/png": "[encoded data removed]",
      "text/plain": [
       "<matplotlib.figure.Figure at 0x7efdea25a2e8>"
      ]
     },
     "metadata": {},
     "output_type": "display_data"
    }
   ],
   "source": [
    "def f(X): return np.median(X)\n",
    "\n",
    "RUNS = 100\n",
    "summary([ f(bootstrap(XWL)) for _ in range(RUNS) ])\n",
    "plt.xlim(0);"
   ]
  },
  {
   "cell_type": "code",
   "execution_count": 280,
   "metadata": {},
   "outputs": [
    {
     "name": "stdout",
     "output_type": "stream",
     "text": [
      "  count    mean     stddev    IQR\n",
      "-------  ------  ---------  -----\n",
      "    100  35.225  0.0653835      0\n"
     ]
    },
    {
     "data": {
      "image/png": "[encoded data removed]",
      "text/plain": [
       "<matplotlib.figure.Figure at 0x7efdecd899e8>"
      ]
     },
     "metadata": {},
     "output_type": "display_data"
    }
   ],
   "source": [
    "def f(X): return np.percentile(X, 90)\n",
    "\n",
    "RUNS = 100\n",
    "summary([ f(bootstrap(XWL)) for _ in range(RUNS) ])"
   ]
  },
  {
   "cell_type": "code",
   "execution_count": 281,
   "metadata": {},
   "outputs": [
    {
     "name": "stdout",
     "output_type": "stream",
     "text": [
      "  count     mean    stddev      IQR\n",
      "-------  -------  --------  -------\n",
      "    100  49.6912   4.10445  5.50248\n"
     ]
    },
    {
     "data": {
      "image/png": "[encoded data removed]",
      "text/plain": [
       "<matplotlib.figure.Figure at 0x7efdece3f5f8>"
      ]
     },
     "metadata": {},
     "output_type": "display_data"
    }
   ],
   "source": [
    "def f(X): return np.std(X)\n",
    "\n",
    "RUNS = 100\n",
    "summary([ f(bootstrap(XWL)) for _ in range(RUNS) ])\n",
    "plt.xlim(0);"
   ]
  },
  {
   "cell_type": "markdown",
   "metadata": {},
   "source": [
    "## Exercise: Regression Bootstrap\n",
    "\n",
    "Use the bootstrap method to estimate the errors of a regression forecast as follows:\n",
    "\n",
    "1. Import suitable dataset (TBD)\n",
    "   The dataset will have two columns `[ (t, y), ... ]`\n",
    "   \n",
    "2. Adapt the bootstrap() function to work with pairs of data.\n",
    "\n",
    "3. Calculate a regression on the imported dataset, and estimate the value 3days into the future.\n",
    "\n",
    "4. Re-run the calculation with a bootstrap-replacement multiple times\n",
    "\n",
    "5. Summarize the calculated bootstrap values with the provided `summary()` function"
   ]
  }
 ],
 "metadata": {
  "kernelspec": {
   "display_name": "Python 3",
   "language": "python",
   "name": "python3"
  },
  "language_info": {
   "codemirror_mode": {
    "name": "ipython",
    "version": 3
   },
   "file_extension": ".py",
   "mimetype": "text/x-python",
   "name": "python",
   "nbconvert_exporter": "python",
   "pygments_lexer": "ipython3",
   "version": "3.6.4"
  }
 },
 "nbformat": 4,
 "nbformat_minor": 2
}
