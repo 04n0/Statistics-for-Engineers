{
 "cells": [
  {
   "cell_type": "markdown",
   "metadata": {},
   "source": [
    "# Implementing Latency SLOs\n"
   ]
  },
  {
   "cell_type": "markdown",
   "metadata": {},
   "source": [
    "In their excellent SLO-workshop at SRECon2018 ([program](https://www.usenix.org/conference/srecon18europe/presentation/fong-jones-0), [handout](https://drive.google.com/file/d/0B6YMsY__E8UpMDdvbzZtVHh6Vkk4S3JXSlRIRW02bFl6SndJ/view)) , Liz Fong-Jones, Kristina Bennett and Stephen Thorne @ Google gave the following best practice example of a latency SLI/SLOs:\n",
    "\n",
    "\n",
    "\n",
    "## Latency SLI\n",
    "<img src=\"../img/LatencySLI.png\" style=\"width:500px\" />\n",
    "\n",
    "## Latency SLO\n",
    "<img src=\"../img/LatencySLO.png\" style=\"width:500px\" />\n"
   ]
  },
  {
   "cell_type": "markdown",
   "metadata": {},
   "source": [
    "## Latency Metrics\n",
    "\n",
    "These days latency is very typically measured with percentile metrics like these, which were presented for a similar use case:\n",
    "\n",
    "<img src=\"../img/LatencyPcts.png\" style=\"width:500px\" />\n",
    "\n",
    "Given this data, what can we say about the SLO? \n",
    "\n",
    "> What is the p90 computed over the full 28days?\n",
    "\n",
    "It's very tempting to take the average of the p90 metric which is displayed in the graph, which would be just below the 500ms mark."
   ]
  },
  {
   "cell_type": "markdown",
   "metadata": {},
   "source": [
    "It's important to note, and it was correclty pointed out during the session, that this is not generally true.\n",
    "You have no mathematical way determine the 28day-percentile from the series of 1h(?)-percentiles that are shown on the above graphs ([reddit](https://www.reddit.com/r/devops/comments/941n2k/tsdbs_at_scale_part_one/e3po8d3/\n",
    "), [blog](www.circonus.com/problem-math/), [math](https://github.com/HeinrichHartmann/Statistics-for-Engineers/blob/master/2018-08-29-SRECon-Duesseldorf/3%20Data%20Aggregation%20Methods.ipynb)).\n",
    "You need to look at different metrics if you want to implement a latency SLO. \n",
    "In this post we will discuss three different methods how to do this correctly."
   ]
  },
  {
   "cell_type": "markdown",
   "metadata": {},
   "source": [
    "## Another Example\n",
    "\n",
    "In the example above the error of averaging percentile might actually not be that dramatic.\n",
    "The system seems to be very well-behaved with a very high constant load. \n",
    "In this situation like this the average p90/1h is typically close to the total p90/28days.\n",
    "\n",
    "So let's look at another API, which is less constantly loaded system.\n",
    "This API does barely serve any load between 2:00am and 4:00am:\n",
    "\n",
    "<img src=\"../img/SLIp90.png\" />\n",
    "\n",
    "What's the true p90 over the 6h drawn on the graph? Is it above or below 30ms?\n",
    "\n",
    "The average p90/1M (36.28ms) looks far less appealing then before."
   ]
  },
  {
   "cell_type": "markdown",
   "metadata": {},
   "source": [
    "## Computing Latency SLOs\n",
    "\n",
    "So how to do better? There are three ways to go about this:\n",
    "\n",
    "(1) compute the SLO from stored raw data (logs)\n",
    "\n",
    "(2) count the number of bad requests in a separate metric\n",
    "\n",
    "(3) use histograms to store latency distribution."
   ]
  },
  {
   "cell_type": "markdown",
   "metadata": {},
   "source": [
    "## (1) Using Raw/Log data\n",
    "\n",
    "Storing access logs with latency data is clearly possible and gives you accurate results.\n",
    "The drawback with this approach is that you must keep your logs over long time periods (28days) which can be very (very) expensive."
   ]
  },
  {
   "cell_type": "markdown",
   "metadata": {},
   "source": [
    "## (2) Counting bad requests\n",
    "\n",
    "For the first case you will need to instrument you application to count the number of requests that violated your threshold.\n",
    "The resulting metrics will look like this:\n",
    "\n",
    "<img src=\"../img/SLI_count_bad.png\"/>"
   ]
  },
  {
   "cell_type": "code",
   "execution_count": 206,
   "metadata": {},
   "outputs": [
    {
     "name": "stdout",
     "output_type": "stream",
     "text": [
      "Percent good: 96.238\n"
     ]
    }
   ],
   "source": [
    "count_total=60124\n",
    "count_bad=2262\n",
    "count_good=count_total - count_bad\n",
    "percent_good = count_good/count_total * 100\n",
    "print(\"Percent good: {:.3f}\".format(percent_good))"
   ]
  },
  {
   "cell_type": "markdown",
   "metadata": {},
   "source": [
    "Using this metrics we see that 96% of our requests over the past 6h were faster than 30ms. \n",
    "Our SLO stated, that 90% of the requests should be good.\n",
    "So we met that objective.\n",
    "\n",
    "The drawbacks of this appraoch is that you have to chosse the latency threshold upfront.\n",
    "There is no way to calculate the percentage of requests that were faster than say 200ms form the recorded data.\n",
    "\n",
    "If your SLO changes, you will need to change the executable or the service configuation to count requests above a different threshold."
   ]
  },
  {
   "cell_type": "markdown",
   "metadata": {},
   "source": [
    "## (3) Storing Histograms\n",
    "\n",
    "The third practical option you have for computing accurate SLOs is storing your request latency data as histograms.\n",
    "The advantage of storing latency data as histograms are that:\n",
    "\n",
    "(1) Histograms can be freely aggregated across time.\n",
    "\n",
    "(2) Histograms can be used to derive approximations of arbitrary percentiles."
   ]
  },
  {
   "cell_type": "markdown",
   "metadata": {},
   "source": [
    "For (1) to be true, it's critical, that your histograms have common bin choices.\n",
    "It's usually a good idea to mandate the bin boundaries for your whole organization.\n",
    "Otherwise you will not be able to aggregate histograms from different services."
   ]
  },
  {
   "cell_type": "markdown",
   "metadata": {},
   "source": [
    "For (2) it's critical that you have enough bins in the latency range that is relevant for your percentile.\n",
    "Sparsely encoded log linear histograms allow you to cover a large floating point range (E.g. `10^-127..10^128`) with a fixed relative precision (E.g. 5%).\n",
    "In this way you can guarantee 5% accuracy on all percentiles, no matter how the data is distributed.\n",
    "\n",
    "Two popular implementations of log linear histograms are:\n",
    "\n",
    "* HDR-Histogram - https://HDrhistogram.org\n",
    "* Circllhist - https://github.com/circonus-labs/libcircllhist/\n",
    "\n",
    "[Circonus](https://circonus.com) (where I work) comes with native support for Circllhist and will be used for this example."
   ]
  },
  {
   "cell_type": "markdown",
   "metadata": {},
   "source": [
    "Histogram metrics store latency information per minute, and are commonly visualized as heatmap:\n",
    "\n",
    "<img src=\"../img/SLI_hist.png\"/>"
   ]
  },
  {
   "cell_type": "markdown",
   "metadata": {},
   "source": [
    "Merging those 360x1M-histograms shown above into a single 6h-Histogram, we arrive at the following graph:\n",
    "\n",
    "<img src=\"../img/SLI_hist_global.png\"/>"
   ]
  },
  {
   "cell_type": "markdown",
   "metadata": {},
   "source": [
    "This is the true latency distribution over the full SLO reporting period of 6h (in this case)."
   ]
  },
  {
   "cell_type": "markdown",
   "metadata": {},
   "source": [
    "At the time of this writing, there is no nice UI option to overlay percentiles in the above histogram graph.\n",
    "As we will see, you can perform the SLO calculation with CAQL or Python."
   ]
  },
  {
   "cell_type": "markdown",
   "metadata": {},
   "source": [
    "### SLO Reporting via CAQL\n",
    "\n",
    "We can use the CAQL functions `histogram:rolling(6h)` and `histogram:percentile()` to aggregate histograms over the last 6h and compute precentiles over the aggregated histograms. \n",
    "The SLO value we are looking for will be the very last value displayed on the graph."
   ]
  },
  {
   "cell_type": "markdown",
   "metadata": {},
   "source": [
    "<img src=\"../img/SLI_hist_percentiles.png\" />"
   ]
  },
  {
   "cell_type": "markdown",
   "metadata": {},
   "source": [
    "### SLO Reporting using Python"
   ]
  },
  {
   "cell_type": "markdown",
   "metadata": {},
   "source": [
    "Using the Python API the calculation could look as follows:"
   ]
  },
  {
   "cell_type": "code",
   "execution_count": 268,
   "metadata": {},
   "outputs": [],
   "source": [
    "# 0. Setup Python\n",
    "%matplotlib inline\n",
    "from circonusapi import circonusdata\n",
    "from circllhist import Circllhist\n",
    "with open(os.path.expanduser(\"~/host/home/.circonusrc.json\"),\"r\") as fh:\n",
    "    config = json.load(fh)"
   ]
  },
  {
   "cell_type": "code",
   "execution_count": 269,
   "metadata": {},
   "outputs": [],
   "source": [
    "# 1. Fetch Histogram Data\n",
    "t = 1528171020 # exact start time of the graph \n",
    "N = 364        # exact number of minutes on the above graph\n",
    "circ = circonusdata.CirconusData(config[\"demo\"])\n",
    "data = circ.caql('search:metric:histogram(\"api`GET`/getState\")', t, 60, N)"
   ]
  },
  {
   "cell_type": "code",
   "execution_count": 270,
   "metadata": {},
   "outputs": [],
   "source": [
    "# 2. Merge Histograms\n",
    "H=Circllhist()\n",
    "for h in data['output[0]']: H.merge(h)"
   ]
  },
  {
   "cell_type": "code",
   "execution_count": 271,
   "metadata": {},
   "outputs": [
    {
     "data": {
      "text/plain": [
       "(0, 100)"
      ]
     },
     "execution_count": 271,
     "metadata": {},
     "output_type": "execute_result"
    },
    {
     "data": {
      "image/png": "[encoded data removed]",
      "text/plain": [
       "<matplotlib.figure.Figure at 0x7f2f34798f60>"
      ]
     },
     "metadata": {},
     "output_type": "display_data"
    }
   ],
   "source": [
    "# Let's check the fetched data is consistent with Histogram in the UI\n",
    "plt.figure(figsize=(20,5))\n",
    "circllhist_plot(H)\n",
    "plt.xlim(0,100)"
   ]
  },
  {
   "cell_type": "code",
   "execution_count": 275,
   "metadata": {},
   "outputs": [
    {
     "name": "stdout",
     "output_type": "stream",
     "text": [
      "      50-latency percentile over 6h:   13.507ms\n",
      "      90-latency percentile over 6h:   21.065ms\n",
      "      95-latency percentile over 6h:   27.796ms\n",
      "      99-latency percentile over 6h:   56.058ms\n",
      "    99.9-latency percentile over 6h:  918.760ms\n"
     ]
    }
   ],
   "source": [
    "# 3. Calculate Aggregated Precentiles:\n",
    "P = [50, 90, 95, 99, 99.9] # arbitrary percentiles\n",
    "for p in P: print(\"{:>8}-latency percentile over 6h: {:>8.3f}ms\".format(p, H.quantile(p/100)))"
   ]
  },
  {
   "cell_type": "markdown",
   "metadata": {},
   "source": [
    "In particular we see that the true p90 is around 21ms, which is far away from the average p90 of 36.28 we computed earlier."
   ]
  },
  {
   "cell_type": "code",
   "execution_count": 276,
   "metadata": {},
   "outputs": [
    {
     "name": "stdout",
     "output_type": "stream",
     "text": [
      "    18.465 percent faster than 10ms\n",
      "    96.238 percent faster than 30ms\n",
      "    98.859 percent faster than 50ms\n",
      "    99.484 percent faster than 100ms\n",
      "    99.649 percent faster than 200ms\n"
     ]
    }
   ],
   "source": [
    "# 4. Calculate Aggregated Counts:\n",
    "Y = [10, 30, 50, 100, 200] # Arbitrary thresholds\n",
    "for y in Y: print(\"{:>10.3f} percent faster than {}ms\".format(H.count_below(y)/H.count()*100,y))"
   ]
  },
  {
   "cell_type": "markdown",
   "metadata": {},
   "source": [
    "In particular we replicate the \"96.238% below 30ms\" result, that we calculated using the counter metrics before."
   ]
  },
  {
   "cell_type": "markdown",
   "metadata": {},
   "source": [
    "# Conclusion\n",
    "\n",
    "It's imporant to understand that percentile metrics do not allow you to implement accurate Service Level Objectives that are forumlated against hours or weeks.\n",
    "Aggregating 1M-percentiles seems tempting but can produce very wrong results, in particular if your load is not nearly constant.\n",
    "\n",
    "Practical ways to calculate correct SLO percentiles are counters and histograms.\n",
    "Histograms give you additional flexibility to choose the latency threshold after the fact.\n",
    "This comes in particularly handy when you are still evaluating your service and are not ready to commit yourself to a latency threshold just yet."
   ]
  }
 ],
 "metadata": {
  "kernelspec": {
   "display_name": "Python 3",
   "language": "python",
   "name": "python3"
  },
  "language_info": {
   "codemirror_mode": {
    "name": "ipython",
    "version": 3
   },
   "file_extension": ".py",
   "mimetype": "text/x-python",
   "name": "python",
   "nbconvert_exporter": "python",
   "pygments_lexer": "ipython3",
   "version": "3.6.4"
  }
 },
 "nbformat": 4,
 "nbformat_minor": 2
}
