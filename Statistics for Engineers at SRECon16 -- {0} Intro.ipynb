{
 "cells": [
  {
   "cell_type": "markdown",
   "metadata": {
    "slideshow": {
     "slide_type": "slide"
    }
   },
   "source": [
    "# Statistics for Engineers\n",
    "\n",
    "Tutorial at [SRECon16](https://www.usenix.org/conference/srecon16europe) on 2016-07-12\n",
    "\n",
    "by Heinrich Hartmann\n"
   ]
  },
  {
   "cell_type": "markdown",
   "metadata": {
    "slideshow": {
     "slide_type": "slide"
    }
   },
   "source": [
    "<img src=\"img/me.jpg\" width=\"150px\" style=\"float:right\">\n",
    "\n",
    "## Hi, I am Heinrich\n",
    "\n",
    "* Lives in Munich, EU\n",
    "* Refugee from Academia (Math Ph.D.)\n",
    "* Twitter: [@HeinrichHartman](https://twitter.com/HeinrichHartman)\n",
    "* Blog: [HeinrichHartmann.com](http://heinrichhartmann.com)\n",
    "\n",
    "* Analytics Lead at Circonus:  \n",
    "  Monitoring and Analytics Platform\n",
    "\n",
    "<img src=\"img/Circonus_Logo.png\" style=\"margin-right:auto; margin-left:auto\">\n"
   ]
  },
  {
   "cell_type": "markdown",
   "metadata": {
    "slideshow": {
     "slide_type": "slide"
    }
   },
   "source": [
    "# References and Further Reading\n",
    "\n",
    "* [1] Statistics for Engineers @ ACM Queue\n",
    "* [2] Statistics for Engineers Workshop Material @ GitHub\n",
    "* [3] Spike Erosion @ circonus.com\n",
    "* [4] T. Schlossnagle - The Problem with Math @ circonus.com\n",
    "* [5] T. Schlossnagle - Percentages are not People @ circonus.com\n",
    "* [6] W. Vogels - Service Level Agreements  in Amazon’s Dynamo/Sec. 2.2 \n",
    "* [7] G. Schlossnagle - API Performance Monitoring @ Velocity Bejing 2015\n",
    "\n",
    "<img src=\"https://www.dropbox.com/s/6z9oxr8lsw643oh/Screenshot%202016-07-08%2010.25.31.png?dl=1\" style=\"margin-right:auto; margin-left:auto; width:200px\">"
   ]
  },
  {
   "cell_type": "markdown",
   "metadata": {
    "slideshow": {
     "slide_type": "slide"
    }
   },
   "source": [
    "# Learning Goals for SREs\n",
    "\n",
    "1. **Visualizing data** -- variants and pitfalls\n",
    "2. **Monitoring Availability and Uptime** -- is it running?\n",
    "2. **Monitoring Service Levels** -- Are my services performing good enough?\n",
    "3. **Capacity Planning** -- How much ressources will I need tomorrow?\n",
    "\n",
    "Questionaire: Did I miss anything? [Tell me](http://bit.ly/29rQ9Sw)"
   ]
  },
  {
   "cell_type": "markdown",
   "metadata": {
    "slideshow": {
     "slide_type": "slide"
    }
   },
   "source": [
    "# Problems with Classical Statistics\n",
    "\n",
    "This is an introcutory example of the Book used at my statistics class at University:\n",
    "\n",
    "<figure>\n",
    "<img src=\"img/Georgii_Example.png\" class=\"#borderimg\">\n",
    "<figcaption>Example from Georgii - Stochastik</figcaption>\n",
    "</figure>"
   ]
  },
  {
   "cell_type": "markdown",
   "metadata": {
    "slideshow": {
     "slide_type": "slide"
    }
   },
   "source": [
    "## The world has changed since 1749\n",
    "\n",
    "Classical Statistics evolved in the 18th - century:\n",
    "\n",
    "* Data was rare and precious (e.g. Tychobrahes measurements) \n",
    "* Computation was very expensive (hire humans to do it)\n",
    "* Very elaborate theory to avoid computations\n",
    "\n",
    "We live in a different world now:\n",
    "\n",
    "* Abundance of data (measure everything!).\n",
    "* Abundance of computational ressources.\n",
    "* Highly irregular and diverse metric behavior in practice."
   ]
  },
  {
   "cell_type": "markdown",
   "metadata": {
    "slideshow": {
     "slide_type": "slide"
    }
   },
   "source": [
    "##  Revised Example\n",
    "\n",
    "The introduction example translated to out time and domain.\n",
    "\n",
    "<blockquote>\n",
    "An engineer want's to know how many requests were serviced in less then 100ms each hour.\n",
    "<ol>\n",
    "<li>He measures the latencies of all requests in an hour.</li>\n",
    "<li>He computes the ratio of samples that are less then 100ms (Inverse Percentile).</li>\n",
    "</ol>\n",
    "Done.\n",
    "</blockquote>"
   ]
  },
  {
   "cell_type": "markdown",
   "metadata": {
    "slideshow": {
     "slide_type": "slide"
    }
   },
   "source": [
    "# Plan for today\n",
    "\n",
    "## Part 1: Theory\n",
    "\n",
    "Covers the statistical basics, that are needed for the applications:\n",
    "\n",
    "1. Classical Summary Statistics\n",
    "   - Averages\n",
    "   - Deviation Measures\n",
    "   - Variance and Correlation\n",
    "\n",
    "2. Ordering Statistics\n",
    "   - Inverse Percentiles\n",
    "   - Percentiles, Median\n",
    "   - IQR\n",
    "   - Truncated means\n",
    "\n",
    "3. Histograms\n",
    "   - Construction\n",
    "   - Binning\n",
    "   - Aggregation\n",
    "\n",
    "4. Exercises!\n",
    "\n",
    "## Part 2: Practice Example: API Monitoring\n",
    "\n",
    "We will go throught the example of API monitoring \n",
    "\n",
    "1. A view on Line Graphs\n",
    "\n",
    "2. Monitoring APIs\n",
    "\n",
    "3. "
   ]
  },
  {
   "cell_type": "code",
   "execution_count": null,
   "metadata": {
    "collapsed": true
   },
   "outputs": [],
   "source": []
  }
 ],
 "metadata": {
  "anaconda-cloud": {},
  "celltoolbar": "Slideshow",
  "kernelspec": {
   "display_name": "Python [Root]",
   "language": "python",
   "name": "Python [Root]"
  },
  "language_info": {
   "codemirror_mode": {
    "name": "ipython",
    "version": 2
   },
   "file_extension": ".py",
   "mimetype": "text/x-python",
   "name": "python",
   "nbconvert_exporter": "python",
   "pygments_lexer": "ipython2",
   "version": "2.7.11"
  }
 },
 "nbformat": 4,
 "nbformat_minor": 0
}
