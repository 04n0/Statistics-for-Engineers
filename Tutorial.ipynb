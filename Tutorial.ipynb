{
 "cells": [
  {
   "cell_type": "markdown",
   "metadata": {
    "slideshow": {
     "slide_type": "slide"
    }
   },
   "source": [
    "# Statistics for Engineers\n",
    "\n",
    "Tuorial at SRECon 2015\n",
    "\n",
    "by Heinrich Hartmann (<heinrich.hartmann@circonus.com> / Twitter: [@HeinrichHartman](http://twitter.com/HeinrichHartman))"
   ]
  },
  {
   "cell_type": "markdown",
   "metadata": {
    "slideshow": {
     "slide_type": "slide"
    }
   },
   "source": [
    "## Heinrich Hartmann\n",
    "\n",
    "* Twitter: [@HeinrichHartman](https://twitter.com/HeinrichHartman)\n",
    "* Blog: [HeinrichHartmann.com](https://heinrichhartmann.com)\n",
    "\n",
    "### Bio\n",
    "\n",
    "* Phd in pure Mathematics (Mainz, Bonn, Oxford)\n",
    "\n",
    "* Postdoc in IT (Koblenz)\n",
    "\n",
    "* Freelance Consultant\n",
    "\n",
    "* Data Scientist at Circonus.com\n",
    "\n",
    "<img src=\"Circonus_Logo.png\" style=\"margin-right:auto; margin-left:auto\">\n",
    "\n",
    "<img src=\"me.jpg\" width=\"200px\" style=\"margin-right:auto; margin-left:auto\">"
   ]
  },
  {
   "cell_type": "markdown",
   "metadata": {
    "slideshow": {
     "slide_type": "slide"
    }
   },
   "source": [
    "# Outline\n",
    "\n",
    "1. Mathematical Background\n",
    "\n",
    "2. Hands on Data Handling and Visualization\n",
    "\n",
    "3. Advanced Techniques\n"
   ]
  },
  {
   "cell_type": "markdown",
   "metadata": {
    "slideshow": {
     "slide_type": "slide"
    }
   },
   "source": [
    "## Analyzing a Histogram\n",
    "\n",
    "We got two histogram of latencies from `dtrace`. We want to compare those histograms and find structural changes."
   ]
  },
  {
   "cell_type": "code",
   "execution_count": 140,
   "metadata": {
    "collapsed": false
   },
   "outputs": [
    {
     "name": "stdout",
     "output_type": "stream",
     "text": [
      "           value  ------------- Distribution ------------- count    \n",
      "            4096 |                                         0        \n",
      "            8192 |@                                        9        \n",
      "           16384 |@@@@@@@@@@@@@@@@@@@@@                    298      \n",
      "           32768 |@@                                       28       \n",
      "           65536 |@                                        12       \n",
      "          131072 |@@                                       22       \n",
      "          262144 |@                                        16       \n",
      "          524288 |@                                        8        \n",
      "         1048576 |                                         7        \n",
      "           value  ------------- Distribution ------------- count    \n",
      "            4096 |                                         0        \n",
      "            8192 |                                         407      \n",
      "           16384 |@@@@@@@@@@@@@@@@@@@@@@@@@@               63572    \n",
      "           32768 |@@@@@@@@@@@                              26842    \n",
      "           65536 |@@                                       4898     \n",
      "          131072 |                                         970      \n",
      "          262144 |                                         527      \n",
      "          524288 |                                         326      \n",
      "         1048576 |                                         159      \n"
     ]
    }
   ],
   "source": [
    "!cat dtrace_histogram_a.txt | head\n",
    "!cat dtrace_histogram_b.txt | head"
   ]
  },
  {
   "cell_type": "markdown",
   "metadata": {
    "slideshow": {
     "slide_type": "fragment"
    }
   },
   "source": [
    "The first task is to clean the data and convert it to a csv file.\n",
    "UNIX tools are a good choice here."
   ]
  },
  {
   "cell_type": "code",
   "execution_count": 138,
   "metadata": {
    "collapsed": false,
    "slideshow": {
     "slide_type": "subslide"
    }
   },
   "outputs": [
    {
     "name": "stdout",
     "output_type": "stream",
     "text": [
      "            4096 |                                         0        \r\n",
      "            8192 |@                                        9        \r\n",
      "           16384 |@@@@@@@@@@@@@@@@@@@@@                    298      \r\n",
      "           32768 |@@                                       28       \r\n",
      "           65536 |@                                        12       \r\n",
      "          131072 |@@                                       22       \r\n",
      "          262144 |@                                        16       \r\n",
      "          524288 |@                                        8        \r\n",
      "         1048576 |                                         7        \r\n",
      "         2097152 |                                         5        \r\n",
      "         4194304 |@                                        8        \r\n",
      "         8388608 |@                                        11       \r\n",
      "        16777216 |@@                                       22       \r\n",
      "        33554432 |@                                        21       \r\n",
      "        67108864 |                                         7        \r\n",
      "       134217728 |                                         4        \r\n",
      "       268435456 |                                         4        \r\n",
      "       536870912 |@                                        14       \r\n",
      "      1073741824 |@@                                       36       \r\n",
      "      2147483648 |@                                        18       \r\n",
      "      4294967296 |@@                                       26       \r\n",
      "      8589934592 |                                         0        \r\n",
      "     17179869184 |                                         0        \r\n",
      "     34359738368 |                                         1        \r\n",
      "     68719476736 |                                         0\r\n"
     ]
    }
   ],
   "source": [
    "# Get rid of the headder row\n",
    "!cat dtrace_histogram_a.txt | tail -n +2"
   ]
  },
  {
   "cell_type": "code",
   "execution_count": 141,
   "metadata": {
    "collapsed": false,
    "slideshow": {
     "slide_type": "subslide"
    }
   },
   "outputs": [
    {
     "name": "stdout",
     "output_type": "stream",
     "text": [
      "4096,0\r\n",
      "8192,9\r\n",
      "16384,298\r\n",
      "32768,28\r\n",
      "65536,12\r\n",
      "131072,22\r\n",
      "262144,16\r\n",
      "524288,8\r\n",
      "1048576,7\r\n",
      "2097152,5\r\n",
      "4194304,8\r\n",
      "8388608,11\r\n",
      "16777216,22\r\n",
      "33554432,21\r\n",
      "67108864,7\r\n",
      "134217728,4\r\n",
      "268435456,4\r\n",
      "536870912,14\r\n",
      "1073741824,36\r\n",
      "2147483648,18\r\n",
      "4294967296,26\r\n",
      "8589934592,0\r\n",
      "17179869184,0\r\n",
      "34359738368,1\r\n",
      "68719476736,0\r\n"
     ]
    }
   ],
   "source": [
    "# Isolate digits using regular expressions\n",
    "!cat dtrace_histogram_a.txt | tail -n +2 | perl -pe 's/^\\D*(\\d+)\\D*(\\d+)\\D*$/\\1,\\2\\n/'"
   ]
  },
  {
   "cell_type": "code",
   "execution_count": 136,
   "metadata": {
    "collapsed": false,
    "slideshow": {
     "slide_type": "subslide"
    }
   },
   "outputs": [],
   "source": [
    "!cat dtrace_histogram_a.txt | tail -n +2 | perl -pe 's/^\\D*(\\d+)\\D*(\\d+)\\D*$/\\1,\\2\\n/' > dtrace_histogram_a.txt.csv"
   ]
  },
  {
   "cell_type": "code",
   "execution_count": 135,
   "metadata": {
    "collapsed": false
   },
   "outputs": [
    {
     "name": "stdout",
     "output_type": "stream",
     "text": [
      "4096,0\r\n",
      "8192,9\r\n",
      "16384,298\r\n",
      "32768,28\r\n",
      "65536,12\r\n",
      "131072,22\r\n",
      "262144,16\r\n",
      "524288,8\r\n",
      "1048576,7\r\n",
      "2097152,5\r\n"
     ]
    }
   ],
   "source": [
    "!head dtrace_histogram_a.txt.csv"
   ]
  },
  {
   "cell_type": "markdown",
   "metadata": {
    "slideshow": {
     "slide_type": "slide"
    }
   },
   "source": [
    "Now load the data into the tool of your choice!\n",
    "\n",
    "(Note: This might well be Excel, if you like it.)"
   ]
  },
  {
   "cell_type": "code",
   "execution_count": 91,
   "metadata": {
    "collapsed": true
   },
   "outputs": [],
   "source": [
    "%matplotlib inline\n",
    "import numpy as np\n",
    "from matplotlib import pyplot as plt"
   ]
  },
  {
   "cell_type": "code",
   "execution_count": 120,
   "metadata": {
    "collapsed": false
   },
   "outputs": [],
   "source": [
    "a = np.loadtxt(\"dtrace_histogram_a.txt.csv\", delimiter=\",\", ndmin=2)\n",
    "bins,counts = a.T # transpose the data to isolate columns"
   ]
  },
  {
   "cell_type": "code",
   "execution_count": 128,
   "metadata": {
    "collapsed": false,
    "slideshow": {
     "slide_type": "slide"
    }
   },
   "outputs": [
    {
     "data": {
      "text/plain": [
       "<Container object of 25 artists>"
      ]
     },
     "execution_count": 128,
     "metadata": {},
     "output_type": "execute_result"
    },
    {
     "data": {
      "image/png": "[encoded data removed]",
      "text/plain": [
       "<matplotlib.figure.Figure at 0x7fb246826fd0>"
      ]
     },
     "metadata": {},
     "output_type": "display_data"
    }
   ],
   "source": [
    "plt.bar(bins, counts, width=10**9)\n"
   ]
  },
  {
   "cell_type": "code",
   "execution_count": 122,
   "metadata": {
    "collapsed": false,
    "slideshow": {
     "slide_type": "slide"
    }
   },
   "outputs": [
    {
     "data": {
      "text/plain": [
       "<Container object of 25 artists>"
      ]
     },
     "execution_count": 122,
     "metadata": {},
     "output_type": "execute_result"
    },
    {
     "data": {
      "image/png": "[encoded data removed]",
      "text/plain": [
       "<matplotlib.figure.Figure at 0x7fb2470e7050>"
      ]
     },
     "metadata": {},
     "output_type": "display_data"
    }
   ],
   "source": [
    "# Take logs on the x-axis\n",
    "plt.bar([np.log(x) for x in bins], counts)"
   ]
  },
  {
   "cell_type": "code",
   "execution_count": null,
   "metadata": {
    "collapsed": true
   },
   "outputs": [],
   "source": []
  }
 ],
 "metadata": {
  "celltoolbar": "Slideshow",
  "kernelspec": {
   "display_name": "Python 2",
   "language": "python",
   "name": "python2"
  },
  "language_info": {
   "codemirror_mode": {
    "name": "ipython",
    "version": 2
   },
   "file_extension": ".py",
   "mimetype": "text/x-python",
   "name": "python",
   "nbconvert_exporter": "python",
   "pygments_lexer": "ipython2",
   "version": "2.7.9"
  }
 },
 "nbformat": 4,
 "nbformat_minor": 0
}
